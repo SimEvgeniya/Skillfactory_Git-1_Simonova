{
 "cells": [
  {
   "cell_type": "markdown",
   "metadata": {},
   "source": [
    "## Задача: упростить алгоритм нахождения числа за меньшее количество попыток."
   ]
  },
  {
   "cell_type": "code",
   "execution_count": 1,
   "metadata": {},
   "outputs": [
    {
     "name": "stdout",
     "output_type": "stream",
     "text": [
      "Ваш алгоритм угадывает число в среднем за 5 попыток\n"
     ]
    },
    {
     "data": {
      "text/plain": [
       "5"
      ]
     },
     "execution_count": 1,
     "metadata": {},
     "output_type": "execute_result"
    }
   ],
   "source": [
    "import numpy as np                    \n",
    "import random                          \n",
    "\n",
    "def game_core_v2(number):\n",
    "    '''Применяем бинарный поиск для поиска искомого числа. Устанавливаем левую и правую границу нашего \n",
    "    интервала чисел, определяем середину области поиска между границами, и сужаем границы поиска. \n",
    "    Функция принимает загаданное число и возвращает число попыток'''\n",
    "    count = 0                                          \n",
    "    left = 1 \n",
    "    right = 100\n",
    "    while (right - left > 2):          # Если разница равна 1, то загаданное число среднее между границами\n",
    "        count += 1\n",
    "        middle = (left + right) // 2   # Середина области поиска, берем только целую часть от деления\n",
    "        if middle >= number:           \n",
    "            right = middle             \n",
    "        else:                          \n",
    "            left = middle              \n",
    "        if right == number or left == number: \n",
    "            break                      # Если одна из границ = загаданное число, прерываем цикл                  \n",
    "    \n",
    "    return(count)\n",
    "\n",
    "        \n",
    "def score_game(game_core_v2):\n",
    "    '''Запускаем игру 1000 раз, чтоб узнать как быстро игра угадывает число'''\n",
    "    count_ls = []\n",
    "    np.random.seed(1)  # фиксируем RANDOM SEED, чтобы ваш эксперимент был воспроизводим!\n",
    "    random_array = np.random.randint(1,100, size=(1000))\n",
    "    for number in random_array:\n",
    "        count_ls.append(game_core_v2(number))\n",
    "    score = int(np.mean(count_ls))\n",
    "    \n",
    "    print(f\"Ваш алгоритм угадывает число в среднем за {score} попыток\")\n",
    "    return(score)\n",
    "\n",
    "\n",
    "score_game(game_core_v2)"
   ]
  },
  {
   "cell_type": "code",
   "execution_count": null,
   "metadata": {},
   "outputs": [],
   "source": []
  }
 ],
 "metadata": {
  "kernelspec": {
   "display_name": "Python 3",
   "language": "python",
   "name": "python3"
  },
  "language_info": {
   "codemirror_mode": {
    "name": "ipython",
    "version": 3
   },
   "file_extension": ".py",
   "mimetype": "text/x-python",
   "name": "python",
   "nbconvert_exporter": "python",
   "pygments_lexer": "ipython3",
   "version": "3.7.6"
  }
 },
 "nbformat": 4,
 "nbformat_minor": 4
}
