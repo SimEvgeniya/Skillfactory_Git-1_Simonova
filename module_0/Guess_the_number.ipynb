{
 "cells": [
  {
   "cell_type": "markdown",
   "metadata": {},
   "source": [
    "## Задача: упростить алгоритм нахождения числа за меньшее количество попыток."
   ]
  },
  {
   "cell_type": "code",
   "execution_count": 1,
   "metadata": {},
   "outputs": [
    {
     "name": "stdout",
     "output_type": "stream",
     "text": [
      "Ваш алгоритм угадывает число в среднем за 5 попыток\n"
     ]
    },
    {
     "data": {
      "text/plain": [
       "5"
      ]
     },
     "execution_count": 1,
     "metadata": {},
     "output_type": "execute_result"
    }
   ],
   "source": [
    "import numpy as np\n",
    "import random\n",
    "\n",
    "\n",
    "def game_core_v2(number):\n",
    "    '''Применяем бинарный поиск для поиска искомого числа. Устанавливаем левую \n",
    "    и правую границу нашего интервала чисел, определяем середину области \n",
    "    поиска между границами, и сужаем границы поиска. \n",
    "    Функция принимает загаданное число и возвращает число попыток'''\n",
    "    count = 0\n",
    "    left = 1\n",
    "    right = 100\n",
    "    while (right - left > 2): \n",
    "        # Если разница равна 1, то загаданное число среднее между границами\n",
    "        count += 1\n",
    "        # Середина области поиска, берем только целую часть от деления\n",
    "        middle = (left + right) // 2\n",
    "        if middle >= number:\n",
    "            right = middle\n",
    "        else:\n",
    "            left = middle\n",
    "        if right == number or left == number:\n",
    "            break \n",
    "            # Если одна из границ = загаданное число, прерываем цикл\n",
    "\n",
    "    return(count)\n",
    "\n",
    "\n",
    "def score_game(game_core_v2):\n",
    "    '''Запускаем игру 1000 раз, чтоб узнать как быстро игра угадывает число'''\n",
    "    count_ls = []\n",
    "    # фиксируем RANDOM SEED, чтобы ваш эксперимент был воспроизводим!\n",
    "    np.random.seed(1)\n",
    "    random_array = np.random.randint(1, 101, size=(1000))\n",
    "    for number in random_array:\n",
    "        count_ls.append(game_core_v2(number))\n",
    "    score = int(np.mean(count_ls))\n",
    "\n",
    "    print(f\"Ваш алгоритм угадывает число в среднем за {score} попыток\")\n",
    "    return(score)\n",
    "\n",
    "\n",
    "score_game(game_core_v2)"
   ]
  },
  {
   "cell_type": "code",
   "execution_count": null,
   "metadata": {},
   "outputs": [],
   "source": []
  }
 ],
 "metadata": {
  "hide_input": false,
  "kernelspec": {
   "display_name": "Python 3",
   "language": "python",
   "name": "python3"
  },
  "language_info": {
   "codemirror_mode": {
    "name": "ipython",
    "version": 3
   },
   "file_extension": ".py",
   "mimetype": "text/x-python",
   "name": "python",
   "nbconvert_exporter": "python",
   "pygments_lexer": "ipython3",
   "version": "3.7.6"
  },
  "latex_envs": {
   "LaTeX_envs_menu_present": true,
   "autoclose": false,
   "autocomplete": true,
   "bibliofile": "biblio.bib",
   "cite_by": "apalike",
   "current_citInitial": 1,
   "eqLabelWithNumbers": true,
   "eqNumInitial": 1,
   "hotkeys": {
    "equation": "Ctrl-E",
    "itemize": "Ctrl-I"
   },
   "labels_anchors": false,
   "latex_user_defs": false,
   "report_style_numbering": false,
   "user_envs_cfg": false
  },
  "toc": {
   "base_numbering": 1,
   "nav_menu": {},
   "number_sections": true,
   "sideBar": true,
   "skip_h1_title": false,
   "title_cell": "Table of Contents",
   "title_sidebar": "Contents",
   "toc_cell": false,
   "toc_position": {},
   "toc_section_display": true,
   "toc_window_display": false
  }
 },
 "nbformat": 4,
 "nbformat_minor": 4
}
