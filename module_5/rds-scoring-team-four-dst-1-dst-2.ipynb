{
 "cells": [
  {
   "cell_type": "markdown",
   "metadata": {
    "papermill": {
     "duration": 0.059489,
     "end_time": "2020-12-26T11:16:26.951392",
     "exception": false,
     "start_time": "2020-12-26T11:16:26.891903",
     "status": "completed"
    },
    "tags": []
   },
   "source": [
    "# rds-scoring_team-four_dst-1_dst-2\n",
    "\n",
    "# [SF-DST] Credit Scoring\n"
   ]
  },
  {
   "cell_type": "markdown",
   "metadata": {
    "papermill": {
     "duration": 0.059456,
     "end_time": "2020-12-26T11:16:27.068913",
     "exception": false,
     "start_time": "2020-12-26T11:16:27.009457",
     "status": "completed"
    },
    "tags": []
   },
   "source": [
    "### Импорт библиотек"
   ]
  },
  {
   "cell_type": "code",
   "execution_count": 1,
   "metadata": {
    "ExecuteTime": {
     "end_time": "2020-12-26T08:33:26.685116Z",
     "start_time": "2020-12-26T08:33:24.584533Z"
    },
    "execution": {
     "iopub.execute_input": "2020-12-26T11:16:27.187462Z",
     "iopub.status.busy": "2020-12-26T11:16:27.186780Z",
     "iopub.status.idle": "2020-12-26T11:16:28.618955Z",
     "shell.execute_reply": "2020-12-26T11:16:28.617590Z"
    },
    "papermill": {
     "duration": 1.492006,
     "end_time": "2020-12-26T11:16:28.619081",
     "exception": false,
     "start_time": "2020-12-26T11:16:27.127075",
     "status": "completed"
    },
    "tags": []
   },
   "outputs": [
    {
     "name": "stdout",
     "output_type": "stream",
     "text": [
      "/kaggle/input/sf-dst-scoring/sample_submission.csv\n",
      "/kaggle/input/sf-dst-scoring/train.csv\n",
      "/kaggle/input/sf-dst-scoring/test.csv\n"
     ]
    }
   ],
   "source": [
    "import warnings\n",
    "from pandas import Series\n",
    "import pandas as pd\n",
    "import numpy as np\n",
    "import collections\n",
    "\n",
    "import matplotlib.pyplot as plt\n",
    "import seaborn as sns\n",
    "\n",
    "from sklearn.feature_selection import f_classif, mutual_info_classif\n",
    "from sklearn.preprocessing import LabelEncoder, OneHotEncoder, StandardScaler\n",
    "from sklearn.preprocessing import PolynomialFeatures\n",
    "\n",
    "from sklearn.model_selection import train_test_split\n",
    "from sklearn.linear_model import LogisticRegression\n",
    "\n",
    "from sklearn.model_selection import GridSearchCV\n",
    "\n",
    "from sklearn.metrics import confusion_matrix\n",
    "from sklearn.metrics import auc, roc_auc_score, roc_curve\n",
    "from sklearn.metrics import recall_score, precision_score, f1_score, log_loss\n",
    "from sklearn.metrics import accuracy_score\n",
    "\n",
    "\n",
    "import matplotlib\n",
    "plt.style.use('ggplot')\n",
    "%matplotlib inline\n",
    "matplotlib.rcParams['figure.figsize'] = (12, 8)\n",
    "\n",
    "pd.set_option('display.max_rows', 50)  # показывать больше строк\n",
    "pd.set_option('display.max_columns', 50)  # показывать больше колонок\n",
    "\n",
    "import os\n",
    "for dirname, _, filenames in os.walk('/kaggle/input'):\n",
    "    for filename in filenames:\n",
    "        print(os.path.join(dirname, filename))\n",
    "\n",
    "warnings.filterwarnings(\"ignore\")  # Убирает некритические сообщения"
   ]
  },
  {
   "cell_type": "markdown",
   "metadata": {
    "papermill": {
     "duration": 0.058254,
     "end_time": "2020-12-26T11:16:28.737822",
     "exception": false,
     "start_time": "2020-12-26T11:16:28.679568",
     "status": "completed"
    },
    "tags": []
   },
   "source": [
    "### Загрузка и изучение датасета"
   ]
  },
  {
   "cell_type": "code",
   "execution_count": 2,
   "metadata": {
    "ExecuteTime": {
     "end_time": "2020-12-26T08:33:27.144813Z",
     "start_time": "2020-12-26T08:33:26.688131Z"
    },
    "execution": {
     "iopub.execute_input": "2020-12-26T11:16:28.861705Z",
     "iopub.status.busy": "2020-12-26T11:16:28.861037Z",
     "iopub.status.idle": "2020-12-26T11:16:29.178609Z",
     "shell.execute_reply": "2020-12-26T11:16:29.177945Z"
    },
    "papermill": {
     "duration": 0.382759,
     "end_time": "2020-12-26T11:16:29.178723",
     "exception": false,
     "start_time": "2020-12-26T11:16:28.795964",
     "status": "completed"
    },
    "tags": []
   },
   "outputs": [],
   "source": [
    "#train = pd.read_csv('./train.csv')\n",
    "#test = pd.read_csv('./test.csv')\n",
    "#sample_submission = pd.read_csv('./sample_submission.csv')\n",
    "\n",
    "train = pd.read_csv('/kaggle/input/sf-dst-scoring/train.csv')\n",
    "test= pd.read_csv('/kaggle/input/sf-dst-scoring/test.csv')\n",
    "sample_submission = pd.read_csv('/kaggle/input/sf-dst-scoring/sample_submission.csv')"
   ]
  },
  {
   "cell_type": "code",
   "execution_count": 3,
   "metadata": {
    "ExecuteTime": {
     "end_time": "2020-12-26T08:33:27.238555Z",
     "start_time": "2020-12-26T08:33:27.150791Z"
    },
    "execution": {
     "iopub.execute_input": "2020-12-26T11:16:29.300676Z",
     "iopub.status.busy": "2020-12-26T11:16:29.299723Z",
     "iopub.status.idle": "2020-12-26T11:16:29.358508Z",
     "shell.execute_reply": "2020-12-26T11:16:29.359070Z"
    },
    "papermill": {
     "duration": 0.12001,
     "end_time": "2020-12-26T11:16:29.359235",
     "exception": false,
     "start_time": "2020-12-26T11:16:29.239225",
     "status": "completed"
    },
    "tags": []
   },
   "outputs": [
    {
     "name": "stdout",
     "output_type": "stream",
     "text": [
      "Размерность тренировочного датасета:  (73799, 19)\n"
     ]
    },
    {
     "data": {
      "text/html": [
       "<div>\n",
       "<style scoped>\n",
       "    .dataframe tbody tr th:only-of-type {\n",
       "        vertical-align: middle;\n",
       "    }\n",
       "\n",
       "    .dataframe tbody tr th {\n",
       "        vertical-align: top;\n",
       "    }\n",
       "\n",
       "    .dataframe thead th {\n",
       "        text-align: right;\n",
       "    }\n",
       "</style>\n",
       "<table border=\"1\" class=\"dataframe\">\n",
       "  <thead>\n",
       "    <tr style=\"text-align: right;\">\n",
       "      <th></th>\n",
       "      <th>client_id</th>\n",
       "      <th>app_date</th>\n",
       "      <th>education</th>\n",
       "      <th>sex</th>\n",
       "      <th>age</th>\n",
       "      <th>car</th>\n",
       "      <th>car_type</th>\n",
       "      <th>decline_app_cnt</th>\n",
       "      <th>good_work</th>\n",
       "      <th>score_bki</th>\n",
       "      <th>bki_request_cnt</th>\n",
       "      <th>region_rating</th>\n",
       "      <th>home_address</th>\n",
       "      <th>work_address</th>\n",
       "      <th>income</th>\n",
       "      <th>sna</th>\n",
       "      <th>first_time</th>\n",
       "      <th>foreign_passport</th>\n",
       "      <th>default</th>\n",
       "    </tr>\n",
       "  </thead>\n",
       "  <tbody>\n",
       "    <tr>\n",
       "      <th>0</th>\n",
       "      <td>25905</td>\n",
       "      <td>01FEB2014</td>\n",
       "      <td>SCH</td>\n",
       "      <td>M</td>\n",
       "      <td>62</td>\n",
       "      <td>Y</td>\n",
       "      <td>Y</td>\n",
       "      <td>0</td>\n",
       "      <td>0</td>\n",
       "      <td>-2.008753</td>\n",
       "      <td>1</td>\n",
       "      <td>50</td>\n",
       "      <td>1</td>\n",
       "      <td>2</td>\n",
       "      <td>18000</td>\n",
       "      <td>4</td>\n",
       "      <td>1</td>\n",
       "      <td>N</td>\n",
       "      <td>0</td>\n",
       "    </tr>\n",
       "    <tr>\n",
       "      <th>1</th>\n",
       "      <td>63161</td>\n",
       "      <td>12MAR2014</td>\n",
       "      <td>SCH</td>\n",
       "      <td>F</td>\n",
       "      <td>59</td>\n",
       "      <td>N</td>\n",
       "      <td>N</td>\n",
       "      <td>0</td>\n",
       "      <td>0</td>\n",
       "      <td>-1.532276</td>\n",
       "      <td>3</td>\n",
       "      <td>50</td>\n",
       "      <td>2</td>\n",
       "      <td>3</td>\n",
       "      <td>19000</td>\n",
       "      <td>4</td>\n",
       "      <td>1</td>\n",
       "      <td>N</td>\n",
       "      <td>0</td>\n",
       "    </tr>\n",
       "    <tr>\n",
       "      <th>2</th>\n",
       "      <td>25887</td>\n",
       "      <td>01FEB2014</td>\n",
       "      <td>SCH</td>\n",
       "      <td>M</td>\n",
       "      <td>25</td>\n",
       "      <td>Y</td>\n",
       "      <td>N</td>\n",
       "      <td>2</td>\n",
       "      <td>0</td>\n",
       "      <td>-1.408142</td>\n",
       "      <td>1</td>\n",
       "      <td>80</td>\n",
       "      <td>1</td>\n",
       "      <td>2</td>\n",
       "      <td>30000</td>\n",
       "      <td>1</td>\n",
       "      <td>4</td>\n",
       "      <td>Y</td>\n",
       "      <td>0</td>\n",
       "    </tr>\n",
       "  </tbody>\n",
       "</table>\n",
       "</div>"
      ],
      "text/plain": [
       "   client_id   app_date education sex  age car car_type  decline_app_cnt  \\\n",
       "0      25905  01FEB2014       SCH   M   62   Y        Y                0   \n",
       "1      63161  12MAR2014       SCH   F   59   N        N                0   \n",
       "2      25887  01FEB2014       SCH   M   25   Y        N                2   \n",
       "\n",
       "   good_work  score_bki  bki_request_cnt  region_rating  home_address  \\\n",
       "0          0  -2.008753                1             50             1   \n",
       "1          0  -1.532276                3             50             2   \n",
       "2          0  -1.408142                1             80             1   \n",
       "\n",
       "   work_address  income  sna  first_time foreign_passport  default  \n",
       "0             2   18000    4           1                N        0  \n",
       "1             3   19000    4           1                N        0  \n",
       "2             2   30000    1           4                Y        0  "
      ]
     },
     "metadata": {},
     "output_type": "display_data"
    },
    {
     "name": "stdout",
     "output_type": "stream",
     "text": [
      "Размерность тестового датасета:  (36349, 18)\n"
     ]
    },
    {
     "data": {
      "text/html": [
       "<div>\n",
       "<style scoped>\n",
       "    .dataframe tbody tr th:only-of-type {\n",
       "        vertical-align: middle;\n",
       "    }\n",
       "\n",
       "    .dataframe tbody tr th {\n",
       "        vertical-align: top;\n",
       "    }\n",
       "\n",
       "    .dataframe thead th {\n",
       "        text-align: right;\n",
       "    }\n",
       "</style>\n",
       "<table border=\"1\" class=\"dataframe\">\n",
       "  <thead>\n",
       "    <tr style=\"text-align: right;\">\n",
       "      <th></th>\n",
       "      <th>client_id</th>\n",
       "      <th>app_date</th>\n",
       "      <th>education</th>\n",
       "      <th>sex</th>\n",
       "      <th>age</th>\n",
       "      <th>car</th>\n",
       "      <th>car_type</th>\n",
       "      <th>decline_app_cnt</th>\n",
       "      <th>good_work</th>\n",
       "      <th>score_bki</th>\n",
       "      <th>bki_request_cnt</th>\n",
       "      <th>region_rating</th>\n",
       "      <th>home_address</th>\n",
       "      <th>work_address</th>\n",
       "      <th>income</th>\n",
       "      <th>sna</th>\n",
       "      <th>first_time</th>\n",
       "      <th>foreign_passport</th>\n",
       "    </tr>\n",
       "  </thead>\n",
       "  <tbody>\n",
       "    <tr>\n",
       "      <th>0</th>\n",
       "      <td>74835</td>\n",
       "      <td>22MAR2014</td>\n",
       "      <td>GRD</td>\n",
       "      <td>M</td>\n",
       "      <td>29</td>\n",
       "      <td>Y</td>\n",
       "      <td>Y</td>\n",
       "      <td>0</td>\n",
       "      <td>0</td>\n",
       "      <td>-2.271884</td>\n",
       "      <td>3</td>\n",
       "      <td>50</td>\n",
       "      <td>1</td>\n",
       "      <td>2</td>\n",
       "      <td>50000</td>\n",
       "      <td>1</td>\n",
       "      <td>4</td>\n",
       "      <td>N</td>\n",
       "    </tr>\n",
       "    <tr>\n",
       "      <th>1</th>\n",
       "      <td>17527</td>\n",
       "      <td>24JAN2014</td>\n",
       "      <td>SCH</td>\n",
       "      <td>F</td>\n",
       "      <td>39</td>\n",
       "      <td>N</td>\n",
       "      <td>N</td>\n",
       "      <td>5</td>\n",
       "      <td>0</td>\n",
       "      <td>-1.504999</td>\n",
       "      <td>2</td>\n",
       "      <td>50</td>\n",
       "      <td>1</td>\n",
       "      <td>2</td>\n",
       "      <td>5000</td>\n",
       "      <td>4</td>\n",
       "      <td>3</td>\n",
       "      <td>N</td>\n",
       "    </tr>\n",
       "    <tr>\n",
       "      <th>2</th>\n",
       "      <td>75683</td>\n",
       "      <td>23MAR2014</td>\n",
       "      <td>UGR</td>\n",
       "      <td>M</td>\n",
       "      <td>50</td>\n",
       "      <td>Y</td>\n",
       "      <td>Y</td>\n",
       "      <td>0</td>\n",
       "      <td>0</td>\n",
       "      <td>-1.691339</td>\n",
       "      <td>1</td>\n",
       "      <td>50</td>\n",
       "      <td>1</td>\n",
       "      <td>2</td>\n",
       "      <td>30000</td>\n",
       "      <td>1</td>\n",
       "      <td>3</td>\n",
       "      <td>Y</td>\n",
       "    </tr>\n",
       "  </tbody>\n",
       "</table>\n",
       "</div>"
      ],
      "text/plain": [
       "   client_id   app_date education sex  age car car_type  decline_app_cnt  \\\n",
       "0      74835  22MAR2014       GRD   M   29   Y        Y                0   \n",
       "1      17527  24JAN2014       SCH   F   39   N        N                5   \n",
       "2      75683  23MAR2014       UGR   M   50   Y        Y                0   \n",
       "\n",
       "   good_work  score_bki  bki_request_cnt  region_rating  home_address  \\\n",
       "0          0  -2.271884                3             50             1   \n",
       "1          0  -1.504999                2             50             1   \n",
       "2          0  -1.691339                1             50             1   \n",
       "\n",
       "   work_address  income  sna  first_time foreign_passport  \n",
       "0             2   50000    1           4                N  \n",
       "1             2    5000    4           3                N  \n",
       "2             2   30000    1           3                Y  "
      ]
     },
     "metadata": {},
     "output_type": "display_data"
    },
    {
     "name": "stdout",
     "output_type": "stream",
     "text": [
      "Размерность sample_submission:  (24354, 2)\n"
     ]
    },
    {
     "data": {
      "text/html": [
       "<div>\n",
       "<style scoped>\n",
       "    .dataframe tbody tr th:only-of-type {\n",
       "        vertical-align: middle;\n",
       "    }\n",
       "\n",
       "    .dataframe tbody tr th {\n",
       "        vertical-align: top;\n",
       "    }\n",
       "\n",
       "    .dataframe thead th {\n",
       "        text-align: right;\n",
       "    }\n",
       "</style>\n",
       "<table border=\"1\" class=\"dataframe\">\n",
       "  <thead>\n",
       "    <tr style=\"text-align: right;\">\n",
       "      <th></th>\n",
       "      <th>client_id</th>\n",
       "      <th>default</th>\n",
       "    </tr>\n",
       "  </thead>\n",
       "  <tbody>\n",
       "    <tr>\n",
       "      <th>0</th>\n",
       "      <td>66799</td>\n",
       "      <td>0.441004</td>\n",
       "    </tr>\n",
       "    <tr>\n",
       "      <th>1</th>\n",
       "      <td>25379</td>\n",
       "      <td>0.138092</td>\n",
       "    </tr>\n",
       "    <tr>\n",
       "      <th>2</th>\n",
       "      <td>28825</td>\n",
       "      <td>0.373370</td>\n",
       "    </tr>\n",
       "  </tbody>\n",
       "</table>\n",
       "</div>"
      ],
      "text/plain": [
       "   client_id   default\n",
       "0      66799  0.441004\n",
       "1      25379  0.138092\n",
       "2      28825  0.373370"
      ]
     },
     "metadata": {},
     "output_type": "display_data"
    }
   ],
   "source": [
    "pd.set_option('display.max_columns', None)\n",
    "print('Размерность тренировочного датасета: ', train.shape)\n",
    "display(train.head(3))\n",
    "print('Размерность тестового датасета: ', test.shape)\n",
    "display(test.head(3))\n",
    "print('Размерность sample_submission: ', sample_submission.shape)\n",
    "display(sample_submission.head(3))"
   ]
  },
  {
   "cell_type": "code",
   "execution_count": 4,
   "metadata": {
    "ExecuteTime": {
     "end_time": "2020-12-26T08:33:29.802797Z",
     "start_time": "2020-12-26T08:33:27.24156Z"
    },
    "execution": {
     "iopub.execute_input": "2020-12-26T11:16:29.496228Z",
     "iopub.status.busy": "2020-12-26T11:16:29.495230Z",
     "iopub.status.idle": "2020-12-26T11:16:32.303711Z",
     "shell.execute_reply": "2020-12-26T11:16:32.304217Z"
    },
    "papermill": {
     "duration": 2.873206,
     "end_time": "2020-12-26T11:16:32.304373",
     "exception": false,
     "start_time": "2020-12-26T11:16:29.431167",
     "status": "completed"
    },
    "tags": []
   },
   "outputs": [],
   "source": [
    "RANDOM_SEED = 42\n",
    "!pip freeze > requirements.txt"
   ]
  },
  {
   "cell_type": "code",
   "execution_count": 5,
   "metadata": {
    "ExecuteTime": {
     "end_time": "2020-12-26T08:33:29.818756Z",
     "start_time": "2020-12-26T08:33:29.805789Z"
    },
    "execution": {
     "iopub.execute_input": "2020-12-26T11:16:32.434544Z",
     "iopub.status.busy": "2020-12-26T11:16:32.433625Z",
     "iopub.status.idle": "2020-12-26T11:16:32.437434Z",
     "shell.execute_reply": "2020-12-26T11:16:32.437929Z"
    },
    "papermill": {
     "duration": 0.072007,
     "end_time": "2020-12-26T11:16:32.438062",
     "exception": false,
     "start_time": "2020-12-26T11:16:32.366055",
     "status": "completed"
    },
    "tags": []
   },
   "outputs": [
    {
     "data": {
      "text/plain": [
       "Index(['client_id', 'app_date', 'education', 'sex', 'age', 'car', 'car_type',\n",
       "       'decline_app_cnt', 'good_work', 'score_bki', 'bki_request_cnt',\n",
       "       'region_rating', 'home_address', 'work_address', 'income', 'sna',\n",
       "       'first_time', 'foreign_passport', 'default'],\n",
       "      dtype='object')"
      ]
     },
     "execution_count": 5,
     "metadata": {},
     "output_type": "execute_result"
    }
   ],
   "source": [
    "train.columns"
   ]
  },
  {
   "cell_type": "code",
   "execution_count": 6,
   "metadata": {
    "ExecuteTime": {
     "end_time": "2020-12-26T08:33:29.850685Z",
     "start_time": "2020-12-26T08:33:29.821747Z"
    },
    "execution": {
     "iopub.execute_input": "2020-12-26T11:16:32.566232Z",
     "iopub.status.busy": "2020-12-26T11:16:32.565256Z",
     "iopub.status.idle": "2020-12-26T11:16:32.571030Z",
     "shell.execute_reply": "2020-12-26T11:16:32.571500Z"
    },
    "papermill": {
     "duration": 0.071316,
     "end_time": "2020-12-26T11:16:32.571649",
     "exception": false,
     "start_time": "2020-12-26T11:16:32.500333",
     "status": "completed"
    },
    "tags": []
   },
   "outputs": [
    {
     "data": {
      "text/plain": [
       "Index(['client_id', 'app_date', 'education', 'sex', 'age', 'car', 'car_type',\n",
       "       'decline_app_cnt', 'good_work', 'score_bki', 'bki_request_cnt',\n",
       "       'region_rating', 'home_address', 'work_address', 'income', 'sna',\n",
       "       'first_time', 'foreign_passport'],\n",
       "      dtype='object')"
      ]
     },
     "execution_count": 6,
     "metadata": {},
     "output_type": "execute_result"
    }
   ],
   "source": [
    "test.columns"
   ]
  },
  {
   "cell_type": "markdown",
   "metadata": {
    "papermill": {
     "duration": 0.063079,
     "end_time": "2020-12-26T11:16:32.698047",
     "exception": false,
     "start_time": "2020-12-26T11:16:32.634968",
     "status": "completed"
    },
    "tags": []
   },
   "source": [
    "Описания полей датасета\n",
    "\n",
    "- client_id - идентификатор клиента\n",
    "- education - уровень образования\n",
    "- sex - пол заемщика\n",
    "- age - возраст заемщика\n",
    "- car - флаг наличия автомобиля\n",
    "- car_type - флаг автомобиля иномарки\n",
    "- decline_app_cnt - количество отказанных прошлых заявок\n",
    "- good_work - флаг наличия “хорошей” работы\n",
    "- bki_request_cnt - количество запросов в БКИ\n",
    "- home_address - категоризатор домашнего адреса\n",
    "- work_address - категоризатор рабочего адреса\n",
    "- income - доход заемщика\n",
    "- foreign_passport - наличие загранпаспорта\n",
    "- sna - связь заемщика с клиентами банка\n",
    "- first_time - давность наличия информации о заемщике\n",
    "- score_bki - скоринговый балл по данным из БКИ\n",
    "- region_rating - рейтинг региона\n",
    "- app_date - дата подачи заявки\n",
    "- default - флаг дефолта по кредиту"
   ]
  },
  {
   "cell_type": "markdown",
   "metadata": {
    "papermill": {
     "duration": 0.06311,
     "end_time": "2020-12-26T11:16:32.825501",
     "exception": false,
     "start_time": "2020-12-26T11:16:32.762391",
     "status": "completed"
    },
    "tags": []
   },
   "source": [
    "### Работа с пропусками"
   ]
  },
  {
   "cell_type": "code",
   "execution_count": 7,
   "metadata": {
    "ExecuteTime": {
     "end_time": "2020-12-26T08:33:29.929459Z",
     "start_time": "2020-12-26T08:33:29.858649Z"
    },
    "execution": {
     "iopub.execute_input": "2020-12-26T11:16:32.956066Z",
     "iopub.status.busy": "2020-12-26T11:16:32.955413Z",
     "iopub.status.idle": "2020-12-26T11:16:33.038260Z",
     "shell.execute_reply": "2020-12-26T11:16:33.038773Z"
    },
    "papermill": {
     "duration": 0.150615,
     "end_time": "2020-12-26T11:16:33.038909",
     "exception": false,
     "start_time": "2020-12-26T11:16:32.888294",
     "status": "completed"
    },
    "tags": []
   },
   "outputs": [
    {
     "data": {
      "text/plain": [
       "(client_id             0\n",
       " app_date              0\n",
       " education           307\n",
       " sex                   0\n",
       " age                   0\n",
       " car                   0\n",
       " car_type              0\n",
       " decline_app_cnt       0\n",
       " good_work             0\n",
       " score_bki             0\n",
       " bki_request_cnt       0\n",
       " region_rating         0\n",
       " home_address          0\n",
       " work_address          0\n",
       " income                0\n",
       " sna                   0\n",
       " first_time            0\n",
       " foreign_passport      0\n",
       " default               0\n",
       " dtype: int64,\n",
       " client_id             0\n",
       " app_date              0\n",
       " education           171\n",
       " sex                   0\n",
       " age                   0\n",
       " car                   0\n",
       " car_type              0\n",
       " decline_app_cnt       0\n",
       " good_work             0\n",
       " score_bki             0\n",
       " bki_request_cnt       0\n",
       " region_rating         0\n",
       " home_address          0\n",
       " work_address          0\n",
       " income                0\n",
       " sna                   0\n",
       " first_time            0\n",
       " foreign_passport      0\n",
       " dtype: int64)"
      ]
     },
     "execution_count": 7,
     "metadata": {},
     "output_type": "execute_result"
    }
   ],
   "source": [
    "train.isnull().sum(), test.isnull().sum()"
   ]
  },
  {
   "cell_type": "code",
   "execution_count": 8,
   "metadata": {
    "ExecuteTime": {
     "end_time": "2020-12-26T08:33:32.44766Z",
     "start_time": "2020-12-26T08:33:29.933449Z"
    },
    "execution": {
     "iopub.execute_input": "2020-12-26T11:16:33.170181Z",
     "iopub.status.busy": "2020-12-26T11:16:33.169543Z",
     "iopub.status.idle": "2020-12-26T11:16:34.827432Z",
     "shell.execute_reply": "2020-12-26T11:16:34.826856Z"
    },
    "papermill": {
     "duration": 1.726179,
     "end_time": "2020-12-26T11:16:34.827544",
     "exception": false,
     "start_time": "2020-12-26T11:16:33.101365",
     "status": "completed"
    },
    "tags": []
   },
   "outputs": [
    {
     "data": {
      "image/png": "[encoded data removed]",
      "text/plain": [
       "<Figure size 864x576 with 1 Axes>"
      ]
     },
     "metadata": {
      "needs_background": "light"
     },
     "output_type": "display_data"
    }
   ],
   "source": [
    "fig, ax = plt.subplots(figsize=(12, 8))\n",
    "sns_heatmap = sns.heatmap(train.isnull(),\n",
    "                          yticklabels=False,\n",
    "                          cbar=False,\n",
    "                          cmap='viridis')"
   ]
  },
  {
   "cell_type": "code",
   "execution_count": 9,
   "metadata": {
    "ExecuteTime": {
     "end_time": "2020-12-26T08:33:33.79406Z",
     "start_time": "2020-12-26T08:33:32.450617Z"
    },
    "execution": {
     "iopub.execute_input": "2020-12-26T11:16:34.968232Z",
     "iopub.status.busy": "2020-12-26T11:16:34.967369Z",
     "iopub.status.idle": "2020-12-26T11:16:35.806303Z",
     "shell.execute_reply": "2020-12-26T11:16:35.806922Z"
    },
    "papermill": {
     "duration": 0.914666,
     "end_time": "2020-12-26T11:16:35.807069",
     "exception": false,
     "start_time": "2020-12-26T11:16:34.892403",
     "status": "completed"
    },
    "scrolled": false,
    "tags": []
   },
   "outputs": [
    {
     "data": {
      "image/png": "[encoded data removed]",
      "text/plain": [
       "<Figure size 864x576 with 1 Axes>"
      ]
     },
     "metadata": {
      "needs_background": "light"
     },
     "output_type": "display_data"
    }
   ],
   "source": [
    "fig, ax = plt.subplots(figsize=(12, 8))\n",
    "sns_heatmap = sns.heatmap(\n",
    "    test.isnull(), yticklabels=False, cbar=False, cmap='viridis')"
   ]
  },
  {
   "cell_type": "markdown",
   "metadata": {
    "papermill": {
     "duration": 0.065909,
     "end_time": "2020-12-26T11:16:35.939231",
     "exception": false,
     "start_time": "2020-12-26T11:16:35.873322",
     "status": "completed"
    },
    "tags": []
   },
   "source": [
    "Как видим, пропуски есть только в столбце 'education' и их мало, меньше процента."
   ]
  },
  {
   "cell_type": "markdown",
   "metadata": {
    "papermill": {
     "duration": 0.073176,
     "end_time": "2020-12-26T11:16:36.078535",
     "exception": false,
     "start_time": "2020-12-26T11:16:36.005359",
     "status": "completed"
    },
    "tags": []
   },
   "source": [
    "Теперь посмотрим на распределение образования. Наблюдаются пять категорий. И в тренировочной, и в тестовой частях датасета большая часть заёмщиков имеет образование категории SCH"
   ]
  },
  {
   "cell_type": "code",
   "execution_count": 10,
   "metadata": {
    "ExecuteTime": {
     "end_time": "2020-12-26T08:33:34.202932Z",
     "start_time": "2020-12-26T08:33:33.796018Z"
    },
    "execution": {
     "iopub.execute_input": "2020-12-26T11:16:36.226439Z",
     "iopub.status.busy": "2020-12-26T11:16:36.225434Z",
     "iopub.status.idle": "2020-12-26T11:16:36.430916Z",
     "shell.execute_reply": "2020-12-26T11:16:36.431604Z"
    },
    "papermill": {
     "duration": 0.287848,
     "end_time": "2020-12-26T11:16:36.431763",
     "exception": false,
     "start_time": "2020-12-26T11:16:36.143915",
     "status": "completed"
    },
    "tags": []
   },
   "outputs": [
    {
     "data": {
      "text/plain": [
       "<matplotlib.axes._subplots.AxesSubplot at 0x7f1a4e96a5d0>"
      ]
     },
     "execution_count": 10,
     "metadata": {},
     "output_type": "execute_result"
    },
    {
     "data": {
      "image/png": "[encoded data removed]",
      "text/plain": [
       "<Figure size 864x576 with 1 Axes>"
      ]
     },
     "metadata": {
      "needs_background": "light"
     },
     "output_type": "display_data"
    }
   ],
   "source": [
    "# посмотрим на распределение образования\n",
    "sns.countplot(train['education'])\n",
    "# видно, что большая часть заёмщиков имеет образование SCH"
   ]
  },
  {
   "cell_type": "code",
   "execution_count": 11,
   "metadata": {
    "ExecuteTime": {
     "end_time": "2020-12-26T08:33:34.566969Z",
     "start_time": "2020-12-26T08:33:34.205924Z"
    },
    "execution": {
     "iopub.execute_input": "2020-12-26T11:16:36.575186Z",
     "iopub.status.busy": "2020-12-26T11:16:36.574078Z",
     "iopub.status.idle": "2020-12-26T11:16:36.867701Z",
     "shell.execute_reply": "2020-12-26T11:16:36.867042Z"
    },
    "papermill": {
     "duration": 0.365036,
     "end_time": "2020-12-26T11:16:36.867826",
     "exception": false,
     "start_time": "2020-12-26T11:16:36.502790",
     "status": "completed"
    },
    "scrolled": true,
    "tags": []
   },
   "outputs": [
    {
     "data": {
      "text/plain": [
       "<matplotlib.axes._subplots.AxesSubplot at 0x7f1a4e9d05d0>"
      ]
     },
     "execution_count": 11,
     "metadata": {},
     "output_type": "execute_result"
    },
    {
     "data": {
      "image/png": "[encoded data removed]",
      "text/plain": [
       "<Figure size 864x576 with 1 Axes>"
      ]
     },
     "metadata": {
      "needs_background": "light"
     },
     "output_type": "display_data"
    }
   ],
   "source": [
    "sns.countplot(test['education'])\n",
    "# видно, что большая часть заёмщиков имеет образование SCH"
   ]
  },
  {
   "cell_type": "markdown",
   "metadata": {
    "papermill": {
     "duration": 0.068178,
     "end_time": "2020-12-26T11:16:37.012177",
     "exception": false,
     "start_time": "2020-12-26T11:16:36.943999",
     "status": "completed"
    },
    "tags": []
   },
   "source": [
    "Заполним пропуски. Было проверено несколько вариантов заполнения, из них было выбрано заполнение более частыми значениями, как более эффективное для модели."
   ]
  },
  {
   "cell_type": "code",
   "execution_count": 12,
   "metadata": {
    "ExecuteTime": {
     "end_time": "2020-12-26T08:33:34.614829Z",
     "start_time": "2020-12-26T08:33:34.569949Z"
    },
    "execution": {
     "iopub.execute_input": "2020-12-26T11:16:37.190100Z",
     "iopub.status.busy": "2020-12-26T11:16:37.175637Z",
     "iopub.status.idle": "2020-12-26T11:16:37.192565Z",
     "shell.execute_reply": "2020-12-26T11:16:37.193030Z"
    },
    "papermill": {
     "duration": 0.113617,
     "end_time": "2020-12-26T11:16:37.193175",
     "exception": false,
     "start_time": "2020-12-26T11:16:37.079558",
     "status": "completed"
    },
    "tags": []
   },
   "outputs": [],
   "source": [
    "# заполним пропуски наиболее частыми значениями\n",
    "\n",
    "c_1 = collections.Counter(train['education'])\n",
    "c_2 = collections.Counter(test['education'])\n",
    "\n",
    "train['education'].fillna(c_1.most_common()[0][0], inplace=True)\n",
    "test['education'].fillna(c_2.most_common()[0][0], inplace=True)"
   ]
  },
  {
   "cell_type": "code",
   "execution_count": 13,
   "metadata": {
    "ExecuteTime": {
     "end_time": "2020-12-26T08:33:34.694617Z",
     "start_time": "2020-12-26T08:33:34.617823Z"
    },
    "execution": {
     "iopub.execute_input": "2020-12-26T11:16:37.332697Z",
     "iopub.status.busy": "2020-12-26T11:16:37.331989Z",
     "iopub.status.idle": "2020-12-26T11:16:37.414471Z",
     "shell.execute_reply": "2020-12-26T11:16:37.413832Z"
    },
    "papermill": {
     "duration": 0.153318,
     "end_time": "2020-12-26T11:16:37.414585",
     "exception": false,
     "start_time": "2020-12-26T11:16:37.261267",
     "status": "completed"
    },
    "tags": []
   },
   "outputs": [
    {
     "data": {
      "text/plain": [
       "(client_id           0\n",
       " app_date            0\n",
       " education           0\n",
       " sex                 0\n",
       " age                 0\n",
       " car                 0\n",
       " car_type            0\n",
       " decline_app_cnt     0\n",
       " good_work           0\n",
       " score_bki           0\n",
       " bki_request_cnt     0\n",
       " region_rating       0\n",
       " home_address        0\n",
       " work_address        0\n",
       " income              0\n",
       " sna                 0\n",
       " first_time          0\n",
       " foreign_passport    0\n",
       " default             0\n",
       " dtype: int64,\n",
       " client_id           0\n",
       " app_date            0\n",
       " education           0\n",
       " sex                 0\n",
       " age                 0\n",
       " car                 0\n",
       " car_type            0\n",
       " decline_app_cnt     0\n",
       " good_work           0\n",
       " score_bki           0\n",
       " bki_request_cnt     0\n",
       " region_rating       0\n",
       " home_address        0\n",
       " work_address        0\n",
       " income              0\n",
       " sna                 0\n",
       " first_time          0\n",
       " foreign_passport    0\n",
       " dtype: int64)"
      ]
     },
     "execution_count": 13,
     "metadata": {},
     "output_type": "execute_result"
    }
   ],
   "source": [
    "# проверим заполнение\n",
    "train.isnull().sum(), test.isnull().sum()"
   ]
  },
  {
   "cell_type": "markdown",
   "metadata": {
    "papermill": {
     "duration": 0.068375,
     "end_time": "2020-12-26T11:16:37.551261",
     "exception": false,
     "start_time": "2020-12-26T11:16:37.482886",
     "status": "completed"
    },
    "tags": []
   },
   "source": [
    "### Работа с  признаками, feature engineering"
   ]
  },
  {
   "cell_type": "code",
   "execution_count": 14,
   "metadata": {
    "ExecuteTime": {
     "end_time": "2020-12-26T08:33:34.709576Z",
     "start_time": "2020-12-26T08:33:34.697609Z"
    },
    "execution": {
     "iopub.execute_input": "2020-12-26T11:16:37.698517Z",
     "iopub.status.busy": "2020-12-26T11:16:37.697654Z",
     "iopub.status.idle": "2020-12-26T11:16:37.701850Z",
     "shell.execute_reply": "2020-12-26T11:16:37.701368Z"
    },
    "papermill": {
     "duration": 0.080623,
     "end_time": "2020-12-26T11:16:37.701969",
     "exception": false,
     "start_time": "2020-12-26T11:16:37.621346",
     "status": "completed"
    },
    "tags": []
   },
   "outputs": [
    {
     "data": {
      "text/plain": [
       "(0    01FEB2014\n",
       " 1    12MAR2014\n",
       " 2    01FEB2014\n",
       " 3    23JAN2014\n",
       " 4    18APR2014\n",
       " Name: app_date, dtype: object,\n",
       " 0    22MAR2014\n",
       " 1    24JAN2014\n",
       " 2    23MAR2014\n",
       " 3    03FEB2014\n",
       " 4    04FEB2014\n",
       " Name: app_date, dtype: object)"
      ]
     },
     "execution_count": 14,
     "metadata": {},
     "output_type": "execute_result"
    }
   ],
   "source": [
    "# Взглянем поближе на признак app_date\n",
    "train.app_date.head(5), test.app_date.head(5)"
   ]
  },
  {
   "cell_type": "code",
   "execution_count": 15,
   "metadata": {
    "ExecuteTime": {
     "end_time": "2020-12-26T08:33:34.804323Z",
     "start_time": "2020-12-26T08:33:34.711572Z"
    },
    "execution": {
     "iopub.execute_input": "2020-12-26T11:16:37.852347Z",
     "iopub.status.busy": "2020-12-26T11:16:37.851309Z",
     "iopub.status.idle": "2020-12-26T11:16:37.909535Z",
     "shell.execute_reply": "2020-12-26T11:16:37.910238Z"
    },
    "papermill": {
     "duration": 0.138784,
     "end_time": "2020-12-26T11:16:37.910416",
     "exception": false,
     "start_time": "2020-12-26T11:16:37.771632",
     "status": "completed"
    },
    "scrolled": true,
    "tags": []
   },
   "outputs": [
    {
     "name": "stdout",
     "output_type": "stream",
     "text": [
      "0   2014-02-01\n",
      "1   2014-03-12\n",
      "2   2014-02-01\n",
      "3   2014-01-23\n",
      "4   2014-04-18\n",
      "Name: app_date, dtype: datetime64[ns]\n",
      "0   2014-03-22\n",
      "1   2014-01-24\n",
      "2   2014-03-23\n",
      "3   2014-02-03\n",
      "4   2014-02-04\n",
      "Name: app_date, dtype: datetime64[ns]\n"
     ]
    }
   ],
   "source": [
    "# Сконветируем в более удобный формат даты\n",
    "train.app_date = pd.to_datetime(train.app_date)\n",
    "test.app_date = pd.to_datetime(test.app_date)\n",
    "print(train.app_date.head(5))\n",
    "print(test.app_date.head(5))"
   ]
  },
  {
   "cell_type": "code",
   "execution_count": 16,
   "metadata": {
    "ExecuteTime": {
     "end_time": "2020-12-26T08:33:34.836243Z",
     "start_time": "2020-12-26T08:33:34.807316Z"
    },
    "execution": {
     "iopub.execute_input": "2020-12-26T11:16:38.059608Z",
     "iopub.status.busy": "2020-12-26T11:16:38.058857Z",
     "iopub.status.idle": "2020-12-26T11:16:38.070267Z",
     "shell.execute_reply": "2020-12-26T11:16:38.069658Z"
    },
    "papermill": {
     "duration": 0.08895,
     "end_time": "2020-12-26T11:16:38.070388",
     "exception": false,
     "start_time": "2020-12-26T11:16:37.981438",
     "status": "completed"
    },
    "tags": []
   },
   "outputs": [],
   "source": [
    "# На основе признака app_date делаем новый признак\n",
    "current_date = pd.to_datetime('24DEC2020')\n",
    "# Количество дней, прошедших со дня подачи заявки\n",
    "train['days'] = (current_date - train.app_date).dt.days\n",
    "test['days'] = (current_date - test.app_date).dt.days"
   ]
  },
  {
   "cell_type": "markdown",
   "metadata": {
    "papermill": {
     "duration": 0.071051,
     "end_time": "2020-12-26T11:16:38.211712",
     "exception": false,
     "start_time": "2020-12-26T11:16:38.140661",
     "status": "completed"
    },
    "tags": []
   },
   "source": [
    "\n"
   ]
  },
  {
   "cell_type": "code",
   "execution_count": 17,
   "metadata": {
    "ExecuteTime": {
     "end_time": "2020-12-26T08:33:34.868152Z",
     "start_time": "2020-12-26T08:33:34.846215Z"
    },
    "execution": {
     "iopub.execute_input": "2020-12-26T11:16:38.358766Z",
     "iopub.status.busy": "2020-12-26T11:16:38.358042Z",
     "iopub.status.idle": "2020-12-26T11:16:38.393088Z",
     "shell.execute_reply": "2020-12-26T11:16:38.392515Z"
    },
    "papermill": {
     "duration": 0.11133,
     "end_time": "2020-12-26T11:16:38.393236",
     "exception": false,
     "start_time": "2020-12-26T11:16:38.281906",
     "status": "completed"
    },
    "tags": []
   },
   "outputs": [],
   "source": [
    "# Вот ещё один признак, на этот раз практически взят с потолка, скомпилирован из существующих.\n",
    "# Он повышает roc_auc на 0.001\n",
    "train['bki_age_reg'] = (train['score_bki']/train['age'])*train['region_rating']\n",
    "test['bki_age_reg'] = (test['score_bki']/test['age'])*test['region_rating']"
   ]
  },
  {
   "cell_type": "code",
   "execution_count": 18,
   "metadata": {
    "ExecuteTime": {
     "end_time": "2020-12-26T08:33:34.899071Z",
     "start_time": "2020-12-26T08:33:34.871145Z"
    },
    "execution": {
     "iopub.execute_input": "2020-12-26T11:16:38.556073Z",
     "iopub.status.busy": "2020-12-26T11:16:38.555348Z",
     "iopub.status.idle": "2020-12-26T11:16:38.559965Z",
     "shell.execute_reply": "2020-12-26T11:16:38.559384Z"
    },
    "papermill": {
     "duration": 0.096592,
     "end_time": "2020-12-26T11:16:38.560077",
     "exception": false,
     "start_time": "2020-12-26T11:16:38.463485",
     "status": "completed"
    },
    "scrolled": true,
    "tags": []
   },
   "outputs": [
    {
     "data": {
      "text/html": [
       "<div>\n",
       "<style scoped>\n",
       "    .dataframe tbody tr th:only-of-type {\n",
       "        vertical-align: middle;\n",
       "    }\n",
       "\n",
       "    .dataframe tbody tr th {\n",
       "        vertical-align: top;\n",
       "    }\n",
       "\n",
       "    .dataframe thead th {\n",
       "        text-align: right;\n",
       "    }\n",
       "</style>\n",
       "<table border=\"1\" class=\"dataframe\">\n",
       "  <thead>\n",
       "    <tr style=\"text-align: right;\">\n",
       "      <th></th>\n",
       "      <th>client_id</th>\n",
       "      <th>app_date</th>\n",
       "      <th>education</th>\n",
       "      <th>sex</th>\n",
       "      <th>age</th>\n",
       "      <th>car</th>\n",
       "      <th>car_type</th>\n",
       "      <th>decline_app_cnt</th>\n",
       "      <th>good_work</th>\n",
       "      <th>score_bki</th>\n",
       "      <th>bki_request_cnt</th>\n",
       "      <th>region_rating</th>\n",
       "      <th>home_address</th>\n",
       "      <th>work_address</th>\n",
       "      <th>income</th>\n",
       "      <th>sna</th>\n",
       "      <th>first_time</th>\n",
       "      <th>foreign_passport</th>\n",
       "      <th>default</th>\n",
       "      <th>days</th>\n",
       "      <th>bki_age_reg</th>\n",
       "    </tr>\n",
       "  </thead>\n",
       "  <tbody>\n",
       "    <tr>\n",
       "      <th>0</th>\n",
       "      <td>25905</td>\n",
       "      <td>2014-02-01</td>\n",
       "      <td>SCH</td>\n",
       "      <td>M</td>\n",
       "      <td>62</td>\n",
       "      <td>Y</td>\n",
       "      <td>Y</td>\n",
       "      <td>0</td>\n",
       "      <td>0</td>\n",
       "      <td>-2.008753</td>\n",
       "      <td>1</td>\n",
       "      <td>50</td>\n",
       "      <td>1</td>\n",
       "      <td>2</td>\n",
       "      <td>18000</td>\n",
       "      <td>4</td>\n",
       "      <td>1</td>\n",
       "      <td>N</td>\n",
       "      <td>0</td>\n",
       "      <td>2518</td>\n",
       "      <td>-1.619962</td>\n",
       "    </tr>\n",
       "    <tr>\n",
       "      <th>1</th>\n",
       "      <td>63161</td>\n",
       "      <td>2014-03-12</td>\n",
       "      <td>SCH</td>\n",
       "      <td>F</td>\n",
       "      <td>59</td>\n",
       "      <td>N</td>\n",
       "      <td>N</td>\n",
       "      <td>0</td>\n",
       "      <td>0</td>\n",
       "      <td>-1.532276</td>\n",
       "      <td>3</td>\n",
       "      <td>50</td>\n",
       "      <td>2</td>\n",
       "      <td>3</td>\n",
       "      <td>19000</td>\n",
       "      <td>4</td>\n",
       "      <td>1</td>\n",
       "      <td>N</td>\n",
       "      <td>0</td>\n",
       "      <td>2479</td>\n",
       "      <td>-1.298539</td>\n",
       "    </tr>\n",
       "    <tr>\n",
       "      <th>2</th>\n",
       "      <td>25887</td>\n",
       "      <td>2014-02-01</td>\n",
       "      <td>SCH</td>\n",
       "      <td>M</td>\n",
       "      <td>25</td>\n",
       "      <td>Y</td>\n",
       "      <td>N</td>\n",
       "      <td>2</td>\n",
       "      <td>0</td>\n",
       "      <td>-1.408142</td>\n",
       "      <td>1</td>\n",
       "      <td>80</td>\n",
       "      <td>1</td>\n",
       "      <td>2</td>\n",
       "      <td>30000</td>\n",
       "      <td>1</td>\n",
       "      <td>4</td>\n",
       "      <td>Y</td>\n",
       "      <td>0</td>\n",
       "      <td>2518</td>\n",
       "      <td>-4.506055</td>\n",
       "    </tr>\n",
       "    <tr>\n",
       "      <th>3</th>\n",
       "      <td>16222</td>\n",
       "      <td>2014-01-23</td>\n",
       "      <td>SCH</td>\n",
       "      <td>F</td>\n",
       "      <td>53</td>\n",
       "      <td>N</td>\n",
       "      <td>N</td>\n",
       "      <td>0</td>\n",
       "      <td>0</td>\n",
       "      <td>-2.057471</td>\n",
       "      <td>2</td>\n",
       "      <td>50</td>\n",
       "      <td>2</td>\n",
       "      <td>3</td>\n",
       "      <td>10000</td>\n",
       "      <td>1</td>\n",
       "      <td>3</td>\n",
       "      <td>N</td>\n",
       "      <td>0</td>\n",
       "      <td>2527</td>\n",
       "      <td>-1.941011</td>\n",
       "    </tr>\n",
       "    <tr>\n",
       "      <th>4</th>\n",
       "      <td>101655</td>\n",
       "      <td>2014-04-18</td>\n",
       "      <td>GRD</td>\n",
       "      <td>M</td>\n",
       "      <td>48</td>\n",
       "      <td>N</td>\n",
       "      <td>N</td>\n",
       "      <td>0</td>\n",
       "      <td>1</td>\n",
       "      <td>-1.244723</td>\n",
       "      <td>1</td>\n",
       "      <td>60</td>\n",
       "      <td>2</td>\n",
       "      <td>3</td>\n",
       "      <td>30000</td>\n",
       "      <td>1</td>\n",
       "      <td>4</td>\n",
       "      <td>Y</td>\n",
       "      <td>0</td>\n",
       "      <td>2442</td>\n",
       "      <td>-1.555903</td>\n",
       "    </tr>\n",
       "  </tbody>\n",
       "</table>\n",
       "</div>"
      ],
      "text/plain": [
       "   client_id   app_date education sex  age car car_type  decline_app_cnt  \\\n",
       "0      25905 2014-02-01       SCH   M   62   Y        Y                0   \n",
       "1      63161 2014-03-12       SCH   F   59   N        N                0   \n",
       "2      25887 2014-02-01       SCH   M   25   Y        N                2   \n",
       "3      16222 2014-01-23       SCH   F   53   N        N                0   \n",
       "4     101655 2014-04-18       GRD   M   48   N        N                0   \n",
       "\n",
       "   good_work  score_bki  bki_request_cnt  region_rating  home_address  \\\n",
       "0          0  -2.008753                1             50             1   \n",
       "1          0  -1.532276                3             50             2   \n",
       "2          0  -1.408142                1             80             1   \n",
       "3          0  -2.057471                2             50             2   \n",
       "4          1  -1.244723                1             60             2   \n",
       "\n",
       "   work_address  income  sna  first_time foreign_passport  default  days  \\\n",
       "0             2   18000    4           1                N        0  2518   \n",
       "1             3   19000    4           1                N        0  2479   \n",
       "2             2   30000    1           4                Y        0  2518   \n",
       "3             3   10000    1           3                N        0  2527   \n",
       "4             3   30000    1           4                Y        0  2442   \n",
       "\n",
       "   bki_age_reg  \n",
       "0    -1.619962  \n",
       "1    -1.298539  \n",
       "2    -4.506055  \n",
       "3    -1.941011  \n",
       "4    -1.555903  "
      ]
     },
     "execution_count": 18,
     "metadata": {},
     "output_type": "execute_result"
    }
   ],
   "source": [
    "train.head()"
   ]
  },
  {
   "cell_type": "markdown",
   "metadata": {
    "papermill": {
     "duration": 0.069949,
     "end_time": "2020-12-26T11:16:38.702590",
     "exception": false,
     "start_time": "2020-12-26T11:16:38.632641",
     "status": "completed"
    },
    "tags": []
   },
   "source": [
    "### Разделим колонки по типам данным для большего удобства работы и изучения"
   ]
  },
  {
   "cell_type": "code",
   "execution_count": 19,
   "metadata": {
    "ExecuteTime": {
     "end_time": "2020-12-26T08:33:34.929992Z",
     "start_time": "2020-12-26T08:33:34.90306Z"
    },
    "execution": {
     "iopub.execute_input": "2020-12-26T11:16:38.855237Z",
     "iopub.status.busy": "2020-12-26T11:16:38.854221Z",
     "iopub.status.idle": "2020-12-26T11:16:38.857730Z",
     "shell.execute_reply": "2020-12-26T11:16:38.857069Z"
    },
    "papermill": {
     "duration": 0.083481,
     "end_time": "2020-12-26T11:16:38.857854",
     "exception": false,
     "start_time": "2020-12-26T11:16:38.774373",
     "status": "completed"
    },
    "tags": []
   },
   "outputs": [],
   "source": [
    "bin_cols = ['sex', 'car', 'car_type', 'good_work', 'foreign_passport']\n",
    "cat_cols = [\n",
    "    'education', 'home_address', 'work_address', 'sna', 'first_time',\n",
    "    'region_rating'\n",
    "]\n",
    "num_cols = [\n",
    "    'days', 'age', 'decline_app_cnt', 'score_bki', 'bki_request_cnt', 'income',\n",
    "    'bki_age_reg'\n",
    "]"
   ]
  },
  {
   "cell_type": "markdown",
   "metadata": {
    "papermill": {
     "duration": 0.070785,
     "end_time": "2020-12-26T11:16:38.999957",
     "exception": false,
     "start_time": "2020-12-26T11:16:38.929172",
     "status": "completed"
    },
    "tags": []
   },
   "source": [
    "Посмотрим на целевую переменную. Распределение заёмщиков явно неравномерное, недефолтных клиентов заметно больше."
   ]
  },
  {
   "cell_type": "code",
   "execution_count": 20,
   "metadata": {
    "ExecuteTime": {
     "end_time": "2020-12-26T08:33:35.134455Z",
     "start_time": "2020-12-26T08:33:34.936971Z"
    },
    "execution": {
     "iopub.execute_input": "2020-12-26T11:16:39.146697Z",
     "iopub.status.busy": "2020-12-26T11:16:39.145695Z",
     "iopub.status.idle": "2020-12-26T11:16:39.291132Z",
     "shell.execute_reply": "2020-12-26T11:16:39.290584Z"
    },
    "papermill": {
     "duration": 0.220684,
     "end_time": "2020-12-26T11:16:39.291272",
     "exception": false,
     "start_time": "2020-12-26T11:16:39.070588",
     "status": "completed"
    },
    "tags": []
   },
   "outputs": [
    {
     "data": {
      "text/plain": [
       "<matplotlib.axes._subplots.AxesSubplot at 0x7f1a4c89b8d0>"
      ]
     },
     "execution_count": 20,
     "metadata": {},
     "output_type": "execute_result"
    },
    {
     "data": {
      "image/png": "[encoded data removed]",
      "text/plain": [
       "<Figure size 864x576 with 1 Axes>"
      ]
     },
     "metadata": {
      "needs_background": "light"
     },
     "output_type": "display_data"
    }
   ],
   "source": [
    "sns.countplot(train['default'])"
   ]
  },
  {
   "cell_type": "code",
   "execution_count": 21,
   "metadata": {
    "ExecuteTime": {
     "end_time": "2020-12-26T08:33:35.166359Z",
     "start_time": "2020-12-26T08:33:35.138435Z"
    },
    "execution": {
     "iopub.execute_input": "2020-12-26T11:16:39.450069Z",
     "iopub.status.busy": "2020-12-26T11:16:39.449440Z",
     "iopub.status.idle": "2020-12-26T11:16:39.456473Z",
     "shell.execute_reply": "2020-12-26T11:16:39.455797Z"
    },
    "papermill": {
     "duration": 0.085752,
     "end_time": "2020-12-26T11:16:39.456581",
     "exception": false,
     "start_time": "2020-12-26T11:16:39.370829",
     "status": "completed"
    },
    "tags": []
   },
   "outputs": [
    {
     "data": {
      "text/plain": [
       "0    64427\n",
       "1     9372\n",
       "Name: default, dtype: int64"
      ]
     },
     "execution_count": 21,
     "metadata": {},
     "output_type": "execute_result"
    }
   ],
   "source": [
    "train['default'].value_counts()\n",
    "# Очевидно что выборка распределена неравномерно и недефолтных клиентов заметно больше"
   ]
  },
  {
   "cell_type": "markdown",
   "metadata": {
    "papermill": {
     "duration": 0.073452,
     "end_time": "2020-12-26T11:16:39.603032",
     "exception": false,
     "start_time": "2020-12-26T11:16:39.529580",
     "status": "completed"
    },
    "tags": []
   },
   "source": [
    "Для устранения дисбаланса применим oversamping"
   ]
  },
  {
   "cell_type": "code",
   "execution_count": 22,
   "metadata": {
    "ExecuteTime": {
     "end_time": "2020-12-26T08:33:35.816803Z",
     "start_time": "2020-12-26T08:33:35.170345Z"
    },
    "execution": {
     "iopub.execute_input": "2020-12-26T11:16:39.757366Z",
     "iopub.status.busy": "2020-12-26T11:16:39.756700Z",
     "iopub.status.idle": "2020-12-26T11:16:40.006282Z",
     "shell.execute_reply": "2020-12-26T11:16:40.005603Z"
    },
    "papermill": {
     "duration": 0.329949,
     "end_time": "2020-12-26T11:16:40.006406",
     "exception": false,
     "start_time": "2020-12-26T11:16:39.676457",
     "status": "completed"
    },
    "tags": []
   },
   "outputs": [],
   "source": [
    "# попробуем oversampling для устранения дисбаланса\n",
    "train_0 = train.query('default == 0')\n",
    "train_1 = train.query('default == 1')\n",
    "koeff = int(len(train_0)/len(train_1))\n",
    "for i in range(koeff):\n",
    "    train = train.append(train_1).reset_index(drop=True)  # объединяем"
   ]
  },
  {
   "cell_type": "code",
   "execution_count": 23,
   "metadata": {
    "ExecuteTime": {
     "end_time": "2020-12-26T08:33:35.832767Z",
     "start_time": "2020-12-26T08:33:35.818802Z"
    },
    "execution": {
     "iopub.execute_input": "2020-12-26T11:16:40.158543Z",
     "iopub.status.busy": "2020-12-26T11:16:40.157812Z",
     "iopub.status.idle": "2020-12-26T11:16:40.164323Z",
     "shell.execute_reply": "2020-12-26T11:16:40.164778Z"
    },
    "papermill": {
     "duration": 0.083956,
     "end_time": "2020-12-26T11:16:40.164936",
     "exception": false,
     "start_time": "2020-12-26T11:16:40.080980",
     "status": "completed"
    },
    "tags": []
   },
   "outputs": [
    {
     "data": {
      "text/plain": [
       "1    65604\n",
       "0    64427\n",
       "Name: default, dtype: int64"
      ]
     },
     "execution_count": 23,
     "metadata": {},
     "output_type": "execute_result"
    }
   ],
   "source": [
    "train['default'].value_counts()"
   ]
  },
  {
   "cell_type": "markdown",
   "metadata": {
    "papermill": {
     "duration": 0.07223,
     "end_time": "2020-12-26T11:16:40.310317",
     "exception": false,
     "start_time": "2020-12-26T11:16:40.238087",
     "status": "completed"
    },
    "tags": []
   },
   "source": [
    "### Поработаем с выбросами в числовых признаках"
   ]
  },
  {
   "cell_type": "markdown",
   "metadata": {
    "papermill": {
     "duration": 0.072838,
     "end_time": "2020-12-26T11:16:40.456140",
     "exception": false,
     "start_time": "2020-12-26T11:16:40.383302",
     "status": "completed"
    },
    "tags": []
   },
   "source": [
    "посмотрим boxplot числовых признаков"
   ]
  },
  {
   "cell_type": "code",
   "execution_count": 24,
   "metadata": {
    "ExecuteTime": {
     "end_time": "2020-12-26T08:33:36.228708Z",
     "start_time": "2020-12-26T08:33:35.843737Z"
    },
    "execution": {
     "iopub.execute_input": "2020-12-26T11:16:40.607319Z",
     "iopub.status.busy": "2020-12-26T11:16:40.606652Z",
     "iopub.status.idle": "2020-12-26T11:16:40.779482Z",
     "shell.execute_reply": "2020-12-26T11:16:40.778764Z"
    },
    "papermill": {
     "duration": 0.250619,
     "end_time": "2020-12-26T11:16:40.779600",
     "exception": false,
     "start_time": "2020-12-26T11:16:40.528981",
     "status": "completed"
    },
    "tags": []
   },
   "outputs": [
    {
     "data": {
      "text/plain": [
       "<matplotlib.axes._subplots.AxesSubplot at 0x7f1a4c874fd0>"
      ]
     },
     "execution_count": 24,
     "metadata": {},
     "output_type": "execute_result"
    },
    {
     "data": {
      "image/png": "[encoded data removed]",
      "text/plain": [
       "<Figure size 864x576 with 1 Axes>"
      ]
     },
     "metadata": {
      "needs_background": "light"
     },
     "output_type": "display_data"
    }
   ],
   "source": [
    "sns.boxplot(x=train.default, y=train.age)\n",
    "# выбросов нет"
   ]
  },
  {
   "cell_type": "markdown",
   "metadata": {
    "papermill": {
     "duration": 0.074411,
     "end_time": "2020-12-26T11:16:40.937650",
     "exception": false,
     "start_time": "2020-12-26T11:16:40.863239",
     "status": "completed"
    },
    "tags": []
   },
   "source": [
    "Недефолтные клиенты в среднем старше дефолтных. Выбросов нет."
   ]
  },
  {
   "cell_type": "code",
   "execution_count": 25,
   "metadata": {
    "ExecuteTime": {
     "end_time": "2020-12-26T08:33:36.754301Z",
     "start_time": "2020-12-26T08:33:36.238682Z"
    },
    "execution": {
     "iopub.execute_input": "2020-12-26T11:16:41.095385Z",
     "iopub.status.busy": "2020-12-26T11:16:41.094304Z",
     "iopub.status.idle": "2020-12-26T11:16:41.265417Z",
     "shell.execute_reply": "2020-12-26T11:16:41.264856Z"
    },
    "papermill": {
     "duration": 0.252223,
     "end_time": "2020-12-26T11:16:41.265535",
     "exception": false,
     "start_time": "2020-12-26T11:16:41.013312",
     "status": "completed"
    },
    "tags": []
   },
   "outputs": [
    {
     "data": {
      "text/plain": [
       "<matplotlib.axes._subplots.AxesSubplot at 0x7f1a4c80b190>"
      ]
     },
     "execution_count": 25,
     "metadata": {},
     "output_type": "execute_result"
    },
    {
     "data": {
      "image/png": "[encoded data removed]",
      "text/plain": [
       "<Figure size 864x576 with 1 Axes>"
      ]
     },
     "metadata": {
      "needs_background": "light"
     },
     "output_type": "display_data"
    }
   ],
   "source": [
    "sns.boxplot(x=train.default, y=train.days)"
   ]
  },
  {
   "cell_type": "markdown",
   "metadata": {
    "papermill": {
     "duration": 0.076139,
     "end_time": "2020-12-26T11:16:41.416916",
     "exception": false,
     "start_time": "2020-12-26T11:16:41.340777",
     "status": "completed"
    },
    "tags": []
   },
   "source": [
    "Со временем банк научился чаще выдавать кредиты, что очевидно повысило его прибыльность. Выбросов нет."
   ]
  },
  {
   "cell_type": "code",
   "execution_count": 26,
   "metadata": {
    "ExecuteTime": {
     "end_time": "2020-12-26T08:33:37.213078Z",
     "start_time": "2020-12-26T08:33:36.756297Z"
    },
    "execution": {
     "iopub.execute_input": "2020-12-26T11:16:41.573129Z",
     "iopub.status.busy": "2020-12-26T11:16:41.572358Z",
     "iopub.status.idle": "2020-12-26T11:16:41.776254Z",
     "shell.execute_reply": "2020-12-26T11:16:41.776738Z"
    },
    "papermill": {
     "duration": 0.284797,
     "end_time": "2020-12-26T11:16:41.776890",
     "exception": false,
     "start_time": "2020-12-26T11:16:41.492093",
     "status": "completed"
    },
    "tags": []
   },
   "outputs": [
    {
     "data": {
      "text/plain": [
       "<matplotlib.axes._subplots.AxesSubplot at 0x7f1a4c793410>"
      ]
     },
     "execution_count": 26,
     "metadata": {},
     "output_type": "execute_result"
    },
    {
     "data": {
      "image/png": "[encoded data removed]",
      "text/plain": [
       "<Figure size 864x576 with 1 Axes>"
      ]
     },
     "metadata": {
      "needs_background": "light"
     },
     "output_type": "display_data"
    }
   ],
   "source": [
    "sns.boxplot(x=train.default, y=train.decline_app_cnt)"
   ]
  },
  {
   "cell_type": "markdown",
   "metadata": {
    "papermill": {
     "duration": 0.076153,
     "end_time": "2020-12-26T11:16:41.929503",
     "exception": false,
     "start_time": "2020-12-26T11:16:41.853350",
     "status": "completed"
    },
    "tags": []
   },
   "source": [
    "У дефолтных клиентов количество отклоненных заявок выше, чем у недефолтных. Есть выбросы, но удалять их нецелесообразно, т.к. медиана у нас равна практически 0 и весь этот признак обратится в 0. Но он может оказать влияние."
   ]
  },
  {
   "cell_type": "code",
   "execution_count": 27,
   "metadata": {
    "ExecuteTime": {
     "end_time": "2020-12-26T08:33:37.606024Z",
     "start_time": "2020-12-26T08:33:37.21906Z"
    },
    "execution": {
     "iopub.execute_input": "2020-12-26T11:16:42.089539Z",
     "iopub.status.busy": "2020-12-26T11:16:42.088891Z",
     "iopub.status.idle": "2020-12-26T11:16:42.279762Z",
     "shell.execute_reply": "2020-12-26T11:16:42.279074Z"
    },
    "papermill": {
     "duration": 0.27303,
     "end_time": "2020-12-26T11:16:42.279880",
     "exception": false,
     "start_time": "2020-12-26T11:16:42.006850",
     "status": "completed"
    },
    "tags": []
   },
   "outputs": [
    {
     "data": {
      "text/plain": [
       "<matplotlib.axes._subplots.AxesSubplot at 0x7f1a4c80bad0>"
      ]
     },
     "execution_count": 27,
     "metadata": {},
     "output_type": "execute_result"
    },
    {
     "data": {
      "image/png": "[encoded data removed]",
      "text/plain": [
       "<Figure size 864x576 with 1 Axes>"
      ]
     },
     "metadata": {
      "needs_background": "light"
     },
     "output_type": "display_data"
    }
   ],
   "source": [
    "sns.boxplot(x=train.default, y=train.score_bki)"
   ]
  },
  {
   "cell_type": "markdown",
   "metadata": {
    "papermill": {
     "duration": 0.089953,
     "end_time": "2020-12-26T11:16:42.448554",
     "exception": false,
     "start_time": "2020-12-26T11:16:42.358601",
     "status": "completed"
    },
    "tags": []
   },
   "source": [
    "Средний скоринговый балл по данным из БКИ для тех, кому отказали - выше, чем для тех кому не отказали. Методика расчета этого показателя неизвестна (на сайте БКИ рейтинг от 300 до 850 баллов), возможно предположить, что чем ниже балл, тем надежнее заемщик. Если иначе, то есть над чем поработать в модели. Выбросы есть, надо убирать."
   ]
  },
  {
   "cell_type": "code",
   "execution_count": 28,
   "metadata": {
    "ExecuteTime": {
     "end_time": "2020-12-26T08:33:38.047848Z",
     "start_time": "2020-12-26T08:33:37.616004Z"
    },
    "execution": {
     "iopub.execute_input": "2020-12-26T11:16:42.629858Z",
     "iopub.status.busy": "2020-12-26T11:16:42.628657Z",
     "iopub.status.idle": "2020-12-26T11:16:42.820558Z",
     "shell.execute_reply": "2020-12-26T11:16:42.821066Z"
    },
    "papermill": {
     "duration": 0.27993,
     "end_time": "2020-12-26T11:16:42.821229",
     "exception": false,
     "start_time": "2020-12-26T11:16:42.541299",
     "status": "completed"
    },
    "scrolled": true,
    "tags": []
   },
   "outputs": [
    {
     "data": {
      "text/plain": [
       "<matplotlib.axes._subplots.AxesSubplot at 0x7f1a4c80b5d0>"
      ]
     },
     "execution_count": 28,
     "metadata": {},
     "output_type": "execute_result"
    },
    {
     "data": {
      "image/png": "[encoded data removed]",
      "text/plain": [
       "<Figure size 864x576 with 1 Axes>"
      ]
     },
     "metadata": {
      "needs_background": "light"
     },
     "output_type": "display_data"
    }
   ],
   "source": [
    "sns.boxplot(x=train.default, y=train.bki_request_cnt)"
   ]
  },
  {
   "cell_type": "markdown",
   "metadata": {
    "papermill": {
     "duration": 0.079386,
     "end_time": "2020-12-26T11:16:42.980420",
     "exception": false,
     "start_time": "2020-12-26T11:16:42.901034",
     "status": "completed"
    },
    "tags": []
   },
   "source": [
    "Средний показатель числа запросов в БКИ у дефолтных клиентов выше. Выбросы присутствуют. "
   ]
  },
  {
   "cell_type": "code",
   "execution_count": 29,
   "metadata": {
    "ExecuteTime": {
     "end_time": "2020-12-26T08:33:38.443789Z",
     "start_time": "2020-12-26T08:33:38.052829Z"
    },
    "execution": {
     "iopub.execute_input": "2020-12-26T11:16:43.147265Z",
     "iopub.status.busy": "2020-12-26T11:16:43.146607Z",
     "iopub.status.idle": "2020-12-26T11:16:43.340936Z",
     "shell.execute_reply": "2020-12-26T11:16:43.340408Z"
    },
    "papermill": {
     "duration": 0.279999,
     "end_time": "2020-12-26T11:16:43.341052",
     "exception": false,
     "start_time": "2020-12-26T11:16:43.061053",
     "status": "completed"
    },
    "tags": []
   },
   "outputs": [
    {
     "data": {
      "text/plain": [
       "<matplotlib.axes._subplots.AxesSubplot at 0x7f1a4c625410>"
      ]
     },
     "execution_count": 29,
     "metadata": {},
     "output_type": "execute_result"
    },
    {
     "data": {
      "image/png": "[encoded data removed]",
      "text/plain": [
       "<Figure size 864x576 with 1 Axes>"
      ]
     },
     "metadata": {
      "needs_background": "light"
     },
     "output_type": "display_data"
    }
   ],
   "source": [
    "sns.boxplot(x=train.default, y=train.income)"
   ]
  },
  {
   "cell_type": "markdown",
   "metadata": {
    "papermill": {
     "duration": 0.080414,
     "end_time": "2020-12-26T11:16:43.501929",
     "exception": false,
     "start_time": "2020-12-26T11:16:43.421515",
     "status": "completed"
    },
    "tags": []
   },
   "source": [
    "Кредиты чаще выдают тем, у кого уровень дохода выше. Что вполне логично.Выбросы присутствуют."
   ]
  },
  {
   "cell_type": "code",
   "execution_count": 30,
   "metadata": {
    "ExecuteTime": {
     "end_time": "2020-12-26T08:33:38.475699Z",
     "start_time": "2020-12-26T08:33:38.452766Z"
    },
    "execution": {
     "iopub.execute_input": "2020-12-26T11:16:43.674132Z",
     "iopub.status.busy": "2020-12-26T11:16:43.673466Z",
     "iopub.status.idle": "2020-12-26T11:16:43.676248Z",
     "shell.execute_reply": "2020-12-26T11:16:43.676723Z"
    },
    "papermill": {
     "duration": 0.094055,
     "end_time": "2020-12-26T11:16:43.676873",
     "exception": false,
     "start_time": "2020-12-26T11:16:43.582818",
     "status": "completed"
    },
    "tags": []
   },
   "outputs": [],
   "source": [
    "# Функция определяет межквартильный интервал и возвращает 1.5 межквартильных расстояния с обеих\n",
    "# сторон от этого интервала. С её помощью избавимся от выбросов.\n",
    "\n",
    "def outliers_iqr(ys):\n",
    "    quartile_1, quartile_3 = np.percentile(ys, [25, 75])\n",
    "    iqr = quartile_3 - quartile_1\n",
    "    lower_bound = quartile_1 - (iqr * 1.5)\n",
    "    upper_bound = quartile_3 + (iqr * 1.5)\n",
    "    return lower_bound, upper_bound"
   ]
  },
  {
   "cell_type": "code",
   "execution_count": 31,
   "metadata": {
    "ExecuteTime": {
     "end_time": "2020-12-26T08:33:38.555491Z",
     "start_time": "2020-12-26T08:33:38.479688Z"
    },
    "execution": {
     "iopub.execute_input": "2020-12-26T11:16:43.849606Z",
     "iopub.status.busy": "2020-12-26T11:16:43.848902Z",
     "iopub.status.idle": "2020-12-26T11:16:43.900558Z",
     "shell.execute_reply": "2020-12-26T11:16:43.899972Z"
    },
    "papermill": {
     "duration": 0.139194,
     "end_time": "2020-12-26T11:16:43.900674",
     "exception": false,
     "start_time": "2020-12-26T11:16:43.761480",
     "status": "completed"
    },
    "tags": []
   },
   "outputs": [],
   "source": [
    "# убираем выбросы в численных столбцах\n",
    "num_cols_1 = ['bki_request_cnt', 'score_bki']\n",
    "for colname in num_cols_1:\n",
    "    d = outliers_iqr(train[colname])\n",
    "    train = train.loc[train[colname].between(d[0], d[1])]"
   ]
  },
  {
   "cell_type": "code",
   "execution_count": 32,
   "metadata": {
    "ExecuteTime": {
     "end_time": "2020-12-26T08:33:38.651244Z",
     "start_time": "2020-12-26T08:33:38.560485Z"
    },
    "execution": {
     "iopub.execute_input": "2020-12-26T11:16:44.070570Z",
     "iopub.status.busy": "2020-12-26T11:16:44.069672Z",
     "iopub.status.idle": "2020-12-26T11:16:44.153126Z",
     "shell.execute_reply": "2020-12-26T11:16:44.152418Z"
    },
    "papermill": {
     "duration": 0.171578,
     "end_time": "2020-12-26T11:16:44.153264",
     "exception": false,
     "start_time": "2020-12-26T11:16:43.981686",
     "status": "completed"
    },
    "tags": []
   },
   "outputs": [
    {
     "name": "stdout",
     "output_type": "stream",
     "text": [
      "<class 'pandas.core.frame.DataFrame'>\n",
      "Int64Index: 123736 entries, 0 to 130030\n",
      "Data columns (total 21 columns):\n",
      " #   Column            Non-Null Count   Dtype         \n",
      "---  ------            --------------   -----         \n",
      " 0   client_id         123736 non-null  int64         \n",
      " 1   app_date          123736 non-null  datetime64[ns]\n",
      " 2   education         123736 non-null  object        \n",
      " 3   sex               123736 non-null  object        \n",
      " 4   age               123736 non-null  int64         \n",
      " 5   car               123736 non-null  object        \n",
      " 6   car_type          123736 non-null  object        \n",
      " 7   decline_app_cnt   123736 non-null  int64         \n",
      " 8   good_work         123736 non-null  int64         \n",
      " 9   score_bki         123736 non-null  float64       \n",
      " 10  bki_request_cnt   123736 non-null  int64         \n",
      " 11  region_rating     123736 non-null  int64         \n",
      " 12  home_address      123736 non-null  int64         \n",
      " 13  work_address      123736 non-null  int64         \n",
      " 14  income            123736 non-null  int64         \n",
      " 15  sna               123736 non-null  int64         \n",
      " 16  first_time        123736 non-null  int64         \n",
      " 17  foreign_passport  123736 non-null  object        \n",
      " 18  default           123736 non-null  int64         \n",
      " 19  days              123736 non-null  int64         \n",
      " 20  bki_age_reg       123736 non-null  float64       \n",
      "dtypes: datetime64[ns](1), float64(2), int64(13), object(5)\n",
      "memory usage: 20.8+ MB\n"
     ]
    }
   ],
   "source": [
    "train.info()"
   ]
  },
  {
   "cell_type": "markdown",
   "metadata": {
    "papermill": {
     "duration": 0.081907,
     "end_time": "2020-12-26T11:16:44.325681",
     "exception": false,
     "start_time": "2020-12-26T11:16:44.243774",
     "status": "completed"
    },
    "tags": []
   },
   "source": [
    "Построим графики распределения численных переменных"
   ]
  },
  {
   "cell_type": "code",
   "execution_count": 33,
   "metadata": {
    "ExecuteTime": {
     "end_time": "2020-12-26T08:33:40.852215Z",
     "start_time": "2020-12-26T08:33:38.656216Z"
    },
    "execution": {
     "iopub.execute_input": "2020-12-26T11:16:44.509024Z",
     "iopub.status.busy": "2020-12-26T11:16:44.507256Z",
     "iopub.status.idle": "2020-12-26T11:16:46.772444Z",
     "shell.execute_reply": "2020-12-26T11:16:46.770974Z"
    },
    "papermill": {
     "duration": 2.361727,
     "end_time": "2020-12-26T11:16:46.772568",
     "exception": false,
     "start_time": "2020-12-26T11:16:44.410841",
     "status": "completed"
    },
    "tags": []
   },
   "outputs": [
    {
     "data": {
      "image/png": "[encoded data removed]",
      "text/plain": [
       "<Figure size 1800x864 with 8 Axes>"
      ]
     },
     "metadata": {
      "needs_background": "light"
     },
     "output_type": "display_data"
    }
   ],
   "source": [
    "fig, axes = plt.subplots(2, 4, figsize=(25, 12))\n",
    "for col, i in zip(num_cols, range(8)):\n",
    "    sns.distplot(train[col], kde=False, ax=axes.flat[i])"
   ]
  },
  {
   "cell_type": "markdown",
   "metadata": {
    "papermill": {
     "duration": 0.083309,
     "end_time": "2020-12-26T11:16:46.939579",
     "exception": false,
     "start_time": "2020-12-26T11:16:46.856270",
     "status": "completed"
    },
    "tags": []
   },
   "source": [
    "Прологарифмируем переменные, распределение которых смещено"
   ]
  },
  {
   "cell_type": "code",
   "execution_count": 34,
   "metadata": {
    "ExecuteTime": {
     "end_time": "2020-12-26T08:33:40.899091Z",
     "start_time": "2020-12-26T08:33:40.855209Z"
    },
    "execution": {
     "iopub.execute_input": "2020-12-26T11:16:47.116100Z",
     "iopub.status.busy": "2020-12-26T11:16:47.112531Z",
     "iopub.status.idle": "2020-12-26T11:16:47.141783Z",
     "shell.execute_reply": "2020-12-26T11:16:47.142274Z"
    },
    "papermill": {
     "duration": 0.118989,
     "end_time": "2020-12-26T11:16:47.142432",
     "exception": false,
     "start_time": "2020-12-26T11:16:47.023443",
     "status": "completed"
    },
    "tags": []
   },
   "outputs": [],
   "source": [
    "num_cols_log = ['age', 'decline_app_cnt', 'bki_request_cnt', 'income']\n",
    "\n",
    "for i in num_cols_log:\n",
    "    train[i] = np.log(train[i] + 1)"
   ]
  },
  {
   "cell_type": "code",
   "execution_count": 35,
   "metadata": {
    "ExecuteTime": {
     "end_time": "2020-12-26T08:33:43.014433Z",
     "start_time": "2020-12-26T08:33:40.902082Z"
    },
    "execution": {
     "iopub.execute_input": "2020-12-26T11:16:47.311401Z",
     "iopub.status.busy": "2020-12-26T11:16:47.310757Z",
     "iopub.status.idle": "2020-12-26T11:16:49.515249Z",
     "shell.execute_reply": "2020-12-26T11:16:49.515793Z"
    },
    "papermill": {
     "duration": 2.290983,
     "end_time": "2020-12-26T11:16:49.515938",
     "exception": false,
     "start_time": "2020-12-26T11:16:47.224955",
     "status": "completed"
    },
    "tags": []
   },
   "outputs": [
    {
     "data": {
      "image/png": "[encoded data removed]",
      "text/plain": [
       "<Figure size 1800x864 with 8 Axes>"
      ]
     },
     "metadata": {
      "needs_background": "light"
     },
     "output_type": "display_data"
    }
   ],
   "source": [
    "fig, axes = plt.subplots(2, 4, figsize=(25, 12))\n",
    "for col, i in zip(num_cols, range(8)):\n",
    "    sns.distplot(train[col], kde=False, ax=axes.flat[i])"
   ]
  },
  {
   "cell_type": "code",
   "execution_count": 36,
   "metadata": {
    "ExecuteTime": {
     "end_time": "2020-12-26T08:33:43.046377Z",
     "start_time": "2020-12-26T08:33:43.017425Z"
    },
    "execution": {
     "iopub.execute_input": "2020-12-26T11:16:49.691158Z",
     "iopub.status.busy": "2020-12-26T11:16:49.690416Z",
     "iopub.status.idle": "2020-12-26T11:16:49.706595Z",
     "shell.execute_reply": "2020-12-26T11:16:49.705831Z"
    },
    "papermill": {
     "duration": 0.104324,
     "end_time": "2020-12-26T11:16:49.706731",
     "exception": false,
     "start_time": "2020-12-26T11:16:49.602407",
     "status": "completed"
    },
    "tags": []
   },
   "outputs": [],
   "source": [
    "for i in num_cols_log:\n",
    "    test[i] = np.log(test[i] + 1)"
   ]
  },
  {
   "cell_type": "code",
   "execution_count": 37,
   "metadata": {
    "ExecuteTime": {
     "end_time": "2020-12-26T08:33:45.316278Z",
     "start_time": "2020-12-26T08:33:43.049338Z"
    },
    "execution": {
     "iopub.execute_input": "2020-12-26T11:16:49.890477Z",
     "iopub.status.busy": "2020-12-26T11:16:49.889333Z",
     "iopub.status.idle": "2020-12-26T11:16:52.050413Z",
     "shell.execute_reply": "2020-12-26T11:16:52.050952Z"
    },
    "papermill": {
     "duration": 2.258353,
     "end_time": "2020-12-26T11:16:52.051119",
     "exception": false,
     "start_time": "2020-12-26T11:16:49.792766",
     "status": "completed"
    },
    "tags": []
   },
   "outputs": [
    {
     "data": {
      "image/png": "[encoded data removed]",
      "text/plain": [
       "<Figure size 1800x864 with 8 Axes>"
      ]
     },
     "metadata": {
      "needs_background": "light"
     },
     "output_type": "display_data"
    }
   ],
   "source": [
    "fig, axes = plt.subplots(2, 4, figsize=(25, 12))\n",
    "for col, i in zip(num_cols, range(7)):\n",
    "    sns.distplot(test[col], kde=False, ax=axes.flat[i])"
   ]
  },
  {
   "cell_type": "markdown",
   "metadata": {
    "papermill": {
     "duration": 0.087251,
     "end_time": "2020-12-26T11:16:52.226097",
     "exception": false,
     "start_time": "2020-12-26T11:16:52.138846",
     "status": "completed"
    },
    "tags": []
   },
   "source": [
    "### Преобразование бинарных и категориальных переменных\n",
    "Преобразуем бинарные переменные при помощи класса LabelEncoder"
   ]
  },
  {
   "cell_type": "code",
   "execution_count": 38,
   "metadata": {
    "ExecuteTime": {
     "end_time": "2020-12-26T08:33:45.759094Z",
     "start_time": "2020-12-26T08:33:45.31927Z"
    },
    "execution": {
     "iopub.execute_input": "2020-12-26T11:16:52.451033Z",
     "iopub.status.busy": "2020-12-26T11:16:52.450329Z",
     "iopub.status.idle": "2020-12-26T11:16:52.669628Z",
     "shell.execute_reply": "2020-12-26T11:16:52.670126Z"
    },
    "papermill": {
     "duration": 0.357168,
     "end_time": "2020-12-26T11:16:52.670283",
     "exception": false,
     "start_time": "2020-12-26T11:16:52.313115",
     "status": "completed"
    },
    "tags": []
   },
   "outputs": [
    {
     "data": {
      "text/html": [
       "<div>\n",
       "<style scoped>\n",
       "    .dataframe tbody tr th:only-of-type {\n",
       "        vertical-align: middle;\n",
       "    }\n",
       "\n",
       "    .dataframe tbody tr th {\n",
       "        vertical-align: top;\n",
       "    }\n",
       "\n",
       "    .dataframe thead th {\n",
       "        text-align: right;\n",
       "    }\n",
       "</style>\n",
       "<table border=\"1\" class=\"dataframe\">\n",
       "  <thead>\n",
       "    <tr style=\"text-align: right;\">\n",
       "      <th></th>\n",
       "      <th>client_id</th>\n",
       "      <th>app_date</th>\n",
       "      <th>education</th>\n",
       "      <th>sex</th>\n",
       "      <th>age</th>\n",
       "      <th>car</th>\n",
       "      <th>car_type</th>\n",
       "      <th>decline_app_cnt</th>\n",
       "      <th>good_work</th>\n",
       "      <th>score_bki</th>\n",
       "      <th>bki_request_cnt</th>\n",
       "      <th>region_rating</th>\n",
       "      <th>home_address</th>\n",
       "      <th>work_address</th>\n",
       "      <th>income</th>\n",
       "      <th>sna</th>\n",
       "      <th>first_time</th>\n",
       "      <th>foreign_passport</th>\n",
       "      <th>default</th>\n",
       "      <th>days</th>\n",
       "      <th>bki_age_reg</th>\n",
       "    </tr>\n",
       "  </thead>\n",
       "  <tbody>\n",
       "    <tr>\n",
       "      <th>0</th>\n",
       "      <td>25905</td>\n",
       "      <td>2014-02-01</td>\n",
       "      <td>SCH</td>\n",
       "      <td>1</td>\n",
       "      <td>4.143135</td>\n",
       "      <td>1</td>\n",
       "      <td>1</td>\n",
       "      <td>0.000000</td>\n",
       "      <td>0</td>\n",
       "      <td>-2.008753</td>\n",
       "      <td>0.693147</td>\n",
       "      <td>50</td>\n",
       "      <td>1</td>\n",
       "      <td>2</td>\n",
       "      <td>9.798183</td>\n",
       "      <td>4</td>\n",
       "      <td>1</td>\n",
       "      <td>0</td>\n",
       "      <td>0</td>\n",
       "      <td>2518</td>\n",
       "      <td>-1.619962</td>\n",
       "    </tr>\n",
       "    <tr>\n",
       "      <th>1</th>\n",
       "      <td>63161</td>\n",
       "      <td>2014-03-12</td>\n",
       "      <td>SCH</td>\n",
       "      <td>0</td>\n",
       "      <td>4.094345</td>\n",
       "      <td>0</td>\n",
       "      <td>0</td>\n",
       "      <td>0.000000</td>\n",
       "      <td>0</td>\n",
       "      <td>-1.532276</td>\n",
       "      <td>1.386294</td>\n",
       "      <td>50</td>\n",
       "      <td>2</td>\n",
       "      <td>3</td>\n",
       "      <td>9.852247</td>\n",
       "      <td>4</td>\n",
       "      <td>1</td>\n",
       "      <td>0</td>\n",
       "      <td>0</td>\n",
       "      <td>2479</td>\n",
       "      <td>-1.298539</td>\n",
       "    </tr>\n",
       "    <tr>\n",
       "      <th>2</th>\n",
       "      <td>25887</td>\n",
       "      <td>2014-02-01</td>\n",
       "      <td>SCH</td>\n",
       "      <td>1</td>\n",
       "      <td>3.258097</td>\n",
       "      <td>1</td>\n",
       "      <td>0</td>\n",
       "      <td>1.098612</td>\n",
       "      <td>0</td>\n",
       "      <td>-1.408142</td>\n",
       "      <td>0.693147</td>\n",
       "      <td>80</td>\n",
       "      <td>1</td>\n",
       "      <td>2</td>\n",
       "      <td>10.308986</td>\n",
       "      <td>1</td>\n",
       "      <td>4</td>\n",
       "      <td>1</td>\n",
       "      <td>0</td>\n",
       "      <td>2518</td>\n",
       "      <td>-4.506055</td>\n",
       "    </tr>\n",
       "    <tr>\n",
       "      <th>3</th>\n",
       "      <td>16222</td>\n",
       "      <td>2014-01-23</td>\n",
       "      <td>SCH</td>\n",
       "      <td>0</td>\n",
       "      <td>3.988984</td>\n",
       "      <td>0</td>\n",
       "      <td>0</td>\n",
       "      <td>0.000000</td>\n",
       "      <td>0</td>\n",
       "      <td>-2.057471</td>\n",
       "      <td>1.098612</td>\n",
       "      <td>50</td>\n",
       "      <td>2</td>\n",
       "      <td>3</td>\n",
       "      <td>9.210440</td>\n",
       "      <td>1</td>\n",
       "      <td>3</td>\n",
       "      <td>0</td>\n",
       "      <td>0</td>\n",
       "      <td>2527</td>\n",
       "      <td>-1.941011</td>\n",
       "    </tr>\n",
       "    <tr>\n",
       "      <th>4</th>\n",
       "      <td>101655</td>\n",
       "      <td>2014-04-18</td>\n",
       "      <td>GRD</td>\n",
       "      <td>1</td>\n",
       "      <td>3.891820</td>\n",
       "      <td>0</td>\n",
       "      <td>0</td>\n",
       "      <td>0.000000</td>\n",
       "      <td>1</td>\n",
       "      <td>-1.244723</td>\n",
       "      <td>0.693147</td>\n",
       "      <td>60</td>\n",
       "      <td>2</td>\n",
       "      <td>3</td>\n",
       "      <td>10.308986</td>\n",
       "      <td>1</td>\n",
       "      <td>4</td>\n",
       "      <td>1</td>\n",
       "      <td>0</td>\n",
       "      <td>2442</td>\n",
       "      <td>-1.555903</td>\n",
       "    </tr>\n",
       "  </tbody>\n",
       "</table>\n",
       "</div>"
      ],
      "text/plain": [
       "   client_id   app_date education  sex       age  car  car_type  \\\n",
       "0      25905 2014-02-01       SCH    1  4.143135    1         1   \n",
       "1      63161 2014-03-12       SCH    0  4.094345    0         0   \n",
       "2      25887 2014-02-01       SCH    1  3.258097    1         0   \n",
       "3      16222 2014-01-23       SCH    0  3.988984    0         0   \n",
       "4     101655 2014-04-18       GRD    1  3.891820    0         0   \n",
       "\n",
       "   decline_app_cnt  good_work  score_bki  bki_request_cnt  region_rating  \\\n",
       "0         0.000000          0  -2.008753         0.693147             50   \n",
       "1         0.000000          0  -1.532276         1.386294             50   \n",
       "2         1.098612          0  -1.408142         0.693147             80   \n",
       "3         0.000000          0  -2.057471         1.098612             50   \n",
       "4         0.000000          1  -1.244723         0.693147             60   \n",
       "\n",
       "   home_address  work_address     income  sna  first_time  foreign_passport  \\\n",
       "0             1             2   9.798183    4           1                 0   \n",
       "1             2             3   9.852247    4           1                 0   \n",
       "2             1             2  10.308986    1           4                 1   \n",
       "3             2             3   9.210440    1           3                 0   \n",
       "4             2             3  10.308986    1           4                 1   \n",
       "\n",
       "   default  days  bki_age_reg  \n",
       "0        0  2518    -1.619962  \n",
       "1        0  2479    -1.298539  \n",
       "2        0  2518    -4.506055  \n",
       "3        0  2527    -1.941011  \n",
       "4        0  2442    -1.555903  "
      ]
     },
     "metadata": {},
     "output_type": "display_data"
    },
    {
     "data": {
      "text/html": [
       "<div>\n",
       "<style scoped>\n",
       "    .dataframe tbody tr th:only-of-type {\n",
       "        vertical-align: middle;\n",
       "    }\n",
       "\n",
       "    .dataframe tbody tr th {\n",
       "        vertical-align: top;\n",
       "    }\n",
       "\n",
       "    .dataframe thead th {\n",
       "        text-align: right;\n",
       "    }\n",
       "</style>\n",
       "<table border=\"1\" class=\"dataframe\">\n",
       "  <thead>\n",
       "    <tr style=\"text-align: right;\">\n",
       "      <th></th>\n",
       "      <th>client_id</th>\n",
       "      <th>app_date</th>\n",
       "      <th>education</th>\n",
       "      <th>sex</th>\n",
       "      <th>age</th>\n",
       "      <th>car</th>\n",
       "      <th>car_type</th>\n",
       "      <th>decline_app_cnt</th>\n",
       "      <th>good_work</th>\n",
       "      <th>score_bki</th>\n",
       "      <th>bki_request_cnt</th>\n",
       "      <th>region_rating</th>\n",
       "      <th>home_address</th>\n",
       "      <th>work_address</th>\n",
       "      <th>income</th>\n",
       "      <th>sna</th>\n",
       "      <th>first_time</th>\n",
       "      <th>foreign_passport</th>\n",
       "      <th>days</th>\n",
       "      <th>bki_age_reg</th>\n",
       "    </tr>\n",
       "  </thead>\n",
       "  <tbody>\n",
       "    <tr>\n",
       "      <th>0</th>\n",
       "      <td>74835</td>\n",
       "      <td>2014-03-22</td>\n",
       "      <td>GRD</td>\n",
       "      <td>1</td>\n",
       "      <td>3.401197</td>\n",
       "      <td>1</td>\n",
       "      <td>1</td>\n",
       "      <td>0.000000</td>\n",
       "      <td>0</td>\n",
       "      <td>-2.271884</td>\n",
       "      <td>1.386294</td>\n",
       "      <td>50</td>\n",
       "      <td>1</td>\n",
       "      <td>2</td>\n",
       "      <td>10.819798</td>\n",
       "      <td>1</td>\n",
       "      <td>4</td>\n",
       "      <td>0</td>\n",
       "      <td>2469</td>\n",
       "      <td>-3.917041</td>\n",
       "    </tr>\n",
       "    <tr>\n",
       "      <th>1</th>\n",
       "      <td>17527</td>\n",
       "      <td>2014-01-24</td>\n",
       "      <td>SCH</td>\n",
       "      <td>0</td>\n",
       "      <td>3.688879</td>\n",
       "      <td>0</td>\n",
       "      <td>0</td>\n",
       "      <td>1.791759</td>\n",
       "      <td>0</td>\n",
       "      <td>-1.504999</td>\n",
       "      <td>1.098612</td>\n",
       "      <td>50</td>\n",
       "      <td>1</td>\n",
       "      <td>2</td>\n",
       "      <td>8.517393</td>\n",
       "      <td>4</td>\n",
       "      <td>3</td>\n",
       "      <td>0</td>\n",
       "      <td>2526</td>\n",
       "      <td>-1.929486</td>\n",
       "    </tr>\n",
       "    <tr>\n",
       "      <th>2</th>\n",
       "      <td>75683</td>\n",
       "      <td>2014-03-23</td>\n",
       "      <td>UGR</td>\n",
       "      <td>1</td>\n",
       "      <td>3.931826</td>\n",
       "      <td>1</td>\n",
       "      <td>1</td>\n",
       "      <td>0.000000</td>\n",
       "      <td>0</td>\n",
       "      <td>-1.691339</td>\n",
       "      <td>0.693147</td>\n",
       "      <td>50</td>\n",
       "      <td>1</td>\n",
       "      <td>2</td>\n",
       "      <td>10.308986</td>\n",
       "      <td>1</td>\n",
       "      <td>3</td>\n",
       "      <td>1</td>\n",
       "      <td>2468</td>\n",
       "      <td>-1.691339</td>\n",
       "    </tr>\n",
       "    <tr>\n",
       "      <th>3</th>\n",
       "      <td>26883</td>\n",
       "      <td>2014-02-03</td>\n",
       "      <td>SCH</td>\n",
       "      <td>1</td>\n",
       "      <td>4.043051</td>\n",
       "      <td>0</td>\n",
       "      <td>0</td>\n",
       "      <td>0.000000</td>\n",
       "      <td>0</td>\n",
       "      <td>-2.374182</td>\n",
       "      <td>0.693147</td>\n",
       "      <td>40</td>\n",
       "      <td>1</td>\n",
       "      <td>2</td>\n",
       "      <td>9.741027</td>\n",
       "      <td>1</td>\n",
       "      <td>3</td>\n",
       "      <td>0</td>\n",
       "      <td>2516</td>\n",
       "      <td>-1.695845</td>\n",
       "    </tr>\n",
       "    <tr>\n",
       "      <th>4</th>\n",
       "      <td>28862</td>\n",
       "      <td>2014-02-04</td>\n",
       "      <td>GRD</td>\n",
       "      <td>0</td>\n",
       "      <td>3.663562</td>\n",
       "      <td>0</td>\n",
       "      <td>0</td>\n",
       "      <td>0.000000</td>\n",
       "      <td>0</td>\n",
       "      <td>-2.487502</td>\n",
       "      <td>0.000000</td>\n",
       "      <td>80</td>\n",
       "      <td>2</td>\n",
       "      <td>3</td>\n",
       "      <td>11.695255</td>\n",
       "      <td>1</td>\n",
       "      <td>3</td>\n",
       "      <td>0</td>\n",
       "      <td>2515</td>\n",
       "      <td>-5.236847</td>\n",
       "    </tr>\n",
       "  </tbody>\n",
       "</table>\n",
       "</div>"
      ],
      "text/plain": [
       "   client_id   app_date education  sex       age  car  car_type  \\\n",
       "0      74835 2014-03-22       GRD    1  3.401197    1         1   \n",
       "1      17527 2014-01-24       SCH    0  3.688879    0         0   \n",
       "2      75683 2014-03-23       UGR    1  3.931826    1         1   \n",
       "3      26883 2014-02-03       SCH    1  4.043051    0         0   \n",
       "4      28862 2014-02-04       GRD    0  3.663562    0         0   \n",
       "\n",
       "   decline_app_cnt  good_work  score_bki  bki_request_cnt  region_rating  \\\n",
       "0         0.000000          0  -2.271884         1.386294             50   \n",
       "1         1.791759          0  -1.504999         1.098612             50   \n",
       "2         0.000000          0  -1.691339         0.693147             50   \n",
       "3         0.000000          0  -2.374182         0.693147             40   \n",
       "4         0.000000          0  -2.487502         0.000000             80   \n",
       "\n",
       "   home_address  work_address     income  sna  first_time  foreign_passport  \\\n",
       "0             1             2  10.819798    1           4                 0   \n",
       "1             1             2   8.517393    4           3                 0   \n",
       "2             1             2  10.308986    1           3                 1   \n",
       "3             1             2   9.741027    1           3                 0   \n",
       "4             2             3  11.695255    1           3                 0   \n",
       "\n",
       "   days  bki_age_reg  \n",
       "0  2469    -3.917041  \n",
       "1  2526    -1.929486  \n",
       "2  2468    -1.691339  \n",
       "3  2516    -1.695845  \n",
       "4  2515    -5.236847  "
      ]
     },
     "metadata": {},
     "output_type": "display_data"
    }
   ],
   "source": [
    "label_encoder = LabelEncoder()\n",
    "\n",
    "for column in bin_cols:\n",
    "    train[column] = label_encoder.fit_transform(train[column])\n",
    "    test[column] = label_encoder.fit_transform(test[column])\n",
    "\n",
    "\n",
    "# убедимся в преобразовании\n",
    "display(train.head())\n",
    "display(test.head())"
   ]
  },
  {
   "cell_type": "code",
   "execution_count": 39,
   "metadata": {
    "ExecuteTime": {
     "end_time": "2020-12-26T08:33:45.820936Z",
     "start_time": "2020-12-26T08:33:45.762086Z"
    },
    "execution": {
     "iopub.execute_input": "2020-12-26T11:16:52.859787Z",
     "iopub.status.busy": "2020-12-26T11:16:52.859070Z",
     "iopub.status.idle": "2020-12-26T11:16:52.894394Z",
     "shell.execute_reply": "2020-12-26T11:16:52.893752Z"
    },
    "papermill": {
     "duration": 0.134217,
     "end_time": "2020-12-26T11:16:52.894510",
     "exception": false,
     "start_time": "2020-12-26T11:16:52.760293",
     "status": "completed"
    },
    "tags": []
   },
   "outputs": [],
   "source": [
    "# Добавим ещё признаков\n",
    "\n",
    "#Два нижележащих повышают f1-score на 0,01, но только вместе.\n",
    "train['new_one'] = (train['score_bki']/train['age'])**train['sna']\n",
    "test['new_one'] = (test['score_bki']/test['age'])**test['sna']\n",
    "num_cols.append('new_one')\n",
    "\n",
    "train['new_one1'] = (train['score_bki']/train['age'])**train['foreign_passport']\n",
    "test['new_one1'] = (test['score_bki']/test['age'])**test['foreign_passport']\n",
    "num_cols.append('new_one1')\n",
    "\n",
    "# Попытки выделить месяц как отдельную категориальную переменную не оказали видимого влияния на модель.\n",
    "train['month'] = train['app_date'].dt.month\n",
    "test['month'] = test['app_date'].dt.month\n",
    "cat_cols.append('month')"
   ]
  },
  {
   "cell_type": "code",
   "execution_count": 40,
   "metadata": {
    "ExecuteTime": {
     "end_time": "2020-12-26T08:33:46.278714Z",
     "start_time": "2020-12-26T08:33:45.830908Z"
    },
    "execution": {
     "iopub.execute_input": "2020-12-26T11:16:53.080948Z",
     "iopub.status.busy": "2020-12-26T11:16:53.080296Z",
     "iopub.status.idle": "2020-12-26T11:16:53.314309Z",
     "shell.execute_reply": "2020-12-26T11:16:53.314820Z"
    },
    "papermill": {
     "duration": 0.331198,
     "end_time": "2020-12-26T11:16:53.314969",
     "exception": false,
     "start_time": "2020-12-26T11:16:52.983771",
     "status": "completed"
    },
    "tags": []
   },
   "outputs": [
    {
     "data": {
      "text/html": [
       "<style  type=\"text/css\" >\n",
       "#T_db670ef0_476b_11eb_89ff_0242ac130202row0_col0,#T_db670ef0_476b_11eb_89ff_0242ac130202row1_col1,#T_db670ef0_476b_11eb_89ff_0242ac130202row2_col2,#T_db670ef0_476b_11eb_89ff_0242ac130202row3_col3,#T_db670ef0_476b_11eb_89ff_0242ac130202row4_col4,#T_db670ef0_476b_11eb_89ff_0242ac130202row5_col5,#T_db670ef0_476b_11eb_89ff_0242ac130202row6_col6,#T_db670ef0_476b_11eb_89ff_0242ac130202row7_col7,#T_db670ef0_476b_11eb_89ff_0242ac130202row8_col8{\n",
       "            background-color:  #b40426;\n",
       "            color:  #f1f1f1;\n",
       "        }#T_db670ef0_476b_11eb_89ff_0242ac130202row0_col1,#T_db670ef0_476b_11eb_89ff_0242ac130202row4_col7,#T_db670ef0_476b_11eb_89ff_0242ac130202row5_col2{\n",
       "            background-color:  #5d7ce6;\n",
       "            color:  #000000;\n",
       "        }#T_db670ef0_476b_11eb_89ff_0242ac130202row0_col2,#T_db670ef0_476b_11eb_89ff_0242ac130202row0_col3{\n",
       "            background-color:  #688aef;\n",
       "            color:  #000000;\n",
       "        }#T_db670ef0_476b_11eb_89ff_0242ac130202row0_col4,#T_db670ef0_476b_11eb_89ff_0242ac130202row1_col0,#T_db670ef0_476b_11eb_89ff_0242ac130202row1_col2,#T_db670ef0_476b_11eb_89ff_0242ac130202row1_col3,#T_db670ef0_476b_11eb_89ff_0242ac130202row2_col1,#T_db670ef0_476b_11eb_89ff_0242ac130202row5_col6,#T_db670ef0_476b_11eb_89ff_0242ac130202row5_col7,#T_db670ef0_476b_11eb_89ff_0242ac130202row5_col8,#T_db670ef0_476b_11eb_89ff_0242ac130202row8_col5{\n",
       "            background-color:  #3b4cc0;\n",
       "            color:  #f1f1f1;\n",
       "        }#T_db670ef0_476b_11eb_89ff_0242ac130202row0_col5{\n",
       "            background-color:  #799cf8;\n",
       "            color:  #000000;\n",
       "        }#T_db670ef0_476b_11eb_89ff_0242ac130202row0_col6,#T_db670ef0_476b_11eb_89ff_0242ac130202row3_col5{\n",
       "            background-color:  #7699f6;\n",
       "            color:  #000000;\n",
       "        }#T_db670ef0_476b_11eb_89ff_0242ac130202row0_col7{\n",
       "            background-color:  #5977e3;\n",
       "            color:  #000000;\n",
       "        }#T_db670ef0_476b_11eb_89ff_0242ac130202row0_col8,#T_db670ef0_476b_11eb_89ff_0242ac130202row4_col2,#T_db670ef0_476b_11eb_89ff_0242ac130202row4_col3{\n",
       "            background-color:  #7a9df8;\n",
       "            color:  #000000;\n",
       "        }#T_db670ef0_476b_11eb_89ff_0242ac130202row1_col4{\n",
       "            background-color:  #4a63d3;\n",
       "            color:  #f1f1f1;\n",
       "        }#T_db670ef0_476b_11eb_89ff_0242ac130202row1_col5{\n",
       "            background-color:  #5f7fe8;\n",
       "            color:  #000000;\n",
       "        }#T_db670ef0_476b_11eb_89ff_0242ac130202row1_col6{\n",
       "            background-color:  #f7bca1;\n",
       "            color:  #000000;\n",
       "        }#T_db670ef0_476b_11eb_89ff_0242ac130202row1_col7,#T_db670ef0_476b_11eb_89ff_0242ac130202row4_col0,#T_db670ef0_476b_11eb_89ff_0242ac130202row5_col0{\n",
       "            background-color:  #3e51c5;\n",
       "            color:  #f1f1f1;\n",
       "        }#T_db670ef0_476b_11eb_89ff_0242ac130202row1_col8{\n",
       "            background-color:  #86a9fc;\n",
       "            color:  #000000;\n",
       "        }#T_db670ef0_476b_11eb_89ff_0242ac130202row2_col0,#T_db670ef0_476b_11eb_89ff_0242ac130202row3_col1{\n",
       "            background-color:  #455cce;\n",
       "            color:  #f1f1f1;\n",
       "        }#T_db670ef0_476b_11eb_89ff_0242ac130202row2_col3{\n",
       "            background-color:  #9bbcff;\n",
       "            color:  #000000;\n",
       "        }#T_db670ef0_476b_11eb_89ff_0242ac130202row2_col4{\n",
       "            background-color:  #5470de;\n",
       "            color:  #000000;\n",
       "        }#T_db670ef0_476b_11eb_89ff_0242ac130202row2_col5,#T_db670ef0_476b_11eb_89ff_0242ac130202row6_col2{\n",
       "            background-color:  #7597f6;\n",
       "            color:  #000000;\n",
       "        }#T_db670ef0_476b_11eb_89ff_0242ac130202row2_col6,#T_db670ef0_476b_11eb_89ff_0242ac130202row4_col8{\n",
       "            background-color:  #80a3fa;\n",
       "            color:  #000000;\n",
       "        }#T_db670ef0_476b_11eb_89ff_0242ac130202row2_col7,#T_db670ef0_476b_11eb_89ff_0242ac130202row8_col3{\n",
       "            background-color:  #6c8ff1;\n",
       "            color:  #000000;\n",
       "        }#T_db670ef0_476b_11eb_89ff_0242ac130202row2_col8{\n",
       "            background-color:  #89acfd;\n",
       "            color:  #000000;\n",
       "        }#T_db670ef0_476b_11eb_89ff_0242ac130202row3_col0{\n",
       "            background-color:  #516ddb;\n",
       "            color:  #000000;\n",
       "        }#T_db670ef0_476b_11eb_89ff_0242ac130202row3_col2,#T_db670ef0_476b_11eb_89ff_0242ac130202row8_col6{\n",
       "            background-color:  #a3c2fe;\n",
       "            color:  #000000;\n",
       "        }#T_db670ef0_476b_11eb_89ff_0242ac130202row3_col4{\n",
       "            background-color:  #5e7de7;\n",
       "            color:  #000000;\n",
       "        }#T_db670ef0_476b_11eb_89ff_0242ac130202row3_col6{\n",
       "            background-color:  #f1ccb8;\n",
       "            color:  #000000;\n",
       "        }#T_db670ef0_476b_11eb_89ff_0242ac130202row3_col7{\n",
       "            background-color:  #90b2fe;\n",
       "            color:  #000000;\n",
       "        }#T_db670ef0_476b_11eb_89ff_0242ac130202row3_col8{\n",
       "            background-color:  #8db0fe;\n",
       "            color:  #000000;\n",
       "        }#T_db670ef0_476b_11eb_89ff_0242ac130202row4_col1,#T_db670ef0_476b_11eb_89ff_0242ac130202row8_col2{\n",
       "            background-color:  #7093f3;\n",
       "            color:  #000000;\n",
       "        }#T_db670ef0_476b_11eb_89ff_0242ac130202row4_col5{\n",
       "            background-color:  #8caffe;\n",
       "            color:  #000000;\n",
       "        }#T_db670ef0_476b_11eb_89ff_0242ac130202row4_col6,#T_db670ef0_476b_11eb_89ff_0242ac130202row7_col6{\n",
       "            background-color:  #8badfd;\n",
       "            color:  #000000;\n",
       "        }#T_db670ef0_476b_11eb_89ff_0242ac130202row5_col1,#T_db670ef0_476b_11eb_89ff_0242ac130202row7_col0,#T_db670ef0_476b_11eb_89ff_0242ac130202row7_col4{\n",
       "            background-color:  #465ecf;\n",
       "            color:  #f1f1f1;\n",
       "        }#T_db670ef0_476b_11eb_89ff_0242ac130202row5_col3{\n",
       "            background-color:  #536edd;\n",
       "            color:  #000000;\n",
       "        }#T_db670ef0_476b_11eb_89ff_0242ac130202row5_col4{\n",
       "            background-color:  #4e68d8;\n",
       "            color:  #000000;\n",
       "        }#T_db670ef0_476b_11eb_89ff_0242ac130202row6_col0,#T_db670ef0_476b_11eb_89ff_0242ac130202row6_col5{\n",
       "            background-color:  #485fd1;\n",
       "            color:  #f1f1f1;\n",
       "        }#T_db670ef0_476b_11eb_89ff_0242ac130202row6_col1{\n",
       "            background-color:  #f6bfa6;\n",
       "            color:  #000000;\n",
       "        }#T_db670ef0_476b_11eb_89ff_0242ac130202row6_col3{\n",
       "            background-color:  #ecd3c5;\n",
       "            color:  #000000;\n",
       "        }#T_db670ef0_476b_11eb_89ff_0242ac130202row6_col4{\n",
       "            background-color:  #5a78e4;\n",
       "            color:  #000000;\n",
       "        }#T_db670ef0_476b_11eb_89ff_0242ac130202row6_col7{\n",
       "            background-color:  #7295f4;\n",
       "            color:  #000000;\n",
       "        }#T_db670ef0_476b_11eb_89ff_0242ac130202row6_col8{\n",
       "            background-color:  #aec9fc;\n",
       "            color:  #000000;\n",
       "        }#T_db670ef0_476b_11eb_89ff_0242ac130202row7_col1{\n",
       "            background-color:  #4f69d9;\n",
       "            color:  #000000;\n",
       "        }#T_db670ef0_476b_11eb_89ff_0242ac130202row7_col2{\n",
       "            background-color:  #7da0f9;\n",
       "            color:  #000000;\n",
       "        }#T_db670ef0_476b_11eb_89ff_0242ac130202row7_col3{\n",
       "            background-color:  #96b7ff;\n",
       "            color:  #000000;\n",
       "        }#T_db670ef0_476b_11eb_89ff_0242ac130202row7_col5{\n",
       "            background-color:  #6384eb;\n",
       "            color:  #000000;\n",
       "        }#T_db670ef0_476b_11eb_89ff_0242ac130202row7_col8{\n",
       "            background-color:  #a5c3fe;\n",
       "            color:  #000000;\n",
       "        }#T_db670ef0_476b_11eb_89ff_0242ac130202row8_col0{\n",
       "            background-color:  #3f53c6;\n",
       "            color:  #f1f1f1;\n",
       "        }#T_db670ef0_476b_11eb_89ff_0242ac130202row8_col1{\n",
       "            background-color:  #6e90f2;\n",
       "            color:  #000000;\n",
       "        }#T_db670ef0_476b_11eb_89ff_0242ac130202row8_col4{\n",
       "            background-color:  #4055c8;\n",
       "            color:  #f1f1f1;\n",
       "        }#T_db670ef0_476b_11eb_89ff_0242ac130202row8_col7{\n",
       "            background-color:  #81a4fb;\n",
       "            color:  #000000;\n",
       "        }</style><table id=\"T_db670ef0_476b_11eb_89ff_0242ac130202\" ><thead>    <tr>        <th class=\"blank level0\" ></th>        <th class=\"col_heading level0 col0\" >days</th>        <th class=\"col_heading level0 col1\" >age</th>        <th class=\"col_heading level0 col2\" >decline_app_cnt</th>        <th class=\"col_heading level0 col3\" >score_bki</th>        <th class=\"col_heading level0 col4\" >bki_request_cnt</th>        <th class=\"col_heading level0 col5\" >income</th>        <th class=\"col_heading level0 col6\" >bki_age_reg</th>        <th class=\"col_heading level0 col7\" >new_one</th>        <th class=\"col_heading level0 col8\" >new_one1</th>    </tr></thead><tbody>\n",
       "                <tr>\n",
       "                        <th id=\"T_db670ef0_476b_11eb_89ff_0242ac130202level0_row0\" class=\"row_heading level0 row0\" >days</th>\n",
       "                        <td id=\"T_db670ef0_476b_11eb_89ff_0242ac130202row0_col0\" class=\"data row0 col0\" >1.000</td>\n",
       "                        <td id=\"T_db670ef0_476b_11eb_89ff_0242ac130202row0_col1\" class=\"data row0 col1\" >-0.021</td>\n",
       "                        <td id=\"T_db670ef0_476b_11eb_89ff_0242ac130202row0_col2\" class=\"data row0 col2\" >0.018</td>\n",
       "                        <td id=\"T_db670ef0_476b_11eb_89ff_0242ac130202row0_col3\" class=\"data row0 col3\" >0.055</td>\n",
       "                        <td id=\"T_db670ef0_476b_11eb_89ff_0242ac130202row0_col4\" class=\"data row0 col4\" >-0.006</td>\n",
       "                        <td id=\"T_db670ef0_476b_11eb_89ff_0242ac130202row0_col5\" class=\"data row0 col5\" >-0.007</td>\n",
       "                        <td id=\"T_db670ef0_476b_11eb_89ff_0242ac130202row0_col6\" class=\"data row0 col6\" >0.026</td>\n",
       "                        <td id=\"T_db670ef0_476b_11eb_89ff_0242ac130202row0_col7\" class=\"data row0 col7\" >0.020</td>\n",
       "                        <td id=\"T_db670ef0_476b_11eb_89ff_0242ac130202row0_col8\" class=\"data row0 col8\" >-0.003</td>\n",
       "            </tr>\n",
       "            <tr>\n",
       "                        <th id=\"T_db670ef0_476b_11eb_89ff_0242ac130202level0_row1\" class=\"row_heading level0 row1\" >age</th>\n",
       "                        <td id=\"T_db670ef0_476b_11eb_89ff_0242ac130202row1_col0\" class=\"data row1 col0\" >-0.021</td>\n",
       "                        <td id=\"T_db670ef0_476b_11eb_89ff_0242ac130202row1_col1\" class=\"data row1 col1\" >1.000</td>\n",
       "                        <td id=\"T_db670ef0_476b_11eb_89ff_0242ac130202row1_col2\" class=\"data row1 col2\" >-0.151</td>\n",
       "                        <td id=\"T_db670ef0_476b_11eb_89ff_0242ac130202row1_col3\" class=\"data row1 col3\" >-0.109</td>\n",
       "                        <td id=\"T_db670ef0_476b_11eb_89ff_0242ac130202row1_col4\" class=\"data row1 col4\" >0.047</td>\n",
       "                        <td id=\"T_db670ef0_476b_11eb_89ff_0242ac130202row1_col5\" class=\"data row1 col5\" >-0.102</td>\n",
       "                        <td id=\"T_db670ef0_476b_11eb_89ff_0242ac130202row1_col6\" class=\"data row1 col6\" >0.587</td>\n",
       "                        <td id=\"T_db670ef0_476b_11eb_89ff_0242ac130202row1_col7\" class=\"data row1 col7\" >-0.074</td>\n",
       "                        <td id=\"T_db670ef0_476b_11eb_89ff_0242ac130202row1_col8\" class=\"data row1 col8\" >0.037</td>\n",
       "            </tr>\n",
       "            <tr>\n",
       "                        <th id=\"T_db670ef0_476b_11eb_89ff_0242ac130202level0_row2\" class=\"row_heading level0 row2\" >decline_app_cnt</th>\n",
       "                        <td id=\"T_db670ef0_476b_11eb_89ff_0242ac130202row2_col0\" class=\"data row2 col0\" >0.018</td>\n",
       "                        <td id=\"T_db670ef0_476b_11eb_89ff_0242ac130202row2_col1\" class=\"data row2 col1\" >-0.151</td>\n",
       "                        <td id=\"T_db670ef0_476b_11eb_89ff_0242ac130202row2_col2\" class=\"data row2 col2\" >1.000</td>\n",
       "                        <td id=\"T_db670ef0_476b_11eb_89ff_0242ac130202row2_col3\" class=\"data row2 col3\" >0.212</td>\n",
       "                        <td id=\"T_db670ef0_476b_11eb_89ff_0242ac130202row2_col4\" class=\"data row2 col4\" >0.077</td>\n",
       "                        <td id=\"T_db670ef0_476b_11eb_89ff_0242ac130202row2_col5\" class=\"data row2 col5\" >-0.023</td>\n",
       "                        <td id=\"T_db670ef0_476b_11eb_89ff_0242ac130202row2_col6\" class=\"data row2 col6\" >0.058</td>\n",
       "                        <td id=\"T_db670ef0_476b_11eb_89ff_0242ac130202row2_col7\" class=\"data row2 col7\" >0.084</td>\n",
       "                        <td id=\"T_db670ef0_476b_11eb_89ff_0242ac130202row2_col8\" class=\"data row2 col8\" >0.047</td>\n",
       "            </tr>\n",
       "            <tr>\n",
       "                        <th id=\"T_db670ef0_476b_11eb_89ff_0242ac130202level0_row3\" class=\"row_heading level0 row3\" >score_bki</th>\n",
       "                        <td id=\"T_db670ef0_476b_11eb_89ff_0242ac130202row3_col0\" class=\"data row3 col0\" >0.055</td>\n",
       "                        <td id=\"T_db670ef0_476b_11eb_89ff_0242ac130202row3_col1\" class=\"data row3 col1\" >-0.109</td>\n",
       "                        <td id=\"T_db670ef0_476b_11eb_89ff_0242ac130202row3_col2\" class=\"data row3 col2\" >0.212</td>\n",
       "                        <td id=\"T_db670ef0_476b_11eb_89ff_0242ac130202row3_col3\" class=\"data row3 col3\" >1.000</td>\n",
       "                        <td id=\"T_db670ef0_476b_11eb_89ff_0242ac130202row3_col4\" class=\"data row3 col4\" >0.108</td>\n",
       "                        <td id=\"T_db670ef0_476b_11eb_89ff_0242ac130202row3_col5\" class=\"data row3 col5\" >-0.018</td>\n",
       "                        <td id=\"T_db670ef0_476b_11eb_89ff_0242ac130202row3_col6\" class=\"data row3 col6\" >0.517</td>\n",
       "                        <td id=\"T_db670ef0_476b_11eb_89ff_0242ac130202row3_col7\" class=\"data row3 col7\" >0.195</td>\n",
       "                        <td id=\"T_db670ef0_476b_11eb_89ff_0242ac130202row3_col8\" class=\"data row3 col8\" >0.066</td>\n",
       "            </tr>\n",
       "            <tr>\n",
       "                        <th id=\"T_db670ef0_476b_11eb_89ff_0242ac130202level0_row4\" class=\"row_heading level0 row4\" >bki_request_cnt</th>\n",
       "                        <td id=\"T_db670ef0_476b_11eb_89ff_0242ac130202row4_col0\" class=\"data row4 col0\" >-0.006</td>\n",
       "                        <td id=\"T_db670ef0_476b_11eb_89ff_0242ac130202row4_col1\" class=\"data row4 col1\" >0.047</td>\n",
       "                        <td id=\"T_db670ef0_476b_11eb_89ff_0242ac130202row4_col2\" class=\"data row4 col2\" >0.077</td>\n",
       "                        <td id=\"T_db670ef0_476b_11eb_89ff_0242ac130202row4_col3\" class=\"data row4 col3\" >0.108</td>\n",
       "                        <td id=\"T_db670ef0_476b_11eb_89ff_0242ac130202row4_col4\" class=\"data row4 col4\" >1.000</td>\n",
       "                        <td id=\"T_db670ef0_476b_11eb_89ff_0242ac130202row4_col5\" class=\"data row4 col5\" >0.058</td>\n",
       "                        <td id=\"T_db670ef0_476b_11eb_89ff_0242ac130202row4_col6\" class=\"data row4 col6\" >0.097</td>\n",
       "                        <td id=\"T_db670ef0_476b_11eb_89ff_0242ac130202row4_col7\" class=\"data row4 col7\" >0.034</td>\n",
       "                        <td id=\"T_db670ef0_476b_11eb_89ff_0242ac130202row4_col8\" class=\"data row4 col8\" >0.014</td>\n",
       "            </tr>\n",
       "            <tr>\n",
       "                        <th id=\"T_db670ef0_476b_11eb_89ff_0242ac130202level0_row5\" class=\"row_heading level0 row5\" >income</th>\n",
       "                        <td id=\"T_db670ef0_476b_11eb_89ff_0242ac130202row5_col0\" class=\"data row5 col0\" >-0.007</td>\n",
       "                        <td id=\"T_db670ef0_476b_11eb_89ff_0242ac130202row5_col1\" class=\"data row5 col1\" >-0.102</td>\n",
       "                        <td id=\"T_db670ef0_476b_11eb_89ff_0242ac130202row5_col2\" class=\"data row5 col2\" >-0.023</td>\n",
       "                        <td id=\"T_db670ef0_476b_11eb_89ff_0242ac130202row5_col3\" class=\"data row5 col3\" >-0.018</td>\n",
       "                        <td id=\"T_db670ef0_476b_11eb_89ff_0242ac130202row5_col4\" class=\"data row5 col4\" >0.058</td>\n",
       "                        <td id=\"T_db670ef0_476b_11eb_89ff_0242ac130202row5_col5\" class=\"data row5 col5\" >1.000</td>\n",
       "                        <td id=\"T_db670ef0_476b_11eb_89ff_0242ac130202row5_col6\" class=\"data row5 col6\" >-0.194</td>\n",
       "                        <td id=\"T_db670ef0_476b_11eb_89ff_0242ac130202row5_col7\" class=\"data row5 col7\" >-0.089</td>\n",
       "                        <td id=\"T_db670ef0_476b_11eb_89ff_0242ac130202row5_col8\" class=\"data row5 col8\" >-0.251</td>\n",
       "            </tr>\n",
       "            <tr>\n",
       "                        <th id=\"T_db670ef0_476b_11eb_89ff_0242ac130202level0_row6\" class=\"row_heading level0 row6\" >bki_age_reg</th>\n",
       "                        <td id=\"T_db670ef0_476b_11eb_89ff_0242ac130202row6_col0\" class=\"data row6 col0\" >0.026</td>\n",
       "                        <td id=\"T_db670ef0_476b_11eb_89ff_0242ac130202row6_col1\" class=\"data row6 col1\" >0.587</td>\n",
       "                        <td id=\"T_db670ef0_476b_11eb_89ff_0242ac130202row6_col2\" class=\"data row6 col2\" >0.058</td>\n",
       "                        <td id=\"T_db670ef0_476b_11eb_89ff_0242ac130202row6_col3\" class=\"data row6 col3\" >0.517</td>\n",
       "                        <td id=\"T_db670ef0_476b_11eb_89ff_0242ac130202row6_col4\" class=\"data row6 col4\" >0.097</td>\n",
       "                        <td id=\"T_db670ef0_476b_11eb_89ff_0242ac130202row6_col5\" class=\"data row6 col5\" >-0.194</td>\n",
       "                        <td id=\"T_db670ef0_476b_11eb_89ff_0242ac130202row6_col6\" class=\"data row6 col6\" >1.000</td>\n",
       "                        <td id=\"T_db670ef0_476b_11eb_89ff_0242ac130202row6_col7\" class=\"data row6 col7\" >0.099</td>\n",
       "                        <td id=\"T_db670ef0_476b_11eb_89ff_0242ac130202row6_col8\" class=\"data row6 col8\" >0.184</td>\n",
       "            </tr>\n",
       "            <tr>\n",
       "                        <th id=\"T_db670ef0_476b_11eb_89ff_0242ac130202level0_row7\" class=\"row_heading level0 row7\" >new_one</th>\n",
       "                        <td id=\"T_db670ef0_476b_11eb_89ff_0242ac130202row7_col0\" class=\"data row7 col0\" >0.020</td>\n",
       "                        <td id=\"T_db670ef0_476b_11eb_89ff_0242ac130202row7_col1\" class=\"data row7 col1\" >-0.074</td>\n",
       "                        <td id=\"T_db670ef0_476b_11eb_89ff_0242ac130202row7_col2\" class=\"data row7 col2\" >0.084</td>\n",
       "                        <td id=\"T_db670ef0_476b_11eb_89ff_0242ac130202row7_col3\" class=\"data row7 col3\" >0.195</td>\n",
       "                        <td id=\"T_db670ef0_476b_11eb_89ff_0242ac130202row7_col4\" class=\"data row7 col4\" >0.034</td>\n",
       "                        <td id=\"T_db670ef0_476b_11eb_89ff_0242ac130202row7_col5\" class=\"data row7 col5\" >-0.089</td>\n",
       "                        <td id=\"T_db670ef0_476b_11eb_89ff_0242ac130202row7_col6\" class=\"data row7 col6\" >0.099</td>\n",
       "                        <td id=\"T_db670ef0_476b_11eb_89ff_0242ac130202row7_col7\" class=\"data row7 col7\" >1.000</td>\n",
       "                        <td id=\"T_db670ef0_476b_11eb_89ff_0242ac130202row7_col8\" class=\"data row7 col8\" >0.146</td>\n",
       "            </tr>\n",
       "            <tr>\n",
       "                        <th id=\"T_db670ef0_476b_11eb_89ff_0242ac130202level0_row8\" class=\"row_heading level0 row8\" >new_one1</th>\n",
       "                        <td id=\"T_db670ef0_476b_11eb_89ff_0242ac130202row8_col0\" class=\"data row8 col0\" >-0.003</td>\n",
       "                        <td id=\"T_db670ef0_476b_11eb_89ff_0242ac130202row8_col1\" class=\"data row8 col1\" >0.037</td>\n",
       "                        <td id=\"T_db670ef0_476b_11eb_89ff_0242ac130202row8_col2\" class=\"data row8 col2\" >0.047</td>\n",
       "                        <td id=\"T_db670ef0_476b_11eb_89ff_0242ac130202row8_col3\" class=\"data row8 col3\" >0.066</td>\n",
       "                        <td id=\"T_db670ef0_476b_11eb_89ff_0242ac130202row8_col4\" class=\"data row8 col4\" >0.014</td>\n",
       "                        <td id=\"T_db670ef0_476b_11eb_89ff_0242ac130202row8_col5\" class=\"data row8 col5\" >-0.251</td>\n",
       "                        <td id=\"T_db670ef0_476b_11eb_89ff_0242ac130202row8_col6\" class=\"data row8 col6\" >0.184</td>\n",
       "                        <td id=\"T_db670ef0_476b_11eb_89ff_0242ac130202row8_col7\" class=\"data row8 col7\" >0.146</td>\n",
       "                        <td id=\"T_db670ef0_476b_11eb_89ff_0242ac130202row8_col8\" class=\"data row8 col8\" >1.000</td>\n",
       "            </tr>\n",
       "    </tbody></table>"
      ],
      "text/plain": [
       "<pandas.io.formats.style.Styler at 0x7f1a4c47c9d0>"
      ]
     },
     "execution_count": 40,
     "metadata": {},
     "output_type": "execute_result"
    }
   ],
   "source": [
    "corr = train[num_cols].corr()\n",
    "corr.style.background_gradient(cmap='coolwarm').set_precision(3)"
   ]
  },
  {
   "cell_type": "markdown",
   "metadata": {
    "papermill": {
     "duration": 0.116801,
     "end_time": "2020-12-26T11:16:53.524277",
     "exception": false,
     "start_time": "2020-12-26T11:16:53.407476",
     "status": "completed"
    },
    "tags": []
   },
   "source": [
    "Высокой корреляции между признаками не наблюдается, за исключением искусственно созданного bki_age_rate и составляющих его признаков. Но корреляция не настолько высока (меньше 0.7), чтобы исключать наш признак из анализа."
   ]
  },
  {
   "cell_type": "code",
   "execution_count": 41,
   "metadata": {
    "ExecuteTime": {
     "end_time": "2020-12-26T08:33:46.360491Z",
     "start_time": "2020-12-26T08:33:46.28469Z"
    },
    "execution": {
     "iopub.execute_input": "2020-12-26T11:16:53.728632Z",
     "iopub.status.busy": "2020-12-26T11:16:53.715625Z",
     "iopub.status.idle": "2020-12-26T11:16:53.756420Z",
     "shell.execute_reply": "2020-12-26T11:16:53.755805Z"
    },
    "papermill": {
     "duration": 0.139264,
     "end_time": "2020-12-26T11:16:53.756548",
     "exception": false,
     "start_time": "2020-12-26T11:16:53.617284",
     "status": "completed"
    },
    "tags": []
   },
   "outputs": [],
   "source": [
    "train = pd.get_dummies(train, columns=['education'])"
   ]
  },
  {
   "cell_type": "code",
   "execution_count": 42,
   "metadata": {
    "ExecuteTime": {
     "end_time": "2020-12-26T08:33:46.501118Z",
     "start_time": "2020-12-26T08:33:46.372459Z"
    },
    "execution": {
     "iopub.execute_input": "2020-12-26T11:16:53.941962Z",
     "iopub.status.busy": "2020-12-26T11:16:53.941311Z",
     "iopub.status.idle": "2020-12-26T11:16:53.977136Z",
     "shell.execute_reply": "2020-12-26T11:16:53.977714Z"
    },
    "papermill": {
     "duration": 0.130233,
     "end_time": "2020-12-26T11:16:53.977857",
     "exception": false,
     "start_time": "2020-12-26T11:16:53.847624",
     "status": "completed"
    },
    "tags": []
   },
   "outputs": [],
   "source": [
    "train = pd.get_dummies(train, columns=['region_rating'])"
   ]
  },
  {
   "cell_type": "code",
   "execution_count": 43,
   "metadata": {
    "ExecuteTime": {
     "end_time": "2020-12-26T08:33:46.643739Z",
     "start_time": "2020-12-26T08:33:46.5051Z"
    },
    "execution": {
     "iopub.execute_input": "2020-12-26T11:16:54.162989Z",
     "iopub.status.busy": "2020-12-26T11:16:54.162328Z",
     "iopub.status.idle": "2020-12-26T11:16:54.205757Z",
     "shell.execute_reply": "2020-12-26T11:16:54.206325Z"
    },
    "papermill": {
     "duration": 0.137574,
     "end_time": "2020-12-26T11:16:54.206470",
     "exception": false,
     "start_time": "2020-12-26T11:16:54.068896",
     "status": "completed"
    },
    "scrolled": true,
    "tags": []
   },
   "outputs": [
    {
     "data": {
      "text/html": [
       "<div>\n",
       "<style scoped>\n",
       "    .dataframe tbody tr th:only-of-type {\n",
       "        vertical-align: middle;\n",
       "    }\n",
       "\n",
       "    .dataframe tbody tr th {\n",
       "        vertical-align: top;\n",
       "    }\n",
       "\n",
       "    .dataframe thead th {\n",
       "        text-align: right;\n",
       "    }\n",
       "</style>\n",
       "<table border=\"1\" class=\"dataframe\">\n",
       "  <thead>\n",
       "    <tr style=\"text-align: right;\">\n",
       "      <th></th>\n",
       "      <th>client_id</th>\n",
       "      <th>app_date</th>\n",
       "      <th>sex</th>\n",
       "      <th>age</th>\n",
       "      <th>car</th>\n",
       "      <th>car_type</th>\n",
       "      <th>decline_app_cnt</th>\n",
       "      <th>good_work</th>\n",
       "      <th>score_bki</th>\n",
       "      <th>bki_request_cnt</th>\n",
       "      <th>home_address</th>\n",
       "      <th>work_address</th>\n",
       "      <th>income</th>\n",
       "      <th>sna</th>\n",
       "      <th>first_time</th>\n",
       "      <th>foreign_passport</th>\n",
       "      <th>default</th>\n",
       "      <th>days</th>\n",
       "      <th>bki_age_reg</th>\n",
       "      <th>new_one</th>\n",
       "      <th>new_one1</th>\n",
       "      <th>month</th>\n",
       "      <th>education_ACD</th>\n",
       "      <th>education_GRD</th>\n",
       "      <th>education_PGR</th>\n",
       "      <th>education_SCH</th>\n",
       "      <th>education_UGR</th>\n",
       "      <th>region_rating_20</th>\n",
       "      <th>region_rating_30</th>\n",
       "      <th>region_rating_40</th>\n",
       "      <th>region_rating_50</th>\n",
       "      <th>region_rating_60</th>\n",
       "      <th>region_rating_70</th>\n",
       "      <th>region_rating_80</th>\n",
       "    </tr>\n",
       "  </thead>\n",
       "  <tbody>\n",
       "    <tr>\n",
       "      <th>106307</th>\n",
       "      <td>74120</td>\n",
       "      <td>2014-03-21</td>\n",
       "      <td>0</td>\n",
       "      <td>3.828641</td>\n",
       "      <td>0</td>\n",
       "      <td>0</td>\n",
       "      <td>0.0</td>\n",
       "      <td>0</td>\n",
       "      <td>-1.831316</td>\n",
       "      <td>1.386294</td>\n",
       "      <td>1</td>\n",
       "      <td>2</td>\n",
       "      <td>9.903538</td>\n",
       "      <td>1</td>\n",
       "      <td>3</td>\n",
       "      <td>0</td>\n",
       "      <td>1</td>\n",
       "      <td>2470</td>\n",
       "      <td>-2.034796</td>\n",
       "      <td>-0.478320</td>\n",
       "      <td>1.0</td>\n",
       "      <td>3</td>\n",
       "      <td>0</td>\n",
       "      <td>0</td>\n",
       "      <td>0</td>\n",
       "      <td>1</td>\n",
       "      <td>0</td>\n",
       "      <td>0</td>\n",
       "      <td>0</td>\n",
       "      <td>0</td>\n",
       "      <td>1</td>\n",
       "      <td>0</td>\n",
       "      <td>0</td>\n",
       "      <td>0</td>\n",
       "    </tr>\n",
       "    <tr>\n",
       "      <th>86879</th>\n",
       "      <td>23701</td>\n",
       "      <td>2014-01-30</td>\n",
       "      <td>1</td>\n",
       "      <td>3.496508</td>\n",
       "      <td>0</td>\n",
       "      <td>0</td>\n",
       "      <td>0.0</td>\n",
       "      <td>0</td>\n",
       "      <td>-1.914420</td>\n",
       "      <td>1.386294</td>\n",
       "      <td>2</td>\n",
       "      <td>3</td>\n",
       "      <td>10.126671</td>\n",
       "      <td>1</td>\n",
       "      <td>3</td>\n",
       "      <td>0</td>\n",
       "      <td>1</td>\n",
       "      <td>2520</td>\n",
       "      <td>-2.393025</td>\n",
       "      <td>-0.547523</td>\n",
       "      <td>1.0</td>\n",
       "      <td>1</td>\n",
       "      <td>0</td>\n",
       "      <td>0</td>\n",
       "      <td>0</td>\n",
       "      <td>1</td>\n",
       "      <td>0</td>\n",
       "      <td>0</td>\n",
       "      <td>0</td>\n",
       "      <td>1</td>\n",
       "      <td>0</td>\n",
       "      <td>0</td>\n",
       "      <td>0</td>\n",
       "      <td>0</td>\n",
       "    </tr>\n",
       "    <tr>\n",
       "      <th>39707</th>\n",
       "      <td>15446</td>\n",
       "      <td>2014-01-22</td>\n",
       "      <td>1</td>\n",
       "      <td>3.610918</td>\n",
       "      <td>1</td>\n",
       "      <td>0</td>\n",
       "      <td>0.0</td>\n",
       "      <td>0</td>\n",
       "      <td>-1.610022</td>\n",
       "      <td>1.386294</td>\n",
       "      <td>1</td>\n",
       "      <td>2</td>\n",
       "      <td>10.950824</td>\n",
       "      <td>1</td>\n",
       "      <td>2</td>\n",
       "      <td>0</td>\n",
       "      <td>0</td>\n",
       "      <td>2528</td>\n",
       "      <td>-2.236142</td>\n",
       "      <td>-0.445876</td>\n",
       "      <td>1.0</td>\n",
       "      <td>1</td>\n",
       "      <td>0</td>\n",
       "      <td>1</td>\n",
       "      <td>0</td>\n",
       "      <td>0</td>\n",
       "      <td>0</td>\n",
       "      <td>0</td>\n",
       "      <td>0</td>\n",
       "      <td>0</td>\n",
       "      <td>1</td>\n",
       "      <td>0</td>\n",
       "      <td>0</td>\n",
       "      <td>0</td>\n",
       "    </tr>\n",
       "    <tr>\n",
       "      <th>25533</th>\n",
       "      <td>45424</td>\n",
       "      <td>2014-02-21</td>\n",
       "      <td>0</td>\n",
       "      <td>3.951244</td>\n",
       "      <td>0</td>\n",
       "      <td>0</td>\n",
       "      <td>0.0</td>\n",
       "      <td>0</td>\n",
       "      <td>-1.717912</td>\n",
       "      <td>1.098612</td>\n",
       "      <td>2</td>\n",
       "      <td>3</td>\n",
       "      <td>9.903538</td>\n",
       "      <td>1</td>\n",
       "      <td>2</td>\n",
       "      <td>0</td>\n",
       "      <td>0</td>\n",
       "      <td>2498</td>\n",
       "      <td>-1.684227</td>\n",
       "      <td>-0.434778</td>\n",
       "      <td>1.0</td>\n",
       "      <td>2</td>\n",
       "      <td>0</td>\n",
       "      <td>0</td>\n",
       "      <td>0</td>\n",
       "      <td>1</td>\n",
       "      <td>0</td>\n",
       "      <td>0</td>\n",
       "      <td>0</td>\n",
       "      <td>0</td>\n",
       "      <td>1</td>\n",
       "      <td>0</td>\n",
       "      <td>0</td>\n",
       "      <td>0</td>\n",
       "    </tr>\n",
       "    <tr>\n",
       "      <th>91978</th>\n",
       "      <td>55221</td>\n",
       "      <td>2014-03-04</td>\n",
       "      <td>1</td>\n",
       "      <td>3.761200</td>\n",
       "      <td>0</td>\n",
       "      <td>0</td>\n",
       "      <td>0.0</td>\n",
       "      <td>1</td>\n",
       "      <td>-1.182285</td>\n",
       "      <td>0.000000</td>\n",
       "      <td>1</td>\n",
       "      <td>2</td>\n",
       "      <td>9.798183</td>\n",
       "      <td>1</td>\n",
       "      <td>3</td>\n",
       "      <td>0</td>\n",
       "      <td>1</td>\n",
       "      <td>2487</td>\n",
       "      <td>-1.407482</td>\n",
       "      <td>-0.314337</td>\n",
       "      <td>1.0</td>\n",
       "      <td>3</td>\n",
       "      <td>0</td>\n",
       "      <td>0</td>\n",
       "      <td>0</td>\n",
       "      <td>1</td>\n",
       "      <td>0</td>\n",
       "      <td>0</td>\n",
       "      <td>0</td>\n",
       "      <td>0</td>\n",
       "      <td>1</td>\n",
       "      <td>0</td>\n",
       "      <td>0</td>\n",
       "      <td>0</td>\n",
       "    </tr>\n",
       "  </tbody>\n",
       "</table>\n",
       "</div>"
      ],
      "text/plain": [
       "        client_id   app_date  sex       age  car  car_type  decline_app_cnt  \\\n",
       "106307      74120 2014-03-21    0  3.828641    0         0              0.0   \n",
       "86879       23701 2014-01-30    1  3.496508    0         0              0.0   \n",
       "39707       15446 2014-01-22    1  3.610918    1         0              0.0   \n",
       "25533       45424 2014-02-21    0  3.951244    0         0              0.0   \n",
       "91978       55221 2014-03-04    1  3.761200    0         0              0.0   \n",
       "\n",
       "        good_work  score_bki  bki_request_cnt  home_address  work_address  \\\n",
       "106307          0  -1.831316         1.386294             1             2   \n",
       "86879           0  -1.914420         1.386294             2             3   \n",
       "39707           0  -1.610022         1.386294             1             2   \n",
       "25533           0  -1.717912         1.098612             2             3   \n",
       "91978           1  -1.182285         0.000000             1             2   \n",
       "\n",
       "           income  sna  first_time  foreign_passport  default  days  \\\n",
       "106307   9.903538    1           3                 0        1  2470   \n",
       "86879   10.126671    1           3                 0        1  2520   \n",
       "39707   10.950824    1           2                 0        0  2528   \n",
       "25533    9.903538    1           2                 0        0  2498   \n",
       "91978    9.798183    1           3                 0        1  2487   \n",
       "\n",
       "        bki_age_reg   new_one  new_one1  month  education_ACD  education_GRD  \\\n",
       "106307    -2.034796 -0.478320       1.0      3              0              0   \n",
       "86879     -2.393025 -0.547523       1.0      1              0              0   \n",
       "39707     -2.236142 -0.445876       1.0      1              0              1   \n",
       "25533     -1.684227 -0.434778       1.0      2              0              0   \n",
       "91978     -1.407482 -0.314337       1.0      3              0              0   \n",
       "\n",
       "        education_PGR  education_SCH  education_UGR  region_rating_20  \\\n",
       "106307              0              1              0                 0   \n",
       "86879               0              1              0                 0   \n",
       "39707               0              0              0                 0   \n",
       "25533               0              1              0                 0   \n",
       "91978               0              1              0                 0   \n",
       "\n",
       "        region_rating_30  region_rating_40  region_rating_50  \\\n",
       "106307                 0                 0                 1   \n",
       "86879                  0                 1                 0   \n",
       "39707                  0                 0                 1   \n",
       "25533                  0                 0                 1   \n",
       "91978                  0                 0                 1   \n",
       "\n",
       "        region_rating_60  region_rating_70  region_rating_80  \n",
       "106307                 0                 0                 0  \n",
       "86879                  0                 0                 0  \n",
       "39707                  0                 0                 0  \n",
       "25533                  0                 0                 0  \n",
       "91978                  0                 0                 0  "
      ]
     },
     "execution_count": 43,
     "metadata": {},
     "output_type": "execute_result"
    }
   ],
   "source": [
    "train.sample(5)"
   ]
  },
  {
   "cell_type": "code",
   "execution_count": 44,
   "metadata": {
    "ExecuteTime": {
     "end_time": "2020-12-26T08:33:46.707558Z",
     "start_time": "2020-12-26T08:33:46.65271Z"
    },
    "execution": {
     "iopub.execute_input": "2020-12-26T11:16:54.396009Z",
     "iopub.status.busy": "2020-12-26T11:16:54.395293Z",
     "iopub.status.idle": "2020-12-26T11:16:54.416823Z",
     "shell.execute_reply": "2020-12-26T11:16:54.417407Z"
    },
    "papermill": {
     "duration": 0.117634,
     "end_time": "2020-12-26T11:16:54.417558",
     "exception": false,
     "start_time": "2020-12-26T11:16:54.299924",
     "status": "completed"
    },
    "tags": []
   },
   "outputs": [],
   "source": [
    "test = pd.get_dummies(test, columns=['education'])"
   ]
  },
  {
   "cell_type": "code",
   "execution_count": 45,
   "metadata": {
    "ExecuteTime": {
     "end_time": "2020-12-26T08:33:46.802308Z",
     "start_time": "2020-12-26T08:33:46.711546Z"
    },
    "execution": {
     "iopub.execute_input": "2020-12-26T11:16:54.606857Z",
     "iopub.status.busy": "2020-12-26T11:16:54.604085Z",
     "iopub.status.idle": "2020-12-26T11:16:54.646792Z",
     "shell.execute_reply": "2020-12-26T11:16:54.646278Z"
    },
    "papermill": {
     "duration": 0.137235,
     "end_time": "2020-12-26T11:16:54.646907",
     "exception": false,
     "start_time": "2020-12-26T11:16:54.509672",
     "status": "completed"
    },
    "tags": []
   },
   "outputs": [
    {
     "data": {
      "text/html": [
       "<div>\n",
       "<style scoped>\n",
       "    .dataframe tbody tr th:only-of-type {\n",
       "        vertical-align: middle;\n",
       "    }\n",
       "\n",
       "    .dataframe tbody tr th {\n",
       "        vertical-align: top;\n",
       "    }\n",
       "\n",
       "    .dataframe thead th {\n",
       "        text-align: right;\n",
       "    }\n",
       "</style>\n",
       "<table border=\"1\" class=\"dataframe\">\n",
       "  <thead>\n",
       "    <tr style=\"text-align: right;\">\n",
       "      <th></th>\n",
       "      <th>client_id</th>\n",
       "      <th>app_date</th>\n",
       "      <th>sex</th>\n",
       "      <th>age</th>\n",
       "      <th>car</th>\n",
       "      <th>car_type</th>\n",
       "      <th>decline_app_cnt</th>\n",
       "      <th>good_work</th>\n",
       "      <th>score_bki</th>\n",
       "      <th>bki_request_cnt</th>\n",
       "      <th>home_address</th>\n",
       "      <th>work_address</th>\n",
       "      <th>income</th>\n",
       "      <th>sna</th>\n",
       "      <th>first_time</th>\n",
       "      <th>foreign_passport</th>\n",
       "      <th>days</th>\n",
       "      <th>bki_age_reg</th>\n",
       "      <th>new_one</th>\n",
       "      <th>new_one1</th>\n",
       "      <th>month</th>\n",
       "      <th>education_ACD</th>\n",
       "      <th>education_GRD</th>\n",
       "      <th>education_PGR</th>\n",
       "      <th>education_SCH</th>\n",
       "      <th>education_UGR</th>\n",
       "      <th>region_rating_20</th>\n",
       "      <th>region_rating_30</th>\n",
       "      <th>region_rating_40</th>\n",
       "      <th>region_rating_50</th>\n",
       "      <th>region_rating_60</th>\n",
       "      <th>region_rating_70</th>\n",
       "      <th>region_rating_80</th>\n",
       "    </tr>\n",
       "  </thead>\n",
       "  <tbody>\n",
       "    <tr>\n",
       "      <th>0</th>\n",
       "      <td>74835</td>\n",
       "      <td>2014-03-22</td>\n",
       "      <td>1</td>\n",
       "      <td>3.401197</td>\n",
       "      <td>1</td>\n",
       "      <td>1</td>\n",
       "      <td>0.000000</td>\n",
       "      <td>0</td>\n",
       "      <td>-2.271884</td>\n",
       "      <td>1.386294</td>\n",
       "      <td>1</td>\n",
       "      <td>2</td>\n",
       "      <td>10.819798</td>\n",
       "      <td>1</td>\n",
       "      <td>4</td>\n",
       "      <td>0</td>\n",
       "      <td>2469</td>\n",
       "      <td>-3.917041</td>\n",
       "      <td>-0.667966</td>\n",
       "      <td>1.000000</td>\n",
       "      <td>3</td>\n",
       "      <td>0</td>\n",
       "      <td>1</td>\n",
       "      <td>0</td>\n",
       "      <td>0</td>\n",
       "      <td>0</td>\n",
       "      <td>0</td>\n",
       "      <td>0</td>\n",
       "      <td>0</td>\n",
       "      <td>1</td>\n",
       "      <td>0</td>\n",
       "      <td>0</td>\n",
       "      <td>0</td>\n",
       "    </tr>\n",
       "    <tr>\n",
       "      <th>1</th>\n",
       "      <td>17527</td>\n",
       "      <td>2014-01-24</td>\n",
       "      <td>0</td>\n",
       "      <td>3.688879</td>\n",
       "      <td>0</td>\n",
       "      <td>0</td>\n",
       "      <td>1.791759</td>\n",
       "      <td>0</td>\n",
       "      <td>-1.504999</td>\n",
       "      <td>1.098612</td>\n",
       "      <td>1</td>\n",
       "      <td>2</td>\n",
       "      <td>8.517393</td>\n",
       "      <td>4</td>\n",
       "      <td>3</td>\n",
       "      <td>0</td>\n",
       "      <td>2526</td>\n",
       "      <td>-1.929486</td>\n",
       "      <td>0.027706</td>\n",
       "      <td>1.000000</td>\n",
       "      <td>1</td>\n",
       "      <td>0</td>\n",
       "      <td>0</td>\n",
       "      <td>0</td>\n",
       "      <td>1</td>\n",
       "      <td>0</td>\n",
       "      <td>0</td>\n",
       "      <td>0</td>\n",
       "      <td>0</td>\n",
       "      <td>1</td>\n",
       "      <td>0</td>\n",
       "      <td>0</td>\n",
       "      <td>0</td>\n",
       "    </tr>\n",
       "    <tr>\n",
       "      <th>2</th>\n",
       "      <td>75683</td>\n",
       "      <td>2014-03-23</td>\n",
       "      <td>1</td>\n",
       "      <td>3.931826</td>\n",
       "      <td>1</td>\n",
       "      <td>1</td>\n",
       "      <td>0.000000</td>\n",
       "      <td>0</td>\n",
       "      <td>-1.691339</td>\n",
       "      <td>0.693147</td>\n",
       "      <td>1</td>\n",
       "      <td>2</td>\n",
       "      <td>10.308986</td>\n",
       "      <td>1</td>\n",
       "      <td>3</td>\n",
       "      <td>1</td>\n",
       "      <td>2468</td>\n",
       "      <td>-1.691339</td>\n",
       "      <td>-0.430166</td>\n",
       "      <td>-0.430166</td>\n",
       "      <td>3</td>\n",
       "      <td>0</td>\n",
       "      <td>0</td>\n",
       "      <td>0</td>\n",
       "      <td>0</td>\n",
       "      <td>1</td>\n",
       "      <td>0</td>\n",
       "      <td>0</td>\n",
       "      <td>0</td>\n",
       "      <td>1</td>\n",
       "      <td>0</td>\n",
       "      <td>0</td>\n",
       "      <td>0</td>\n",
       "    </tr>\n",
       "    <tr>\n",
       "      <th>3</th>\n",
       "      <td>26883</td>\n",
       "      <td>2014-02-03</td>\n",
       "      <td>1</td>\n",
       "      <td>4.043051</td>\n",
       "      <td>0</td>\n",
       "      <td>0</td>\n",
       "      <td>0.000000</td>\n",
       "      <td>0</td>\n",
       "      <td>-2.374182</td>\n",
       "      <td>0.693147</td>\n",
       "      <td>1</td>\n",
       "      <td>2</td>\n",
       "      <td>9.741027</td>\n",
       "      <td>1</td>\n",
       "      <td>3</td>\n",
       "      <td>0</td>\n",
       "      <td>2516</td>\n",
       "      <td>-1.695845</td>\n",
       "      <td>-0.587225</td>\n",
       "      <td>1.000000</td>\n",
       "      <td>2</td>\n",
       "      <td>0</td>\n",
       "      <td>0</td>\n",
       "      <td>0</td>\n",
       "      <td>1</td>\n",
       "      <td>0</td>\n",
       "      <td>0</td>\n",
       "      <td>0</td>\n",
       "      <td>1</td>\n",
       "      <td>0</td>\n",
       "      <td>0</td>\n",
       "      <td>0</td>\n",
       "      <td>0</td>\n",
       "    </tr>\n",
       "    <tr>\n",
       "      <th>4</th>\n",
       "      <td>28862</td>\n",
       "      <td>2014-02-04</td>\n",
       "      <td>0</td>\n",
       "      <td>3.663562</td>\n",
       "      <td>0</td>\n",
       "      <td>0</td>\n",
       "      <td>0.000000</td>\n",
       "      <td>0</td>\n",
       "      <td>-2.487502</td>\n",
       "      <td>0.000000</td>\n",
       "      <td>2</td>\n",
       "      <td>3</td>\n",
       "      <td>11.695255</td>\n",
       "      <td>1</td>\n",
       "      <td>3</td>\n",
       "      <td>0</td>\n",
       "      <td>2515</td>\n",
       "      <td>-5.236847</td>\n",
       "      <td>-0.678985</td>\n",
       "      <td>1.000000</td>\n",
       "      <td>2</td>\n",
       "      <td>0</td>\n",
       "      <td>1</td>\n",
       "      <td>0</td>\n",
       "      <td>0</td>\n",
       "      <td>0</td>\n",
       "      <td>0</td>\n",
       "      <td>0</td>\n",
       "      <td>0</td>\n",
       "      <td>0</td>\n",
       "      <td>0</td>\n",
       "      <td>0</td>\n",
       "      <td>1</td>\n",
       "    </tr>\n",
       "  </tbody>\n",
       "</table>\n",
       "</div>"
      ],
      "text/plain": [
       "   client_id   app_date  sex       age  car  car_type  decline_app_cnt  \\\n",
       "0      74835 2014-03-22    1  3.401197    1         1         0.000000   \n",
       "1      17527 2014-01-24    0  3.688879    0         0         1.791759   \n",
       "2      75683 2014-03-23    1  3.931826    1         1         0.000000   \n",
       "3      26883 2014-02-03    1  4.043051    0         0         0.000000   \n",
       "4      28862 2014-02-04    0  3.663562    0         0         0.000000   \n",
       "\n",
       "   good_work  score_bki  bki_request_cnt  home_address  work_address  \\\n",
       "0          0  -2.271884         1.386294             1             2   \n",
       "1          0  -1.504999         1.098612             1             2   \n",
       "2          0  -1.691339         0.693147             1             2   \n",
       "3          0  -2.374182         0.693147             1             2   \n",
       "4          0  -2.487502         0.000000             2             3   \n",
       "\n",
       "      income  sna  first_time  foreign_passport  days  bki_age_reg   new_one  \\\n",
       "0  10.819798    1           4                 0  2469    -3.917041 -0.667966   \n",
       "1   8.517393    4           3                 0  2526    -1.929486  0.027706   \n",
       "2  10.308986    1           3                 1  2468    -1.691339 -0.430166   \n",
       "3   9.741027    1           3                 0  2516    -1.695845 -0.587225   \n",
       "4  11.695255    1           3                 0  2515    -5.236847 -0.678985   \n",
       "\n",
       "   new_one1  month  education_ACD  education_GRD  education_PGR  \\\n",
       "0  1.000000      3              0              1              0   \n",
       "1  1.000000      1              0              0              0   \n",
       "2 -0.430166      3              0              0              0   \n",
       "3  1.000000      2              0              0              0   \n",
       "4  1.000000      2              0              1              0   \n",
       "\n",
       "   education_SCH  education_UGR  region_rating_20  region_rating_30  \\\n",
       "0              0              0                 0                 0   \n",
       "1              1              0                 0                 0   \n",
       "2              0              1                 0                 0   \n",
       "3              1              0                 0                 0   \n",
       "4              0              0                 0                 0   \n",
       "\n",
       "   region_rating_40  region_rating_50  region_rating_60  region_rating_70  \\\n",
       "0                 0                 1                 0                 0   \n",
       "1                 0                 1                 0                 0   \n",
       "2                 0                 1                 0                 0   \n",
       "3                 1                 0                 0                 0   \n",
       "4                 0                 0                 0                 0   \n",
       "\n",
       "   region_rating_80  \n",
       "0                 0  \n",
       "1                 0  \n",
       "2                 0  \n",
       "3                 0  \n",
       "4                 1  "
      ]
     },
     "execution_count": 45,
     "metadata": {},
     "output_type": "execute_result"
    }
   ],
   "source": [
    "test = pd.get_dummies(test, columns=['region_rating'])\n",
    "test.head()"
   ]
  },
  {
   "cell_type": "markdown",
   "metadata": {
    "papermill": {
     "duration": 0.091378,
     "end_time": "2020-12-26T11:16:54.831142",
     "exception": false,
     "start_time": "2020-12-26T11:16:54.739764",
     "status": "completed"
    },
    "tags": []
   },
   "source": [
    "Преобразуем категориальные переменные при помощи OneHotEncoder"
   ]
  },
  {
   "cell_type": "code",
   "execution_count": 46,
   "metadata": {
    "ExecuteTime": {
     "end_time": "2020-12-26T08:33:47.199272Z",
     "start_time": "2020-12-26T08:33:46.813286Z"
    },
    "execution": {
     "iopub.execute_input": "2020-12-26T11:16:55.025597Z",
     "iopub.status.busy": "2020-12-26T11:16:55.023513Z",
     "iopub.status.idle": "2020-12-26T11:16:55.311167Z",
     "shell.execute_reply": "2020-12-26T11:16:55.310560Z"
    },
    "papermill": {
     "duration": 0.387431,
     "end_time": "2020-12-26T11:16:55.311313",
     "exception": false,
     "start_time": "2020-12-26T11:16:54.923882",
     "status": "completed"
    },
    "tags": []
   },
   "outputs": [
    {
     "name": "stdout",
     "output_type": "stream",
     "text": [
      "(123736, 42)\n",
      "(36349, 42)\n"
     ]
    }
   ],
   "source": [
    "cat_cols = [\n",
    "    'home_address', 'work_address', 'sna', 'first_time', 'education_ACD',\n",
    "    'education_GRD', 'education_PGR', 'education_SCH', 'education_UGR',\n",
    "    'region_rating_20', 'region_rating_30', 'region_rating_40',\n",
    "    'region_rating_50', 'region_rating_60', 'region_rating_70',\n",
    "    'region_rating_80','month'\n",
    "]\n",
    "x_cat = OneHotEncoder(sparse=False).fit_transform(train[cat_cols].values)\n",
    "y_cat = OneHotEncoder(sparse=False).fit_transform(test[cat_cols].values)\n",
    "\n",
    "print(x_cat.shape)\n",
    "print(y_cat.shape)"
   ]
  },
  {
   "cell_type": "markdown",
   "metadata": {
    "papermill": {
     "duration": 0.092586,
     "end_time": "2020-12-26T11:16:55.496042",
     "exception": false,
     "start_time": "2020-12-26T11:16:55.403456",
     "status": "completed"
    },
    "tags": []
   },
   "source": [
    "### Значимость непрерывных переменных¶"
   ]
  },
  {
   "cell_type": "code",
   "execution_count": 47,
   "metadata": {
    "ExecuteTime": {
     "end_time": "2020-12-26T08:33:47.767721Z",
     "start_time": "2020-12-26T08:33:47.203232Z"
    },
    "execution": {
     "iopub.execute_input": "2020-12-26T11:16:55.695093Z",
     "iopub.status.busy": "2020-12-26T11:16:55.694408Z",
     "iopub.status.idle": "2020-12-26T11:16:55.955964Z",
     "shell.execute_reply": "2020-12-26T11:16:55.956475Z"
    },
    "papermill": {
     "duration": 0.36729,
     "end_time": "2020-12-26T11:16:55.956631",
     "exception": false,
     "start_time": "2020-12-26T11:16:55.589341",
     "status": "completed"
    },
    "tags": []
   },
   "outputs": [
    {
     "data": {
      "text/plain": [
       "Text(0.5, 0, 'F-value')"
      ]
     },
     "execution_count": 47,
     "metadata": {},
     "output_type": "execute_result"
    },
    {
     "data": {
      "image/png": "[encoded data removed]",
      "text/plain": [
       "<Figure size 864x576 with 1 Axes>"
      ]
     },
     "metadata": {
      "needs_background": "light"
     },
     "output_type": "display_data"
    }
   ],
   "source": [
    "imp_num = Series(f_classif(train[num_cols], train['default'])[0],\n",
    "                 index=num_cols)\n",
    "imp_num.sort_values(inplace=True)\n",
    "imp_num.plot(kind='barh')\n",
    "plt.title('Значимость непрерывных переменных')\n",
    "plt.xlabel('F-value')"
   ]
  },
  {
   "cell_type": "markdown",
   "metadata": {
    "papermill": {
     "duration": 0.094721,
     "end_time": "2020-12-26T11:16:56.145883",
     "exception": false,
     "start_time": "2020-12-26T11:16:56.051162",
     "status": "completed"
    },
    "tags": []
   },
   "source": [
    "### Значимость бинарных и категориальных переменных"
   ]
  },
  {
   "cell_type": "code",
   "execution_count": 48,
   "metadata": {
    "ExecuteTime": {
     "end_time": "2020-12-26T08:33:48.306289Z",
     "start_time": "2020-12-26T08:33:47.770714Z"
    },
    "execution": {
     "iopub.execute_input": "2020-12-26T11:16:56.343582Z",
     "iopub.status.busy": "2020-12-26T11:16:56.342875Z",
     "iopub.status.idle": "2020-12-26T11:16:56.616255Z",
     "shell.execute_reply": "2020-12-26T11:16:56.615570Z"
    },
    "papermill": {
     "duration": 0.375674,
     "end_time": "2020-12-26T11:16:56.616371",
     "exception": false,
     "start_time": "2020-12-26T11:16:56.240697",
     "status": "completed"
    },
    "scrolled": true,
    "tags": []
   },
   "outputs": [
    {
     "data": {
      "text/plain": [
       "Text(0.5, 1.0, 'Значимость бинарных переменных')"
      ]
     },
     "execution_count": 48,
     "metadata": {},
     "output_type": "execute_result"
    },
    {
     "data": {
      "image/png": "[encoded data removed]",
      "text/plain": [
       "<Figure size 864x576 with 1 Axes>"
      ]
     },
     "metadata": {
      "needs_background": "light"
     },
     "output_type": "display_data"
    }
   ],
   "source": [
    "# Значимость бинарных признаков\n",
    "\n",
    "imp_bin = Series(mutual_info_classif(train[bin_cols],\n",
    "                                     train['default'],\n",
    "                                     discrete_features=True),\n",
    "                 index=bin_cols)\n",
    "imp_bin.sort_values(inplace=True)\n",
    "imp_bin.plot(kind='barh')\n",
    "plt.title('Значимость бинарных переменных')"
   ]
  },
  {
   "cell_type": "code",
   "execution_count": 49,
   "metadata": {
    "ExecuteTime": {
     "end_time": "2020-12-26T08:33:49.101156Z",
     "start_time": "2020-12-26T08:33:48.309274Z"
    },
    "execution": {
     "iopub.execute_input": "2020-12-26T11:16:56.818454Z",
     "iopub.status.busy": "2020-12-26T11:16:56.817667Z",
     "iopub.status.idle": "2020-12-26T11:16:57.378144Z",
     "shell.execute_reply": "2020-12-26T11:16:57.377368Z"
    },
    "papermill": {
     "duration": 0.665587,
     "end_time": "2020-12-26T11:16:57.378292",
     "exception": false,
     "start_time": "2020-12-26T11:16:56.712705",
     "status": "completed"
    },
    "tags": []
   },
   "outputs": [
    {
     "data": {
      "text/plain": [
       "Text(0.5, 1.0, 'Significance of cat variables')"
      ]
     },
     "execution_count": 49,
     "metadata": {},
     "output_type": "execute_result"
    },
    {
     "data": {
      "image/png": "[encoded data removed]",
      "text/plain": [
       "<Figure size 864x576 with 1 Axes>"
      ]
     },
     "metadata": {
      "needs_background": "light"
     },
     "output_type": "display_data"
    }
   ],
   "source": [
    "# Значимость категориальных признаков\n",
    "#new_cat_cols = [\n",
    "#    'home_address', 'work_address', 'sna', 'first_time',\n",
    "#    'education_ACD', 'education_GRD', 'education_PGR', 'education_SCH',\n",
    "#    'education_UGR', 'region_rating_20', 'region_rating_30',\n",
    "#    'region_rating_40', 'region_rating_50', 'region_rating_60',\n",
    "#    'region_rating_70', 'region_rating_80', 'month']\n",
    "\n",
    "imp_cat = pd.Series(mutual_info_classif(train[cat_cols],\n",
    "                                        train['default'],\n",
    "                                        discrete_features=True),\n",
    "                    index=train[cat_cols].columns)\n",
    "imp_cat.sort_values(inplace=True)\n",
    "imp_cat.plot(kind='barh')\n",
    "plt.title('Significance of cat variables')"
   ]
  },
  {
   "cell_type": "markdown",
   "metadata": {
    "papermill": {
     "duration": 0.098534,
     "end_time": "2020-12-26T11:16:57.576476",
     "exception": false,
     "start_time": "2020-12-26T11:16:57.477942",
     "status": "completed"
    },
    "tags": []
   },
   "source": [
    "### Подготовка данных к машинному обучению"
   ]
  },
  {
   "cell_type": "code",
   "execution_count": 50,
   "metadata": {
    "ExecuteTime": {
     "end_time": "2020-12-26T08:33:49.337524Z",
     "start_time": "2020-12-26T08:33:49.104149Z"
    },
    "execution": {
     "iopub.execute_input": "2020-12-26T11:16:57.785589Z",
     "iopub.status.busy": "2020-12-26T11:16:57.784833Z",
     "iopub.status.idle": "2020-12-26T11:16:57.892462Z",
     "shell.execute_reply": "2020-12-26T11:16:57.891831Z"
    },
    "papermill": {
     "duration": 0.215962,
     "end_time": "2020-12-26T11:16:57.892581",
     "exception": false,
     "start_time": "2020-12-26T11:16:57.676619",
     "status": "completed"
    },
    "tags": []
   },
   "outputs": [],
   "source": [
    "poly = PolynomialFeatures(2)\n",
    "\n",
    "x_p = poly.fit_transform(train[num_cols].values)\n",
    "y_p = poly.fit_transform(test[num_cols].values)"
   ]
  },
  {
   "cell_type": "code",
   "execution_count": 51,
   "metadata": {
    "ExecuteTime": {
     "end_time": "2020-12-26T08:33:49.751419Z",
     "start_time": "2020-12-26T08:33:49.344516Z"
    },
    "execution": {
     "iopub.execute_input": "2020-12-26T11:16:58.095132Z",
     "iopub.status.busy": "2020-12-26T11:16:58.094479Z",
     "iopub.status.idle": "2020-12-26T11:16:58.272705Z",
     "shell.execute_reply": "2020-12-26T11:16:58.272118Z"
    },
    "papermill": {
     "duration": 0.282095,
     "end_time": "2020-12-26T11:16:58.272820",
     "exception": false,
     "start_time": "2020-12-26T11:16:57.990725",
     "status": "completed"
    },
    "tags": []
   },
   "outputs": [
    {
     "data": {
      "text/plain": [
       "(123736, 55)"
      ]
     },
     "execution_count": 51,
     "metadata": {},
     "output_type": "execute_result"
    }
   ],
   "source": [
    "# Стандартизация числовых переменных\n",
    "\n",
    "X_num = StandardScaler().fit_transform(x_p)\n",
    "X_num.shape"
   ]
  },
  {
   "cell_type": "code",
   "execution_count": 52,
   "metadata": {
    "ExecuteTime": {
     "end_time": "2020-12-26T08:33:49.86113Z",
     "start_time": "2020-12-26T08:33:49.755407Z"
    },
    "execution": {
     "iopub.execute_input": "2020-12-26T11:16:58.476796Z",
     "iopub.status.busy": "2020-12-26T11:16:58.476042Z",
     "iopub.status.idle": "2020-12-26T11:16:58.523329Z",
     "shell.execute_reply": "2020-12-26T11:16:58.522643Z"
    },
    "papermill": {
     "duration": 0.15199,
     "end_time": "2020-12-26T11:16:58.523443",
     "exception": false,
     "start_time": "2020-12-26T11:16:58.371453",
     "status": "completed"
    },
    "tags": []
   },
   "outputs": [
    {
     "data": {
      "text/plain": [
       "(36349, 55)"
      ]
     },
     "execution_count": 52,
     "metadata": {},
     "output_type": "execute_result"
    }
   ],
   "source": [
    "Y_num = StandardScaler().fit_transform(y_p)\n",
    "Y_num.shape"
   ]
  },
  {
   "cell_type": "code",
   "execution_count": 53,
   "metadata": {
    "ExecuteTime": {
     "end_time": "2020-12-26T08:33:49.89304Z",
     "start_time": "2020-12-26T08:33:49.868115Z"
    },
    "execution": {
     "iopub.execute_input": "2020-12-26T11:16:58.727887Z",
     "iopub.status.busy": "2020-12-26T11:16:58.727247Z",
     "iopub.status.idle": "2020-12-26T11:16:58.731349Z",
     "shell.execute_reply": "2020-12-26T11:16:58.730814Z"
    },
    "papermill": {
     "duration": 0.109827,
     "end_time": "2020-12-26T11:16:58.731476",
     "exception": false,
     "start_time": "2020-12-26T11:16:58.621649",
     "status": "completed"
    },
    "tags": []
   },
   "outputs": [
    {
     "name": "stdout",
     "output_type": "stream",
     "text": [
      "[[ 0.          0.90414949  1.74247945 ... -1.07810805  0.62866987\n",
      "   0.36267808]\n",
      " [ 0.         -0.31862468  1.5720382  ... -1.09440906  0.53025837\n",
      "   0.36267808]\n",
      " [ 0.          0.90414949 -1.349271   ...  0.04427527  0.99186682\n",
      "  -3.04816794]\n",
      " ...\n",
      " [ 0.         -0.4753906   0.40824719 ... -1.08824819  0.57916351\n",
      "   0.36267808]\n",
      " [ 0.          0.40249855  1.0721365  ... -0.47657862 -0.40370569\n",
      "   0.36267808]\n",
      " [ 0.          1.78203863 -0.8493693  ... -0.878149    0.99844442\n",
      "   0.36267808]]\n",
      "[[ 0.         -0.59902814 -0.88333898 ...  1.3568019  -1.21406462\n",
      "   0.40423555]\n",
      " [ 0.          1.18319733  0.12606863 ... -1.22782832  0.58993583\n",
      "   0.40423555]\n",
      " [ 0.         -0.63029526  0.97850869 ... -0.1585143   0.99794014\n",
      "  -2.80283356]\n",
      " ...\n",
      " [ 0.         -0.84916505 -0.65688874 ... -1.23211151  0.53216865\n",
      "   0.40423555]\n",
      " [ 0.          1.71473827 -1.12541848 ... -0.4256207  -0.44876031\n",
      "   0.40423555]\n",
      " [ 0.         -0.44269258  0.0372345  ... -1.22751185  0.59244438\n",
      "   0.40423555]]\n"
     ]
    }
   ],
   "source": [
    "print(X_num)\n",
    "print(Y_num)"
   ]
  },
  {
   "cell_type": "markdown",
   "metadata": {
    "papermill": {
     "duration": 0.097892,
     "end_time": "2020-12-26T11:16:58.928728",
     "exception": false,
     "start_time": "2020-12-26T11:16:58.830836",
     "status": "completed"
    },
    "tags": []
   },
   "source": [
    "Объединим стандартизованные числовые, бинарные и закодированные категориальные переменные в одно признаковое пространство, разделив при этом признаки и целевую переменную."
   ]
  },
  {
   "cell_type": "code",
   "execution_count": 54,
   "metadata": {
    "ExecuteTime": {
     "end_time": "2020-12-26T08:33:50.0207Z",
     "start_time": "2020-12-26T08:33:49.895035Z"
    },
    "execution": {
     "iopub.execute_input": "2020-12-26T11:16:59.135108Z",
     "iopub.status.busy": "2020-12-26T11:16:59.133880Z",
     "iopub.status.idle": "2020-12-26T11:16:59.210836Z",
     "shell.execute_reply": "2020-12-26T11:16:59.210102Z"
    },
    "papermill": {
     "duration": 0.183589,
     "end_time": "2020-12-26T11:16:59.210951",
     "exception": false,
     "start_time": "2020-12-26T11:16:59.027362",
     "status": "completed"
    },
    "tags": []
   },
   "outputs": [],
   "source": [
    "X = np.hstack([X_num, train[bin_cols].values, x_cat])\n",
    "Y = train['default'].values\n",
    "\n",
    "id_test = test['client_id']\n",
    "test = np.hstack([Y_num, test[bin_cols].values, y_cat])"
   ]
  },
  {
   "cell_type": "code",
   "execution_count": 55,
   "metadata": {
    "ExecuteTime": {
     "end_time": "2020-12-26T08:33:50.178283Z",
     "start_time": "2020-12-26T08:33:50.027679Z"
    },
    "execution": {
     "iopub.execute_input": "2020-12-26T11:16:59.418621Z",
     "iopub.status.busy": "2020-12-26T11:16:59.417883Z",
     "iopub.status.idle": "2020-12-26T11:16:59.481052Z",
     "shell.execute_reply": "2020-12-26T11:16:59.481599Z"
    },
    "papermill": {
     "duration": 0.171057,
     "end_time": "2020-12-26T11:16:59.481769",
     "exception": false,
     "start_time": "2020-12-26T11:16:59.310712",
     "status": "completed"
    },
    "tags": []
   },
   "outputs": [],
   "source": [
    "X_train, X_test, y_train, y_test = train_test_split(X,\n",
    "                                                    Y,\n",
    "                                                    test_size=0.20,\n",
    "                                                    random_state=RANDOM_SEED,\n",
    "                                                    shuffle=True)"
   ]
  },
  {
   "cell_type": "markdown",
   "metadata": {
    "papermill": {
     "duration": 0.100036,
     "end_time": "2020-12-26T11:16:59.682849",
     "exception": false,
     "start_time": "2020-12-26T11:16:59.582813",
     "status": "completed"
    },
    "tags": []
   },
   "source": [
    "### Подбор гиперпараметров (регуляризация)"
   ]
  },
  {
   "cell_type": "code",
   "execution_count": 56,
   "metadata": {
    "ExecuteTime": {
     "end_time": "2020-12-26T08:35:15.282564Z",
     "start_time": "2020-12-26T08:33:50.185268Z"
    },
    "execution": {
     "iopub.execute_input": "2020-12-26T11:16:59.895251Z",
     "iopub.status.busy": "2020-12-26T11:16:59.894523Z",
     "iopub.status.idle": "2020-12-26T11:18:25.641039Z",
     "shell.execute_reply": "2020-12-26T11:18:25.641845Z"
    },
    "papermill": {
     "duration": 85.855444,
     "end_time": "2020-12-26T11:18:25.642028",
     "exception": false,
     "start_time": "2020-12-26T11:16:59.786584",
     "status": "completed"
    },
    "tags": []
   },
   "outputs": [
    {
     "name": "stdout",
     "output_type": "stream",
     "text": [
      "Лучший penalty: l2\n",
      "Лучшее C: 7.742636826811269\n"
     ]
    }
   ],
   "source": [
    "# Зададим ограничения для параметра регуляризации\n",
    "C = np.logspace(0, 4, 10)\n",
    "\n",
    "penalty = ['l1', 'l2']\n",
    "hyperparameters = dict(C=C, penalty=penalty)\n",
    "\n",
    "model = LogisticRegression()\n",
    "model.fit(X_train, y_train)\n",
    "\n",
    "clf = GridSearchCV(model, hyperparameters, cv=5, verbose=0)\n",
    "\n",
    "best_model = clf.fit(X_train, y_train)\n",
    "\n",
    "print('Лучший penalty:', best_model.best_estimator_.get_params()['penalty'])\n",
    "print('Лучшее C:', best_model.best_estimator_.get_params()['C'])"
   ]
  },
  {
   "cell_type": "markdown",
   "metadata": {
    "papermill": {
     "duration": 0.100352,
     "end_time": "2020-12-26T11:18:25.846728",
     "exception": false,
     "start_time": "2020-12-26T11:18:25.746376",
     "status": "completed"
    },
    "tags": []
   },
   "source": [
    "### Обучение и метрики"
   ]
  },
  {
   "cell_type": "code",
   "execution_count": 57,
   "metadata": {
    "ExecuteTime": {
     "end_time": "2020-12-26T08:35:29.495559Z",
     "start_time": "2020-12-26T08:35:15.286551Z"
    },
    "execution": {
     "iopub.execute_input": "2020-12-26T11:18:26.100965Z",
     "iopub.status.busy": "2020-12-26T11:18:26.099922Z",
     "iopub.status.idle": "2020-12-26T11:18:41.042884Z",
     "shell.execute_reply": "2020-12-26T11:18:41.043643Z"
    },
    "papermill": {
     "duration": 15.09502,
     "end_time": "2020-12-26T11:18:41.043809",
     "exception": false,
     "start_time": "2020-12-26T11:18:25.948789",
     "status": "completed"
    },
    "tags": []
   },
   "outputs": [
    {
     "data": {
      "text/plain": [
       "LogisticRegression(C=7.742636826811269, max_iter=800)"
      ]
     },
     "execution_count": 57,
     "metadata": {},
     "output_type": "execute_result"
    }
   ],
   "source": [
    "# Обучим модель\n",
    "\n",
    "model = LogisticRegression(penalty='l2', C=7.742636826811269, max_iter=800)\n",
    "model.fit(X_train, y_train)"
   ]
  },
  {
   "cell_type": "code",
   "execution_count": 58,
   "metadata": {
    "ExecuteTime": {
     "end_time": "2020-12-26T08:35:30.116021Z",
     "start_time": "2020-12-26T08:35:29.49855Z"
    },
    "execution": {
     "iopub.execute_input": "2020-12-26T11:18:41.258067Z",
     "iopub.status.busy": "2020-12-26T11:18:41.257025Z",
     "iopub.status.idle": "2020-12-26T11:18:41.493057Z",
     "shell.execute_reply": "2020-12-26T11:18:41.493716Z"
    },
    "papermill": {
     "duration": 0.343775,
     "end_time": "2020-12-26T11:18:41.493856",
     "exception": false,
     "start_time": "2020-12-26T11:18:41.150081",
     "status": "completed"
    },
    "tags": []
   },
   "outputs": [
    {
     "data": {
      "image/png": "[encoded data removed]",
      "text/plain": [
       "<Figure size 864x576 with 1 Axes>"
      ]
     },
     "metadata": {
      "needs_background": "light"
     },
     "output_type": "display_data"
    }
   ],
   "source": [
    "probs = model.predict_proba(X_test)\n",
    "probs = probs[:, 1]\n",
    "\n",
    "\n",
    "fpr, tpr, threshold = roc_curve(y_test, probs)\n",
    "roc_auc = roc_auc_score(y_test, probs)\n",
    "\n",
    "# Визуализация ROC AUC\n",
    "plt.figure()\n",
    "plt.plot([0, 1], label='Baseline', linestyle='--')\n",
    "plt.plot(fpr, tpr, label='Regression')\n",
    "plt.title('Logistic Regression ROC AUC = %0.3f' % roc_auc)\n",
    "plt.ylabel('True Positive Rate')\n",
    "plt.xlabel('False Positive Rate')\n",
    "plt.legend(loc='lower right')\n",
    "plt.show()"
   ]
  },
  {
   "cell_type": "code",
   "execution_count": 59,
   "metadata": {
    "ExecuteTime": {
     "end_time": "2020-12-26T08:35:30.131947Z",
     "start_time": "2020-12-26T08:35:30.117985Z"
    },
    "execution": {
     "iopub.execute_input": "2020-12-26T11:18:41.702581Z",
     "iopub.status.busy": "2020-12-26T11:18:41.701855Z",
     "iopub.status.idle": "2020-12-26T11:18:41.705049Z",
     "shell.execute_reply": "2020-12-26T11:18:41.704446Z"
    },
    "papermill": {
     "duration": 0.109857,
     "end_time": "2020-12-26T11:18:41.705154",
     "exception": false,
     "start_time": "2020-12-26T11:18:41.595297",
     "status": "completed"
    },
    "tags": []
   },
   "outputs": [],
   "source": [
    "# Функция выводит метрики accuracy и f1-score\n",
    "def print_logisitc_metrics(y_true, y_pred):\n",
    "    acc = accuracy_score(y_true, y_pred)\n",
    "    f1 = f1_score(y_true, y_pred)\n",
    "    print(f'acc = {acc:.2f} F1-score = {f1:.2f}')"
   ]
  },
  {
   "cell_type": "code",
   "execution_count": 60,
   "metadata": {
    "ExecuteTime": {
     "end_time": "2020-12-26T08:35:30.163862Z",
     "start_time": "2020-12-26T08:35:30.133942Z"
    },
    "execution": {
     "iopub.execute_input": "2020-12-26T11:18:41.915771Z",
     "iopub.status.busy": "2020-12-26T11:18:41.914687Z",
     "iopub.status.idle": "2020-12-26T11:18:41.935443Z",
     "shell.execute_reply": "2020-12-26T11:18:41.934840Z"
    },
    "papermill": {
     "duration": 0.127685,
     "end_time": "2020-12-26T11:18:41.935568",
     "exception": false,
     "start_time": "2020-12-26T11:18:41.807883",
     "status": "completed"
    },
    "tags": []
   },
   "outputs": [
    {
     "name": "stdout",
     "output_type": "stream",
     "text": [
      "acc = 0.67 F1-score = 0.67\n"
     ]
    }
   ],
   "source": [
    "Y_predicted = model.predict(X_test)\n",
    "print_logisitc_metrics(y_test, Y_predicted)"
   ]
  },
  {
   "cell_type": "code",
   "execution_count": 61,
   "metadata": {
    "ExecuteTime": {
     "end_time": "2020-12-26T08:35:30.211737Z",
     "start_time": "2020-12-26T08:35:30.166856Z"
    },
    "execution": {
     "iopub.execute_input": "2020-12-26T11:18:42.146220Z",
     "iopub.status.busy": "2020-12-26T11:18:42.145219Z",
     "iopub.status.idle": "2020-12-26T11:18:42.189033Z",
     "shell.execute_reply": "2020-12-26T11:18:42.189689Z"
    },
    "papermill": {
     "duration": 0.151607,
     "end_time": "2020-12-26T11:18:42.189836",
     "exception": false,
     "start_time": "2020-12-26T11:18:42.038229",
     "status": "completed"
    },
    "tags": []
   },
   "outputs": [
    {
     "data": {
      "text/plain": [
       "array([[8299, 4222],\n",
       "       [3891, 8336]])"
      ]
     },
     "execution_count": 61,
     "metadata": {},
     "output_type": "execute_result"
    }
   ],
   "source": [
    "# confusion matrix\n",
    "cm = confusion_matrix(y_test, Y_predicted)\n",
    "cm"
   ]
  },
  {
   "cell_type": "code",
   "execution_count": 62,
   "metadata": {
    "ExecuteTime": {
     "end_time": "2020-12-26T08:35:30.653554Z",
     "start_time": "2020-12-26T08:35:30.217724Z"
    },
    "execution": {
     "iopub.execute_input": "2020-12-26T11:18:42.401342Z",
     "iopub.status.busy": "2020-12-26T11:18:42.400312Z",
     "iopub.status.idle": "2020-12-26T11:18:42.625457Z",
     "shell.execute_reply": "2020-12-26T11:18:42.624802Z"
    },
    "papermill": {
     "duration": 0.332545,
     "end_time": "2020-12-26T11:18:42.625582",
     "exception": false,
     "start_time": "2020-12-26T11:18:42.293037",
     "status": "completed"
    },
    "tags": []
   },
   "outputs": [
    {
     "data": {
      "text/plain": [
       "<matplotlib.axes._subplots.AxesSubplot at 0x7f1a4f4698d0>"
      ]
     },
     "execution_count": 62,
     "metadata": {},
     "output_type": "execute_result"
    },
    {
     "data": {
      "image/png": "[encoded data removed]",
      "text/plain": [
       "<Figure size 864x576 with 2 Axes>"
      ]
     },
     "metadata": {
      "needs_background": "light"
     },
     "output_type": "display_data"
    }
   ],
   "source": [
    "# визуализация confusion matrix\n",
    "sns.set_context(context='paper', font_scale=2, rc=None)\n",
    "group_names = ['True Neg', 'False Pos', 'False Neg', 'True Pos']\n",
    "group_counts = ['{0:0.0f}'.format(value) for value in\n",
    "                cm.flatten()]\n",
    "labels = [f'{v1}\\n{v2}' for v1, v2 in\n",
    "          zip(group_names, group_counts)]\n",
    "labels = np.asarray(labels).reshape(2, 2)\n",
    "sns.heatmap(cm, annot=labels, fmt='', cmap='Blues')"
   ]
  },
  {
   "cell_type": "code",
   "execution_count": 63,
   "metadata": {
    "ExecuteTime": {
     "end_time": "2020-12-26T08:35:48.275431Z",
     "start_time": "2020-12-26T08:35:30.656546Z"
    },
    "execution": {
     "iopub.execute_input": "2020-12-26T11:18:42.845099Z",
     "iopub.status.busy": "2020-12-26T11:18:42.843933Z",
     "iopub.status.idle": "2020-12-26T11:19:01.846017Z",
     "shell.execute_reply": "2020-12-26T11:19:01.846747Z"
    },
    "papermill": {
     "duration": 19.115383,
     "end_time": "2020-12-26T11:19:01.846956",
     "exception": false,
     "start_time": "2020-12-26T11:18:42.731573",
     "status": "completed"
    },
    "tags": []
   },
   "outputs": [],
   "source": [
    "model = LogisticRegression(penalty='l2', C=7.742636826811269, max_iter=800)\n",
    "model.fit(X, Y)\n",
    "probs = model.predict_proba(test)\n",
    "probs = probs[:, 1]"
   ]
  },
  {
   "cell_type": "markdown",
   "metadata": {
    "papermill": {
     "duration": 0.10574,
     "end_time": "2020-12-26T11:19:02.062061",
     "exception": false,
     "start_time": "2020-12-26T11:19:01.956321",
     "status": "completed"
    },
    "tags": []
   },
   "source": [
    "И в конце создаём экземпляр таблицы с предсказаниями, чтобы выложить его на kaggle"
   ]
  },
  {
   "cell_type": "code",
   "execution_count": 64,
   "metadata": {
    "ExecuteTime": {
     "end_time": "2020-12-26T08:35:48.529764Z",
     "start_time": "2020-12-26T08:35:48.278425Z"
    },
    "execution": {
     "iopub.execute_input": "2020-12-26T11:19:02.281871Z",
     "iopub.status.busy": "2020-12-26T11:19:02.281158Z",
     "iopub.status.idle": "2020-12-26T11:19:02.733969Z",
     "shell.execute_reply": "2020-12-26T11:19:02.733302Z"
    },
    "papermill": {
     "duration": 0.564142,
     "end_time": "2020-12-26T11:19:02.734079",
     "exception": false,
     "start_time": "2020-12-26T11:19:02.169937",
     "status": "completed"
    },
    "tags": []
   },
   "outputs": [
    {
     "data": {
      "text/html": [
       "<div>\n",
       "<style scoped>\n",
       "    .dataframe tbody tr th:only-of-type {\n",
       "        vertical-align: middle;\n",
       "    }\n",
       "\n",
       "    .dataframe tbody tr th {\n",
       "        vertical-align: top;\n",
       "    }\n",
       "\n",
       "    .dataframe thead th {\n",
       "        text-align: right;\n",
       "    }\n",
       "</style>\n",
       "<table border=\"1\" class=\"dataframe\">\n",
       "  <thead>\n",
       "    <tr style=\"text-align: right;\">\n",
       "      <th></th>\n",
       "      <th>client_id</th>\n",
       "      <th>default</th>\n",
       "    </tr>\n",
       "  </thead>\n",
       "  <tbody>\n",
       "    <tr>\n",
       "      <th>0</th>\n",
       "      <td>74835</td>\n",
       "      <td>0.220091</td>\n",
       "    </tr>\n",
       "    <tr>\n",
       "      <th>1</th>\n",
       "      <td>17527</td>\n",
       "      <td>0.809609</td>\n",
       "    </tr>\n",
       "    <tr>\n",
       "      <th>2</th>\n",
       "      <td>75683</td>\n",
       "      <td>0.381269</td>\n",
       "    </tr>\n",
       "    <tr>\n",
       "      <th>3</th>\n",
       "      <td>26883</td>\n",
       "      <td>0.407274</td>\n",
       "    </tr>\n",
       "    <tr>\n",
       "      <th>4</th>\n",
       "      <td>28862</td>\n",
       "      <td>0.120759</td>\n",
       "    </tr>\n",
       "    <tr>\n",
       "      <th>5</th>\n",
       "      <td>99881</td>\n",
       "      <td>0.581066</td>\n",
       "    </tr>\n",
       "    <tr>\n",
       "      <th>6</th>\n",
       "      <td>26630</td>\n",
       "      <td>0.810408</td>\n",
       "    </tr>\n",
       "    <tr>\n",
       "      <th>7</th>\n",
       "      <td>79934</td>\n",
       "      <td>0.274498</td>\n",
       "    </tr>\n",
       "    <tr>\n",
       "      <th>8</th>\n",
       "      <td>16605</td>\n",
       "      <td>0.125840</td>\n",
       "    </tr>\n",
       "    <tr>\n",
       "      <th>9</th>\n",
       "      <td>105449</td>\n",
       "      <td>0.097914</td>\n",
       "    </tr>\n",
       "  </tbody>\n",
       "</table>\n",
       "</div>"
      ],
      "text/plain": [
       "   client_id   default\n",
       "0      74835  0.220091\n",
       "1      17527  0.809609\n",
       "2      75683  0.381269\n",
       "3      26883  0.407274\n",
       "4      28862  0.120759\n",
       "5      99881  0.581066\n",
       "6      26630  0.810408\n",
       "7      79934  0.274498\n",
       "8      16605  0.125840\n",
       "9     105449  0.097914"
      ]
     },
     "execution_count": 64,
     "metadata": {},
     "output_type": "execute_result"
    }
   ],
   "source": [
    "my_submission = pd.DataFrame({'client_id': id_test,\n",
    "                              'default': probs})\n",
    "my_submission.to_csv('submission.csv', index=False)\n",
    "\n",
    "my_submission.head(10)"
   ]
  },
  {
   "cell_type": "markdown",
   "metadata": {
    "papermill": {
     "duration": 0.106102,
     "end_time": "2020-12-26T11:19:02.947583",
     "exception": false,
     "start_time": "2020-12-26T11:19:02.841481",
     "status": "completed"
    },
    "tags": []
   },
   "source": [
    "## Выводы\n",
    "\n",
    "Существуют методы, улучшающие результаты работы модели за счёт оптимизации данных (нормализация, логарифмирование, регуляризация и другие), но основными факторами, позволяющими значительно улучшить эффективность предсказания, остаются EDA и feauture engineering."
   ]
  },
  {
   "cell_type": "code",
   "execution_count": null,
   "metadata": {
    "papermill": {
     "duration": 0.105469,
     "end_time": "2020-12-26T11:19:03.158581",
     "exception": false,
     "start_time": "2020-12-26T11:19:03.053112",
     "status": "completed"
    },
    "tags": []
   },
   "outputs": [],
   "source": []
  },
  {
   "cell_type": "code",
   "execution_count": null,
   "metadata": {
    "papermill": {
     "duration": 0.105088,
     "end_time": "2020-12-26T11:19:03.369117",
     "exception": false,
     "start_time": "2020-12-26T11:19:03.264029",
     "status": "completed"
    },
    "tags": []
   },
   "outputs": [],
   "source": []
  }
 ],
 "metadata": {
  "kernelspec": {
   "display_name": "Python 3",
   "language": "python",
   "name": "python3"
  },
  "language_info": {
   "codemirror_mode": {
    "name": "ipython",
    "version": 3
   },
   "file_extension": ".py",
   "mimetype": "text/x-python",
   "name": "python",
   "nbconvert_exporter": "python",
   "pygments_lexer": "ipython3",
   "version": "3.7.6"
  },
  "papermill": {
   "duration": 161.635923,
   "end_time": "2020-12-26T11:19:03.582093",
   "environment_variables": {},
   "exception": null,
   "input_path": "__notebook__.ipynb",
   "output_path": "__notebook__.ipynb",
   "parameters": {},
   "start_time": "2020-12-26T11:16:21.946170",
   "version": "2.1.0"
  }
 },
 "nbformat": 4,
 "nbformat_minor": 4
}
