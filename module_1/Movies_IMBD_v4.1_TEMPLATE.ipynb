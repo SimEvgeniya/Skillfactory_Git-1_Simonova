{
 "cells": [
  {
   "cell_type": "code",
   "execution_count": 3,
   "metadata": {
    "_cell_guid": "b1076dfc-b9ad-4769-8c92-a6c4dae69d19",
    "_uuid": "8f2839f25d086af736a60e9eeb907d3b93b6e0e5",
    "colab": {},
    "colab_type": "code",
    "id": "U2D2gTdJVp90"
   },
   "outputs": [],
   "source": [
    "import numpy as np\n",
    "import pandas as pd\n",
    "import seaborn as sns\n",
    "import matplotlib.pyplot as plt\n",
    "import itertools as it\n",
    "from collections import Counter"
   ]
  },
  {
   "cell_type": "code",
   "execution_count": 4,
   "metadata": {
    "_cell_guid": "79c7e3d0-c299-4dcb-8224-4455121ee9b0",
    "_uuid": "d629ff2d2480ee46fbb7e2d37f6b5fab8052498a",
    "colab": {},
    "colab_type": "code",
    "id": "oyGfxL3eVp9-"
   },
   "outputs": [
    {
     "data": {
      "text/html": [
       "<div>\n",
       "<style scoped>\n",
       "    .dataframe tbody tr th:only-of-type {\n",
       "        vertical-align: middle;\n",
       "    }\n",
       "\n",
       "    .dataframe tbody tr th {\n",
       "        vertical-align: top;\n",
       "    }\n",
       "\n",
       "    .dataframe thead th {\n",
       "        text-align: right;\n",
       "    }\n",
       "</style>\n",
       "<table border=\"1\" class=\"dataframe\">\n",
       "  <thead>\n",
       "    <tr style=\"text-align: right;\">\n",
       "      <th></th>\n",
       "      <th>imdb_id</th>\n",
       "      <th>budget</th>\n",
       "      <th>revenue</th>\n",
       "      <th>original_title</th>\n",
       "      <th>cast</th>\n",
       "      <th>director</th>\n",
       "      <th>tagline</th>\n",
       "      <th>overview</th>\n",
       "      <th>runtime</th>\n",
       "      <th>genres</th>\n",
       "      <th>production_companies</th>\n",
       "      <th>release_date</th>\n",
       "      <th>vote_average</th>\n",
       "      <th>release_year</th>\n",
       "    </tr>\n",
       "  </thead>\n",
       "  <tbody>\n",
       "    <tr>\n",
       "      <th>589</th>\n",
       "      <td>tt0273799</td>\n",
       "      <td>12000000</td>\n",
       "      <td>17292381</td>\n",
       "      <td>Max Keeble's Big Move</td>\n",
       "      <td>Alex D. Linz|Zena Grey|Nora Dunn|Larry Miller|...</td>\n",
       "      <td>Tim Hill</td>\n",
       "      <td>His World. His Rules.</td>\n",
       "      <td>Max Keeble, the victim of his 7th grade class,...</td>\n",
       "      <td>86</td>\n",
       "      <td>Comedy|Family|Fantasy|Science Fiction</td>\n",
       "      <td>Walt Disney Pictures|Karz Entertainment</td>\n",
       "      <td>10/5/2001</td>\n",
       "      <td>5.3</td>\n",
       "      <td>2001</td>\n",
       "    </tr>\n",
       "    <tr>\n",
       "      <th>257</th>\n",
       "      <td>tt1259571</td>\n",
       "      <td>50000000</td>\n",
       "      <td>709827462</td>\n",
       "      <td>The Twilight Saga: New Moon</td>\n",
       "      <td>Kristen Stewart|Robert Pattinson|Taylor Lautne...</td>\n",
       "      <td>Chris Weitz</td>\n",
       "      <td>The Next Chapter Begins.</td>\n",
       "      <td>Forks, Washington resident Bella Swan is reeli...</td>\n",
       "      <td>130</td>\n",
       "      <td>Adventure|Fantasy|Drama|Romance</td>\n",
       "      <td>Summit Entertainment|Maverick Films|Imprint En...</td>\n",
       "      <td>3/15/2009</td>\n",
       "      <td>5.6</td>\n",
       "      <td>2009</td>\n",
       "    </tr>\n",
       "    <tr>\n",
       "      <th>1700</th>\n",
       "      <td>tt0461770</td>\n",
       "      <td>85000000</td>\n",
       "      <td>340487652</td>\n",
       "      <td>Enchanted</td>\n",
       "      <td>Patrick Dempsey|Amy Adams|James Marsden|Timoth...</td>\n",
       "      <td>Kevin Lima</td>\n",
       "      <td>This fairytale princess is about to meet a rea...</td>\n",
       "      <td>The beautiful princess Giselle is banished by ...</td>\n",
       "      <td>107</td>\n",
       "      <td>Comedy|Family|Fantasy|Romance</td>\n",
       "      <td>Walt Disney Pictures|Josephson Entertainment|A...</td>\n",
       "      <td>11/20/2007</td>\n",
       "      <td>6.6</td>\n",
       "      <td>2007</td>\n",
       "    </tr>\n",
       "    <tr>\n",
       "      <th>465</th>\n",
       "      <td>tt1226753</td>\n",
       "      <td>20000000</td>\n",
       "      <td>45636368</td>\n",
       "      <td>The Debt</td>\n",
       "      <td>Helen Mirren|Sam Worthington|Jessica Chastain|...</td>\n",
       "      <td>John Madden</td>\n",
       "      <td>The secret is only the beginning</td>\n",
       "      <td>Rachel Singer is a former Mossad agent who tri...</td>\n",
       "      <td>113</td>\n",
       "      <td>Drama|Thriller</td>\n",
       "      <td>Miramax Films|Marv Films|Pioneer Pictures</td>\n",
       "      <td>4/11/2010</td>\n",
       "      <td>6.1</td>\n",
       "      <td>2010</td>\n",
       "    </tr>\n",
       "    <tr>\n",
       "      <th>1138</th>\n",
       "      <td>tt0327850</td>\n",
       "      <td>85000000</td>\n",
       "      <td>80916492</td>\n",
       "      <td>The Rundown</td>\n",
       "      <td>Dwayne Johnson|Seann William Scott|Rosario Daw...</td>\n",
       "      <td>Peter Berg</td>\n",
       "      <td>cut to the chase</td>\n",
       "      <td>When Travis, the mouthy son of a criminal, dis...</td>\n",
       "      <td>104</td>\n",
       "      <td>Adventure|Action|Comedy|Thriller</td>\n",
       "      <td>Columbia Pictures|Universal Pictures|WWE Studios</td>\n",
       "      <td>9/26/2003</td>\n",
       "      <td>6.3</td>\n",
       "      <td>2003</td>\n",
       "    </tr>\n",
       "  </tbody>\n",
       "</table>\n",
       "</div>"
      ],
      "text/plain": [
       "        imdb_id    budget    revenue               original_title  \\\n",
       "589   tt0273799  12000000   17292381        Max Keeble's Big Move   \n",
       "257   tt1259571  50000000  709827462  The Twilight Saga: New Moon   \n",
       "1700  tt0461770  85000000  340487652                    Enchanted   \n",
       "465   tt1226753  20000000   45636368                     The Debt   \n",
       "1138  tt0327850  85000000   80916492                  The Rundown   \n",
       "\n",
       "                                                   cast     director  \\\n",
       "589   Alex D. Linz|Zena Grey|Nora Dunn|Larry Miller|...     Tim Hill   \n",
       "257   Kristen Stewart|Robert Pattinson|Taylor Lautne...  Chris Weitz   \n",
       "1700  Patrick Dempsey|Amy Adams|James Marsden|Timoth...   Kevin Lima   \n",
       "465   Helen Mirren|Sam Worthington|Jessica Chastain|...  John Madden   \n",
       "1138  Dwayne Johnson|Seann William Scott|Rosario Daw...   Peter Berg   \n",
       "\n",
       "                                                tagline  \\\n",
       "589                               His World. His Rules.   \n",
       "257                            The Next Chapter Begins.   \n",
       "1700  This fairytale princess is about to meet a rea...   \n",
       "465                    The secret is only the beginning   \n",
       "1138                                   cut to the chase   \n",
       "\n",
       "                                               overview  runtime  \\\n",
       "589   Max Keeble, the victim of his 7th grade class,...       86   \n",
       "257   Forks, Washington resident Bella Swan is reeli...      130   \n",
       "1700  The beautiful princess Giselle is banished by ...      107   \n",
       "465   Rachel Singer is a former Mossad agent who tri...      113   \n",
       "1138  When Travis, the mouthy son of a criminal, dis...      104   \n",
       "\n",
       "                                     genres  \\\n",
       "589   Comedy|Family|Fantasy|Science Fiction   \n",
       "257         Adventure|Fantasy|Drama|Romance   \n",
       "1700          Comedy|Family|Fantasy|Romance   \n",
       "465                          Drama|Thriller   \n",
       "1138       Adventure|Action|Comedy|Thriller   \n",
       "\n",
       "                                   production_companies release_date  \\\n",
       "589             Walt Disney Pictures|Karz Entertainment    10/5/2001   \n",
       "257   Summit Entertainment|Maverick Films|Imprint En...    3/15/2009   \n",
       "1700  Walt Disney Pictures|Josephson Entertainment|A...   11/20/2007   \n",
       "465           Miramax Films|Marv Films|Pioneer Pictures    4/11/2010   \n",
       "1138   Columbia Pictures|Universal Pictures|WWE Studios    9/26/2003   \n",
       "\n",
       "      vote_average  release_year  \n",
       "589            5.3          2001  \n",
       "257            5.6          2009  \n",
       "1700           6.6          2007  \n",
       "465            6.1          2010  \n",
       "1138           6.3          2003  "
      ]
     },
     "execution_count": 4,
     "metadata": {},
     "output_type": "execute_result"
    }
   ],
   "source": [
    "data = pd.read_csv('movie_bd_v5.csv')\n",
    "data.sample(5)"
   ]
  },
  {
   "cell_type": "code",
   "execution_count": 5,
   "metadata": {
    "colab": {},
    "colab_type": "code",
    "id": "CoYUnagMVp-C"
   },
   "outputs": [
    {
     "data": {
      "text/html": [
       "<div>\n",
       "<style scoped>\n",
       "    .dataframe tbody tr th:only-of-type {\n",
       "        vertical-align: middle;\n",
       "    }\n",
       "\n",
       "    .dataframe tbody tr th {\n",
       "        vertical-align: top;\n",
       "    }\n",
       "\n",
       "    .dataframe thead th {\n",
       "        text-align: right;\n",
       "    }\n",
       "</style>\n",
       "<table border=\"1\" class=\"dataframe\">\n",
       "  <thead>\n",
       "    <tr style=\"text-align: right;\">\n",
       "      <th></th>\n",
       "      <th>budget</th>\n",
       "      <th>revenue</th>\n",
       "      <th>runtime</th>\n",
       "      <th>vote_average</th>\n",
       "      <th>release_year</th>\n",
       "    </tr>\n",
       "  </thead>\n",
       "  <tbody>\n",
       "    <tr>\n",
       "      <th>count</th>\n",
       "      <td>1.889000e+03</td>\n",
       "      <td>1.889000e+03</td>\n",
       "      <td>1889.000000</td>\n",
       "      <td>1889.000000</td>\n",
       "      <td>1889.000000</td>\n",
       "    </tr>\n",
       "    <tr>\n",
       "      <th>mean</th>\n",
       "      <td>5.431083e+07</td>\n",
       "      <td>1.553653e+08</td>\n",
       "      <td>109.658549</td>\n",
       "      <td>6.140762</td>\n",
       "      <td>2007.860773</td>\n",
       "    </tr>\n",
       "    <tr>\n",
       "      <th>std</th>\n",
       "      <td>4.858721e+07</td>\n",
       "      <td>2.146698e+08</td>\n",
       "      <td>18.017041</td>\n",
       "      <td>0.764763</td>\n",
       "      <td>4.468841</td>\n",
       "    </tr>\n",
       "    <tr>\n",
       "      <th>min</th>\n",
       "      <td>5.000000e+06</td>\n",
       "      <td>2.033165e+06</td>\n",
       "      <td>63.000000</td>\n",
       "      <td>3.300000</td>\n",
       "      <td>2000.000000</td>\n",
       "    </tr>\n",
       "    <tr>\n",
       "      <th>25%</th>\n",
       "      <td>2.000000e+07</td>\n",
       "      <td>3.456058e+07</td>\n",
       "      <td>97.000000</td>\n",
       "      <td>5.600000</td>\n",
       "      <td>2004.000000</td>\n",
       "    </tr>\n",
       "    <tr>\n",
       "      <th>50%</th>\n",
       "      <td>3.800000e+07</td>\n",
       "      <td>8.361541e+07</td>\n",
       "      <td>107.000000</td>\n",
       "      <td>6.100000</td>\n",
       "      <td>2008.000000</td>\n",
       "    </tr>\n",
       "    <tr>\n",
       "      <th>75%</th>\n",
       "      <td>7.200000e+07</td>\n",
       "      <td>1.782626e+08</td>\n",
       "      <td>120.000000</td>\n",
       "      <td>6.600000</td>\n",
       "      <td>2012.000000</td>\n",
       "    </tr>\n",
       "    <tr>\n",
       "      <th>max</th>\n",
       "      <td>3.800000e+08</td>\n",
       "      <td>2.781506e+09</td>\n",
       "      <td>214.000000</td>\n",
       "      <td>8.100000</td>\n",
       "      <td>2015.000000</td>\n",
       "    </tr>\n",
       "  </tbody>\n",
       "</table>\n",
       "</div>"
      ],
      "text/plain": [
       "             budget       revenue      runtime  vote_average  release_year\n",
       "count  1.889000e+03  1.889000e+03  1889.000000   1889.000000   1889.000000\n",
       "mean   5.431083e+07  1.553653e+08   109.658549      6.140762   2007.860773\n",
       "std    4.858721e+07  2.146698e+08    18.017041      0.764763      4.468841\n",
       "min    5.000000e+06  2.033165e+06    63.000000      3.300000   2000.000000\n",
       "25%    2.000000e+07  3.456058e+07    97.000000      5.600000   2004.000000\n",
       "50%    3.800000e+07  8.361541e+07   107.000000      6.100000   2008.000000\n",
       "75%    7.200000e+07  1.782626e+08   120.000000      6.600000   2012.000000\n",
       "max    3.800000e+08  2.781506e+09   214.000000      8.100000   2015.000000"
      ]
     },
     "execution_count": 5,
     "metadata": {},
     "output_type": "execute_result"
    }
   ],
   "source": [
    "data.describe()"
   ]
  },
  {
   "cell_type": "code",
   "execution_count": 6,
   "metadata": {},
   "outputs": [
    {
     "name": "stdout",
     "output_type": "stream",
     "text": [
      "<class 'pandas.core.frame.DataFrame'>\n",
      "RangeIndex: 1889 entries, 0 to 1888\n",
      "Data columns (total 14 columns):\n",
      " #   Column                Non-Null Count  Dtype  \n",
      "---  ------                --------------  -----  \n",
      " 0   imdb_id               1889 non-null   object \n",
      " 1   budget                1889 non-null   int64  \n",
      " 2   revenue               1889 non-null   int64  \n",
      " 3   original_title        1889 non-null   object \n",
      " 4   cast                  1889 non-null   object \n",
      " 5   director              1889 non-null   object \n",
      " 6   tagline               1889 non-null   object \n",
      " 7   overview              1889 non-null   object \n",
      " 8   runtime               1889 non-null   int64  \n",
      " 9   genres                1889 non-null   object \n",
      " 10  production_companies  1889 non-null   object \n",
      " 11  release_date          1889 non-null   object \n",
      " 12  vote_average          1889 non-null   float64\n",
      " 13  release_year          1889 non-null   int64  \n",
      "dtypes: float64(1), int64(4), object(9)\n",
      "memory usage: 206.7+ KB\n"
     ]
    }
   ],
   "source": [
    "data.info()"
   ]
  },
  {
   "cell_type": "markdown",
   "metadata": {
    "colab_type": "text",
    "id": "DTIt7ezGVp-G"
   },
   "source": [
    "# Предобработка"
   ]
  },
  {
   "cell_type": "code",
   "execution_count": 7,
   "metadata": {
    "colab": {},
    "colab_type": "code",
    "id": "jNb40DwKVp-H"
   },
   "outputs": [],
   "source": [
    "answers = {}  # создадим словарь для ответов\n",
    "\n",
    "# тут другие ваши предобработки колонок например:\n",
    "\n",
    "# the time given in the dataset is in string format.\n",
    "# So we need to change this in datetime format\n",
    "data['release_date'] = pd.to_datetime(data['release_date'])\n",
    "\n",
    "# Create a profit and loss column (6)\n",
    "data['profit'] = data['revenue'] - data['budget']\n",
    "\n",
    "# function to count the number of genres (11)\n",
    "\n",
    "\n",
    "def genre_counter(genres):\n",
    "    genres_new = {}\n",
    "    for line in genres:\n",
    "        info = line.split('|')\n",
    "        for genre in info:\n",
    "            if genre in genres_new:\n",
    "                genres_new[genre] += 1\n",
    "            else:\n",
    "                genres_new[genre] = 1\n",
    "    genre_max = (max(genres_new, key=lambda x: genres_new[x]))\n",
    "\n",
    "    return genre_max\n",
    "\n",
    "\n",
    "# add month column (№21)\n",
    "months = {'1': 'Январь', '2': 'Февраль', '3': 'Март', '4': 'Апрель',\n",
    "          '5': 'Май', '6': 'Июнь', '7': 'Июль', '8': 'Август', '9': 'Сентябрь',\n",
    "          '10': 'Октябрь', '11': 'Ноябрь', '12': 'Декабрь'}\n",
    "data['month'] = data['release_date'].dt.month\n",
    "data['month'] = data['month'].apply(lambda x: months[str(x)])\n",
    "\n",
    "# calculate the average length of the studio (№24)\n",
    "\n",
    "\n",
    "def length_calculation(data_mini):\n",
    "    companies = pd.Series(\n",
    "        data_mini['production_companies'].str.cat(sep='|').split('|'))\n",
    "    companies = companies.value_counts(ascending=False)\n",
    "    for company in companies.index:\n",
    "        sum_len = data_mini['length'][data_mini['production_companies'].map(\n",
    "            lambda x: True if company in x.split('|') else False)].sum()\n",
    "        companies[company] = sum_len / companies[company]\n",
    "\n",
    "    return companies.sort_values(ascending=False)"
   ]
  },
  {
   "cell_type": "code",
   "execution_count": 8,
   "metadata": {},
   "outputs": [
    {
     "data": {
      "text/html": [
       "<div>\n",
       "<style scoped>\n",
       "    .dataframe tbody tr th:only-of-type {\n",
       "        vertical-align: middle;\n",
       "    }\n",
       "\n",
       "    .dataframe tbody tr th {\n",
       "        vertical-align: top;\n",
       "    }\n",
       "\n",
       "    .dataframe thead th {\n",
       "        text-align: right;\n",
       "    }\n",
       "</style>\n",
       "<table border=\"1\" class=\"dataframe\">\n",
       "  <thead>\n",
       "    <tr style=\"text-align: right;\">\n",
       "      <th></th>\n",
       "      <th>imdb_id</th>\n",
       "      <th>budget</th>\n",
       "      <th>revenue</th>\n",
       "      <th>original_title</th>\n",
       "      <th>cast</th>\n",
       "      <th>director</th>\n",
       "      <th>tagline</th>\n",
       "      <th>overview</th>\n",
       "      <th>runtime</th>\n",
       "      <th>genres</th>\n",
       "      <th>production_companies</th>\n",
       "      <th>release_date</th>\n",
       "      <th>vote_average</th>\n",
       "      <th>release_year</th>\n",
       "      <th>profit</th>\n",
       "      <th>month</th>\n",
       "    </tr>\n",
       "  </thead>\n",
       "  <tbody>\n",
       "    <tr>\n",
       "      <th>1396</th>\n",
       "      <td>tt0257516</td>\n",
       "      <td>35000000</td>\n",
       "      <td>19294901</td>\n",
       "      <td>Cursed</td>\n",
       "      <td>Portia de Rossi|Christina Ricci|Jesse Eisenber...</td>\n",
       "      <td>Wes Craven</td>\n",
       "      <td>What doesn't kill you makes you stronger.</td>\n",
       "      <td>A werewolf loose in Los Angeles changes the li...</td>\n",
       "      <td>97</td>\n",
       "      <td>Horror|Comedy</td>\n",
       "      <td>Craven-Maddalena Films|Outerbanks Entertainmen...</td>\n",
       "      <td>2005-02-24</td>\n",
       "      <td>5.0</td>\n",
       "      <td>2005</td>\n",
       "      <td>-15705099</td>\n",
       "      <td>Февраль</td>\n",
       "    </tr>\n",
       "    <tr>\n",
       "      <th>978</th>\n",
       "      <td>tt1045658</td>\n",
       "      <td>21000000</td>\n",
       "      <td>205738714</td>\n",
       "      <td>Silver Linings Playbook</td>\n",
       "      <td>Bradley Cooper|Jennifer Lawrence|Robert De Nir...</td>\n",
       "      <td>David O. Russell</td>\n",
       "      <td>Watch For The Signs</td>\n",
       "      <td>After spending eight months in a mental instit...</td>\n",
       "      <td>122</td>\n",
       "      <td>Drama|Comedy|Romance</td>\n",
       "      <td>The Weinstein Company</td>\n",
       "      <td>2012-09-08</td>\n",
       "      <td>6.9</td>\n",
       "      <td>2012</td>\n",
       "      <td>184738714</td>\n",
       "      <td>Сентябрь</td>\n",
       "    </tr>\n",
       "    <tr>\n",
       "      <th>428</th>\n",
       "      <td>tt1270761</td>\n",
       "      <td>25000000</td>\n",
       "      <td>36993168</td>\n",
       "      <td>Don't Be Afraid of the Dark</td>\n",
       "      <td>Katie Holmes|Guy Pearce|Bailee Madison|Alan Da...</td>\n",
       "      <td>Troy Nixey</td>\n",
       "      <td>Fear is never just make believe</td>\n",
       "      <td>A young girl sent to live with her father and ...</td>\n",
       "      <td>99</td>\n",
       "      <td>Fantasy|Horror|Thriller</td>\n",
       "      <td>Miramax Films|Gran Via Productions|FilmDistric...</td>\n",
       "      <td>2010-11-06</td>\n",
       "      <td>5.4</td>\n",
       "      <td>2010</td>\n",
       "      <td>11993168</td>\n",
       "      <td>Ноябрь</td>\n",
       "    </tr>\n",
       "    <tr>\n",
       "      <th>717</th>\n",
       "      <td>tt0465502</td>\n",
       "      <td>25000000</td>\n",
       "      <td>30000000</td>\n",
       "      <td>Igor</td>\n",
       "      <td>John Cusack|Myleene Klass|Robin Walsh|Matt McK...</td>\n",
       "      <td>Anthony Leondis</td>\n",
       "      <td>All men aren't created Evil.</td>\n",
       "      <td>Animated fable about a clichÃ© hunchbacked evi...</td>\n",
       "      <td>87</td>\n",
       "      <td>Animation|Comedy|Family|Fantasy</td>\n",
       "      <td>Exodus Film Group|Exodus Productions</td>\n",
       "      <td>2008-09-19</td>\n",
       "      <td>5.4</td>\n",
       "      <td>2008</td>\n",
       "      <td>5000000</td>\n",
       "      <td>Сентябрь</td>\n",
       "    </tr>\n",
       "    <tr>\n",
       "      <th>1887</th>\n",
       "      <td>tt0162983</td>\n",
       "      <td>40000000</td>\n",
       "      <td>36037909</td>\n",
       "      <td>Hanging Up</td>\n",
       "      <td>Meg Ryan|Diane Keaton|Lisa Kudrow|Walter Matth...</td>\n",
       "      <td>Diane Keaton</td>\n",
       "      <td>Every family has a few hang-ups.</td>\n",
       "      <td>A trio of sisters bond over their ambivalence ...</td>\n",
       "      <td>94</td>\n",
       "      <td>Comedy|Drama</td>\n",
       "      <td>Laurence Mark Productions|Columbia Pictures Co...</td>\n",
       "      <td>2000-02-16</td>\n",
       "      <td>5.2</td>\n",
       "      <td>2000</td>\n",
       "      <td>-3962091</td>\n",
       "      <td>Февраль</td>\n",
       "    </tr>\n",
       "  </tbody>\n",
       "</table>\n",
       "</div>"
      ],
      "text/plain": [
       "        imdb_id    budget    revenue               original_title  \\\n",
       "1396  tt0257516  35000000   19294901                       Cursed   \n",
       "978   tt1045658  21000000  205738714      Silver Linings Playbook   \n",
       "428   tt1270761  25000000   36993168  Don't Be Afraid of the Dark   \n",
       "717   tt0465502  25000000   30000000                         Igor   \n",
       "1887  tt0162983  40000000   36037909                   Hanging Up   \n",
       "\n",
       "                                                   cast          director  \\\n",
       "1396  Portia de Rossi|Christina Ricci|Jesse Eisenber...        Wes Craven   \n",
       "978   Bradley Cooper|Jennifer Lawrence|Robert De Nir...  David O. Russell   \n",
       "428   Katie Holmes|Guy Pearce|Bailee Madison|Alan Da...        Troy Nixey   \n",
       "717   John Cusack|Myleene Klass|Robin Walsh|Matt McK...   Anthony Leondis   \n",
       "1887  Meg Ryan|Diane Keaton|Lisa Kudrow|Walter Matth...      Diane Keaton   \n",
       "\n",
       "                                        tagline  \\\n",
       "1396  What doesn't kill you makes you stronger.   \n",
       "978                         Watch For The Signs   \n",
       "428             Fear is never just make believe   \n",
       "717                All men aren't created Evil.   \n",
       "1887           Every family has a few hang-ups.   \n",
       "\n",
       "                                               overview  runtime  \\\n",
       "1396  A werewolf loose in Los Angeles changes the li...       97   \n",
       "978   After spending eight months in a mental instit...      122   \n",
       "428   A young girl sent to live with her father and ...       99   \n",
       "717   Animated fable about a clichÃ© hunchbacked evi...       87   \n",
       "1887  A trio of sisters bond over their ambivalence ...       94   \n",
       "\n",
       "                               genres  \\\n",
       "1396                    Horror|Comedy   \n",
       "978              Drama|Comedy|Romance   \n",
       "428           Fantasy|Horror|Thriller   \n",
       "717   Animation|Comedy|Family|Fantasy   \n",
       "1887                     Comedy|Drama   \n",
       "\n",
       "                                   production_companies release_date  \\\n",
       "1396  Craven-Maddalena Films|Outerbanks Entertainmen...   2005-02-24   \n",
       "978                               The Weinstein Company   2012-09-08   \n",
       "428   Miramax Films|Gran Via Productions|FilmDistric...   2010-11-06   \n",
       "717                Exodus Film Group|Exodus Productions   2008-09-19   \n",
       "1887  Laurence Mark Productions|Columbia Pictures Co...   2000-02-16   \n",
       "\n",
       "      vote_average  release_year     profit     month  \n",
       "1396           5.0          2005  -15705099   Февраль  \n",
       "978            6.9          2012  184738714  Сентябрь  \n",
       "428            5.4          2010   11993168    Ноябрь  \n",
       "717            5.4          2008    5000000  Сентябрь  \n",
       "1887           5.2          2000   -3962091   Февраль  "
      ]
     },
     "execution_count": 8,
     "metadata": {},
     "output_type": "execute_result"
    }
   ],
   "source": [
    "data.sample(5)"
   ]
  },
  {
   "cell_type": "markdown",
   "metadata": {
    "colab_type": "text",
    "id": "YxZaH-nPVp-L"
   },
   "source": [
    "# 1. У какого фильма из списка самый большой бюджет?"
   ]
  },
  {
   "cell_type": "markdown",
   "metadata": {
    "colab_type": "text",
    "id": "Nd-G5gX6Vp-M"
   },
   "source": [
    "Использовать варианты ответов в коде решения запрещено.    \n",
    "Вы думаете и в жизни у вас будут варианты ответов?)"
   ]
  },
  {
   "cell_type": "code",
   "execution_count": 9,
   "metadata": {
    "colab": {},
    "colab_type": "code",
    "id": "uVnXAY5RVp-O"
   },
   "outputs": [],
   "source": [
    "# в словарь вставляем номер вопроса и ваш ответ на него\n",
    "# Пример:\n",
    "answers['1'] = '2. Spider-Man 3 (tt0413300)'\n",
    "# запишите свой вариант ответа\n",
    "answers['1'] = '5. Pirates of the Caribbean: On Stranger Tides (tt1298650)'\n",
    "# если ответили верно, можете добавить комментарий со значком \"+\""
   ]
  },
  {
   "cell_type": "code",
   "execution_count": 10,
   "metadata": {
    "colab": {},
    "colab_type": "code",
    "id": "dZwb3m28Vp-S"
   },
   "outputs": [
    {
     "name": "stdout",
     "output_type": "stream",
     "text": [
      "380000000\n",
      "5. Pirates of the Caribbean: On Stranger Tides (tt1298650)\n"
     ]
    }
   ],
   "source": [
    "# тут пишем ваш код для решения данного вопроса:\n",
    "budget_max = data[data['budget'] == data['budget'].max()]\n",
    "print(data['budget'].max())\n",
    "answer_1 = '5. ' + budget_max['original_title'].values[0] + \\\n",
    "    ' (' + budget_max.imdb_id.values[0] + ')'\n",
    "print(answer_1)"
   ]
  },
  {
   "cell_type": "markdown",
   "metadata": {
    "colab_type": "text",
    "id": "K7L3nbRXVp-X"
   },
   "source": [
    "ВАРИАНТ 2"
   ]
  },
  {
   "cell_type": "code",
   "execution_count": 10,
   "metadata": {
    "colab": {},
    "colab_type": "code",
    "id": "OGaoQI7rVp-X"
   },
   "outputs": [],
   "source": [
    "# можно добавлять разные варианты решения"
   ]
  },
  {
   "cell_type": "markdown",
   "metadata": {
    "colab_type": "text",
    "id": "FNRbbI3vVp-c"
   },
   "source": [
    "# 2. Какой из фильмов самый длительный (в минутах)?"
   ]
  },
  {
   "cell_type": "code",
   "execution_count": 11,
   "metadata": {
    "colab": {},
    "colab_type": "code",
    "id": "vHAoEXNTVp-d"
   },
   "outputs": [],
   "source": [
    "# думаю логику работы с этим словарем вы уже поняли, \n",
    "# по этому не буду больше его дублировать\n",
    "answers['2'] = '2. Gods and Generals (tt0279111)'"
   ]
  },
  {
   "cell_type": "code",
   "execution_count": 12,
   "metadata": {
    "colab": {},
    "colab_type": "code",
    "id": "ot-VX2XrVp-g"
   },
   "outputs": [
    {
     "name": "stdout",
     "output_type": "stream",
     "text": [
      "214\n",
      "2. Gods and Generals (tt0279111)\n"
     ]
    }
   ],
   "source": [
    "max_time = data[data['runtime'] == data['runtime'].max()]\n",
    "print(data['runtime'].max())\n",
    "answers_2 = (\n",
    "    '2. ' + max_time.original_title.values[0] + ' (' + \n",
    "    max_time.imdb_id.values[0] + ')')\n",
    "print(answers_2)"
   ]
  },
  {
   "cell_type": "markdown",
   "metadata": {
    "colab_type": "text",
    "id": "bapLlpW8Vp-k"
   },
   "source": [
    "# 3. Какой из фильмов самый короткий (в минутах)?\n",
    "\n",
    "\n",
    "\n"
   ]
  },
  {
   "cell_type": "code",
   "execution_count": 13,
   "metadata": {},
   "outputs": [],
   "source": [
    "answers['3'] = '3. Winnie the Pooh (tt1449283)'"
   ]
  },
  {
   "cell_type": "code",
   "execution_count": 14,
   "metadata": {
    "colab": {},
    "colab_type": "code",
    "id": "YBxaSHuAVp-l"
   },
   "outputs": [
    {
     "name": "stdout",
     "output_type": "stream",
     "text": [
      "63\n",
      "3. Winnie the Pooh (tt1449283)\n"
     ]
    }
   ],
   "source": [
    "min_time = data[data['runtime'] == data['runtime'].min()]\n",
    "print(data['runtime'].min())\n",
    "answers_3 = (\n",
    "    '3. ' + min_time.original_title.values[0] + ' (' + \n",
    "    min_time.imdb_id.values[0] + ')')\n",
    "print(answers_3)"
   ]
  },
  {
   "cell_type": "code",
   "execution_count": 15,
   "metadata": {},
   "outputs": [
    {
     "data": {
      "text/plain": [
       "1"
      ]
     },
     "execution_count": 15,
     "metadata": {},
     "output_type": "execute_result"
    }
   ],
   "source": [
    "data['runtime'].value_counts()[63]"
   ]
  },
  {
   "cell_type": "markdown",
   "metadata": {
    "colab_type": "text",
    "id": "TfQbxbfNVp-p"
   },
   "source": [
    "# 4. Какова средняя длительность фильмов?\n"
   ]
  },
  {
   "cell_type": "code",
   "execution_count": 16,
   "metadata": {},
   "outputs": [],
   "source": [
    "answers['4'] = '2. 110'"
   ]
  },
  {
   "cell_type": "code",
   "execution_count": 17,
   "metadata": {
    "colab": {},
    "colab_type": "code",
    "id": "5K6dKZYVVp-q"
   },
   "outputs": [
    {
     "name": "stdout",
     "output_type": "stream",
     "text": [
      "2. 110\n"
     ]
    }
   ],
   "source": [
    "answers_4 = ('2. ' + str(round(data['runtime'].mean(),)))\n",
    "print(answers_4)"
   ]
  },
  {
   "cell_type": "markdown",
   "metadata": {
    "colab_type": "text",
    "id": "r5TvbnT_Vp-u"
   },
   "source": [
    "# 5. Каково медианное значение длительности фильмов? "
   ]
  },
  {
   "cell_type": "code",
   "execution_count": 18,
   "metadata": {},
   "outputs": [],
   "source": [
    "answers['5'] = '1. 107'"
   ]
  },
  {
   "cell_type": "code",
   "execution_count": 19,
   "metadata": {
    "colab": {},
    "colab_type": "code",
    "id": "iBROplKnVp-v"
   },
   "outputs": [
    {
     "name": "stdout",
     "output_type": "stream",
     "text": [
      "1. 107\n"
     ]
    }
   ],
   "source": [
    "answers_5 = ('1. ' + str(round(data['runtime'].median(),)))\n",
    "print(answers_5)"
   ]
  },
  {
   "cell_type": "markdown",
   "metadata": {
    "colab_type": "text",
    "id": "39P-deDSVp-y"
   },
   "source": [
    "# 6. Какой самый прибыльный фильм?\n",
    "#### Внимание! Здесь и далее под «прибылью» или «убытками» понимается разность между сборами и бюджетом фильма. (прибыль = сборы - бюджет) в нашем датасете это будет (profit = revenue - budget) "
   ]
  },
  {
   "cell_type": "code",
   "execution_count": 20,
   "metadata": {
    "colab": {},
    "colab_type": "code",
    "id": "UYZh4T9WVp-y"
   },
   "outputs": [],
   "source": [
    "# лучше код получения столбца profit вынести в Предобработку что в начале"
   ]
  },
  {
   "cell_type": "code",
   "execution_count": 20,
   "metadata": {},
   "outputs": [
    {
     "name": "stdout",
     "output_type": "stream",
     "text": [
      "2544505847\n",
      "5. Avatar (tt0499549)\n"
     ]
    }
   ],
   "source": [
    "profit_max = data[data['profit'] == data['profit'].max()]\n",
    "print(data['profit'].max())\n",
    "answers_6 = (\n",
    "    '5. ' + profit_max.original_title.values[0] + ' (' + \n",
    "    profit_max.imdb_id.values[0] + ')')\n",
    "print(answers_6)"
   ]
  },
  {
   "cell_type": "code",
   "execution_count": 21,
   "metadata": {},
   "outputs": [],
   "source": [
    "answers['6'] = '5. Avatar (tt0499549)'"
   ]
  },
  {
   "cell_type": "markdown",
   "metadata": {
    "colab_type": "text",
    "id": "M99JmIX4Vp-2"
   },
   "source": [
    "# 7. Какой фильм самый убыточный? "
   ]
  },
  {
   "cell_type": "code",
   "execution_count": 77,
   "metadata": {
    "colab": {},
    "colab_type": "code",
    "id": "w-D2m4XPVp-3"
   },
   "outputs": [
    {
     "name": "stdout",
     "output_type": "stream",
     "text": [
      "-165710090\n",
      "5. The Lone Ranger (tt1210819)\n"
     ]
    }
   ],
   "source": [
    "profit_min = data[data['profit'] == data['profit'].min()]\n",
    "print(data['profit'].min())\n",
    "answers_7 = (\n",
    "    '5. ' + profit_min.original_title.values[0] + ' (' +\n",
    "    profit_min.imdb_id.values[0] + ')')\n",
    "print(answers_7)"
   ]
  },
  {
   "cell_type": "code",
   "execution_count": 23,
   "metadata": {},
   "outputs": [],
   "source": [
    "answers['7'] = '5. The Lone Ranger (tt1210819)'"
   ]
  },
  {
   "cell_type": "markdown",
   "metadata": {
    "colab_type": "text",
    "id": "wEOM5ERVVp-6"
   },
   "source": [
    "# 8. У скольких фильмов из датасета объем сборов оказался выше бюджета?"
   ]
  },
  {
   "cell_type": "code",
   "execution_count": 24,
   "metadata": {
    "colab": {},
    "colab_type": "code",
    "id": "y00_7HD6Vp-7"
   },
   "outputs": [
    {
     "name": "stdout",
     "output_type": "stream",
     "text": [
      "1. 1478\n"
     ]
    }
   ],
   "source": [
    "profit_count = data[data['profit'] > 0]\n",
    "answers_8 = '1. ' + str(len(profit_count.index))\n",
    "print(answers_8)"
   ]
  },
  {
   "cell_type": "code",
   "execution_count": 25,
   "metadata": {},
   "outputs": [],
   "source": [
    "answers['8'] = '1. 1478'"
   ]
  },
  {
   "cell_type": "markdown",
   "metadata": {
    "colab_type": "text",
    "id": "xhpspA9KVp_A"
   },
   "source": [
    "# 9. Какой фильм оказался самым кассовым в 2008 году?"
   ]
  },
  {
   "cell_type": "code",
   "execution_count": 26,
   "metadata": {
    "colab": {},
    "colab_type": "code",
    "id": "MoUyQr9RVp_B"
   },
   "outputs": [
    {
     "name": "stdout",
     "output_type": "stream",
     "text": [
      "4. The Dark Knight (tt0468569)\n"
     ]
    }
   ],
   "source": [
    "grouped_year = data.groupby(['release_year'])['revenue'].max()\n",
    "year_2008 = data[data['revenue'] == grouped_year[2008]]\n",
    "answers_9 = (\n",
    "    '4. ' + year_2008.original_title.values[0] + ' (' +\n",
    "    year_2008.imdb_id.values[0] + ')')\n",
    "print(answers_9)"
   ]
  },
  {
   "cell_type": "code",
   "execution_count": 27,
   "metadata": {},
   "outputs": [],
   "source": [
    "answers['9'] = '4. The Dark Knight (tt0468569)'"
   ]
  },
  {
   "cell_type": "markdown",
   "metadata": {
    "colab_type": "text",
    "id": "Zi4hDKidVp_F"
   },
   "source": [
    "# 10. Самый убыточный фильм за период с 2012 по 2014 г. (включительно)?\n"
   ]
  },
  {
   "cell_type": "code",
   "execution_count": 28,
   "metadata": {
    "colab": {},
    "colab_type": "code",
    "id": "XqyRmufJVp_F"
   },
   "outputs": [
    {
     "name": "stdout",
     "output_type": "stream",
     "text": [
      "5. The Lone Ranger (tt1210819)\n"
     ]
    }
   ],
   "source": [
    "mini_data = data.query('release_year < 2015 & release_year > 2011')\n",
    "min_revenue = mini_data[mini_data['profit'] == mini_data.profit.min()]\n",
    "answers_10 = (\n",
    "    '5. ' + min_revenue.original_title.values[0] + ' (' +\n",
    "    min_revenue.imdb_id.values[0] + ')')\n",
    "print(answers_10)"
   ]
  },
  {
   "cell_type": "code",
   "execution_count": 29,
   "metadata": {},
   "outputs": [],
   "source": [
    "answers['10'] = '5. The Lone Ranger (tt1210819)'"
   ]
  },
  {
   "cell_type": "markdown",
   "metadata": {
    "colab_type": "text",
    "id": "EA7Sa9dkVp_I"
   },
   "source": [
    "# 11. Какого жанра фильмов больше всего?"
   ]
  },
  {
   "cell_type": "code",
   "execution_count": 30,
   "metadata": {},
   "outputs": [],
   "source": [
    "answers['11'] = '3. Drama'"
   ]
  },
  {
   "cell_type": "code",
   "execution_count": 31,
   "metadata": {
    "colab": {},
    "colab_type": "code",
    "id": "zsJAwJ8QVp_J"
   },
   "outputs": [
    {
     "name": "stdout",
     "output_type": "stream",
     "text": [
      "3. Drama\n"
     ]
    }
   ],
   "source": [
    "# эту задачу тоже можно решать разными подходами, попробуй реализовать разные варианты\n",
    "# если будешь добавлять функцию - выноси ее в предобработку что в начале\n",
    "# делаю список из genres и разделяю значения\n",
    "genres = data['genres'].str.split('|').tolist()\n",
    "# избавляюсь от вложенных списков\n",
    "flat_list = [item for sublist in genres for item in sublist]\n",
    "Count_list = Counter(flat_list)  # считаю\n",
    "answers_11 = ('3. ' + Count_list.most_common(1)[0][0])\n",
    "print(answers_11)"
   ]
  },
  {
   "cell_type": "markdown",
   "metadata": {
    "colab_type": "text",
    "id": "Ax6g2C8SVp_M"
   },
   "source": [
    "ВАРИАНТ 2"
   ]
  },
  {
   "cell_type": "code",
   "execution_count": 32,
   "metadata": {
    "colab": {},
    "colab_type": "code",
    "id": "otO3SbrSVp_N"
   },
   "outputs": [
    {
     "name": "stdout",
     "output_type": "stream",
     "text": [
      "3. Drama\n"
     ]
    }
   ],
   "source": [
    "genres = data['genres']\n",
    "answers_11 = ('3. ' + genre_counter(genres))\n",
    "print(answers_11)"
   ]
  },
  {
   "cell_type": "markdown",
   "metadata": {},
   "source": [
    "ВАРИАНТ 3"
   ]
  },
  {
   "cell_type": "code",
   "execution_count": 33,
   "metadata": {},
   "outputs": [
    {
     "name": "stdout",
     "output_type": "stream",
     "text": [
      "3. Drama\n"
     ]
    }
   ],
   "source": [
    "genres = data['genres'].tolist()\n",
    "genres_new = '|'.join(genres).split('|')\n",
    "genres_count = Counter(genres_new)\n",
    "answers_11 = ('3. ' + genres_count.most_common(1)[0][0])\n",
    "print(answers_11)"
   ]
  },
  {
   "cell_type": "markdown",
   "metadata": {
    "colab_type": "text",
    "id": "T9_bPWpkVp_Q"
   },
   "source": [
    "# 12. Фильмы какого жанра чаще всего становятся прибыльными? "
   ]
  },
  {
   "cell_type": "code",
   "execution_count": 34,
   "metadata": {},
   "outputs": [],
   "source": [
    "answers['12'] = '1. Drama'"
   ]
  },
  {
   "cell_type": "code",
   "execution_count": 35,
   "metadata": {
    "colab": {},
    "colab_type": "code",
    "id": "Tmt8MaK1Vp_R"
   },
   "outputs": [
    {
     "name": "stdout",
     "output_type": "stream",
     "text": [
      "1. Drama\n"
     ]
    }
   ],
   "source": [
    "genres_profit = data.query('profit > 0')['genres']\n",
    "answers_12 = ('1. ' + genre_counter(genres_profit))\n",
    "print(answers_12)"
   ]
  },
  {
   "cell_type": "markdown",
   "metadata": {
    "colab_type": "text",
    "id": "0F23bgsDVp_U"
   },
   "source": [
    "# 13. У какого режиссера самые большие суммарные кассовые сбооры?"
   ]
  },
  {
   "cell_type": "code",
   "execution_count": 36,
   "metadata": {},
   "outputs": [],
   "source": [
    "answers['13'] = '5. Peter Jackson'"
   ]
  },
  {
   "cell_type": "code",
   "execution_count": 37,
   "metadata": {
    "colab": {},
    "colab_type": "code",
    "id": "K6Z3J8ygVp_X"
   },
   "outputs": [
    {
     "data": {
      "text/plain": [
       "Peter Jackson        6490593685\n",
       "Christopher Nolan    4167548502\n",
       "David Yates          4154295625\n",
       "Michael Bay          3886938960\n",
       "J.J. Abrams          3579169916\n",
       "dtype: int64"
      ]
     },
     "metadata": {},
     "output_type": "display_data"
    },
    {
     "name": "stdout",
     "output_type": "stream",
     "text": [
      "3. Peter Jackson\n"
     ]
    }
   ],
   "source": [
    "director_count = pd.Series(data['director'].str.cat(sep='|').split('|'))\n",
    "director_count = director_count.value_counts(ascending=False)\n",
    "for director in director_count.index:\n",
    "    director_count[director] = data['revenue'][data['director'].map(\n",
    "        lambda x: True if director in x else False)].sum()\n",
    "director_revenue = director_count.sort_values(ascending=False)\n",
    "display(director_revenue.head(5))\n",
    "answers_13 = ('3. ' + director_revenue.index[0])\n",
    "print(answers_13)"
   ]
  },
  {
   "cell_type": "markdown",
   "metadata": {
    "colab_type": "text",
    "id": "PsYC9FgRVp_a"
   },
   "source": [
    "# 14. Какой режисер снял больше всего фильмов в стиле Action?"
   ]
  },
  {
   "cell_type": "code",
   "execution_count": 38,
   "metadata": {},
   "outputs": [],
   "source": [
    "answers['14'] = '3. Robert Rodriguez'"
   ]
  },
  {
   "cell_type": "code",
   "execution_count": 39,
   "metadata": {
    "colab": {},
    "colab_type": "code",
    "id": "wd2M-wHeVp_b"
   },
   "outputs": [
    {
     "data": {
      "text/plain": [
       "Robert Rodriguez      9\n",
       "Paul W.S. Anderson    7\n",
       "Michael Bay           7\n",
       "Ridley Scott          6\n",
       "Antoine Fuqua         6\n",
       "                     ..\n",
       "Michel Gondry         1\n",
       "Brian A Miller        1\n",
       "Tim Burton            1\n",
       "Boaz Yakin            1\n",
       "Andrew Dominik        1\n",
       "Length: 364, dtype: int64"
      ]
     },
     "metadata": {},
     "output_type": "display_data"
    },
    {
     "name": "stdout",
     "output_type": "stream",
     "text": [
      "3. Robert Rodriguez\n"
     ]
    }
   ],
   "source": [
    "action_genres = data[data.genres.str.contains(\"Action\", na=False)]\n",
    "director_count = pd.Series(\n",
    "    action_genres['director'].str.cat(sep='|').split('|'))\n",
    "some_director = director_count.value_counts(ascending=False)\n",
    "display(some_director.sort_values(ascending=False))\n",
    "answers_14 = ('3. ' + some_director.index[0])\n",
    "print(answers_14)"
   ]
  },
  {
   "cell_type": "code",
   "execution_count": 41,
   "metadata": {},
   "outputs": [
    {
     "name": "stdout",
     "output_type": "stream",
     "text": [
      "9\n"
     ]
    }
   ],
   "source": [
    "# проверка\n",
    "print(len(action_genres[action_genres.director.str.contains(\n",
    "    \"Robert Rodriguez\", na=False)]))"
   ]
  },
  {
   "cell_type": "markdown",
   "metadata": {
    "colab_type": "text",
    "id": "PQ0KciD7Vp_f"
   },
   "source": [
    "# 15. Фильмы с каким актером принесли самые высокие кассовые сборы в 2012 году? "
   ]
  },
  {
   "cell_type": "code",
   "execution_count": 74,
   "metadata": {},
   "outputs": [],
   "source": [
    "answers['15'] = '3. Chris Hemsworth'"
   ]
  },
  {
   "cell_type": "code",
   "execution_count": 73,
   "metadata": {},
   "outputs": [
    {
     "data": {
      "text/plain": [
       "Chris Hemsworth      2027450773\n",
       "Denis Leary          1629460639\n",
       "Anne Hathaway        1522851057\n",
       "Robert Downey Jr.    1519557910\n",
       "Chris Evans          1519557910\n",
       "                        ...    \n",
       "Paula Patton            3428048\n",
       "Danny Huston            2106557\n",
       "Nicolas Cage            2106557\n",
       "Sami Gayle              2106557\n",
       "Josh Lucas              2106557\n",
       "Length: 466, dtype: int64"
      ]
     },
     "metadata": {},
     "output_type": "display_data"
    },
    {
     "name": "stdout",
     "output_type": "stream",
     "text": [
      "3. Chris Hemsworth\n"
     ]
    }
   ],
   "source": [
    "data_12 = data.query('release_year == 2012')\n",
    "cast = pd.Series(data_12['cast'].str.cat(sep='|').split('|'))\n",
    "cast = cast.value_counts(ascending=False)\n",
    "for actor in cast.index:\n",
    "    cast[actor] = data_12['revenue'][data_12['cast'].map(\n",
    "        lambda x: True if actor in x else False)].sum()\n",
    "cast = cast.sort_values(ascending=False)\n",
    "display(cast)\n",
    "answers_15 = ('3. ' + cast.index[0])\n",
    "print(answers_15)"
   ]
  },
  {
   "cell_type": "code",
   "execution_count": 42,
   "metadata": {
    "colab": {},
    "colab_type": "code",
    "id": "aga62oeKVp_g"
   },
   "outputs": [
    {
     "name": "stdout",
     "output_type": "stream",
     "text": [
      "2027450773\n"
     ]
    }
   ],
   "source": [
    "# проверка\n",
    "print(data_12[data_12.cast.str.contains(\n",
    "    \"Chris Hemsworth\", na=False)]['revenue'].sum())"
   ]
  },
  {
   "cell_type": "markdown",
   "metadata": {
    "colab_type": "text",
    "id": "mWHyyL7QVp_j"
   },
   "source": [
    "# 16. Какой актер снялся в большем количестве высокобюджетных фильмов?"
   ]
  },
  {
   "cell_type": "code",
   "execution_count": 43,
   "metadata": {},
   "outputs": [],
   "source": [
    "answers['16'] = '3. Matt Damon'"
   ]
  },
  {
   "cell_type": "code",
   "execution_count": 44,
   "metadata": {
    "colab": {},
    "colab_type": "code",
    "id": "qQtmHKTFVp_k"
   },
   "outputs": [
    {
     "name": "stdout",
     "output_type": "stream",
     "text": [
      "Matt Damon        18\n",
      "Adam Sandler      17\n",
      "Angelina Jolie    16\n",
      "Eddie Murphy      15\n",
      "Tom Cruise        15\n",
      "                  ..\n",
      "Noah Schnapp       1\n",
      "Ellie Kemper       1\n",
      "Taylor Momsen      1\n",
      "Jena Malone        1\n",
      "Shuler Hensley     1\n",
      "Length: 1505, dtype: int64\n",
      "3. Matt Damon\n"
     ]
    }
   ],
   "source": [
    "big_budget = data[data['budget'] > data['budget'].mean()]\n",
    "cast = pd.Series(big_budget['cast'].str.cat(sep='|').split('|'))\n",
    "cast = cast.value_counts(ascending=False)\n",
    "print(cast)\n",
    "answers_16 = ('3. ' + cast.index[0])\n",
    "print(answers_16)"
   ]
  },
  {
   "cell_type": "code",
   "execution_count": 45,
   "metadata": {},
   "outputs": [
    {
     "name": "stdout",
     "output_type": "stream",
     "text": [
      "imdb_id                 18\n",
      "budget                  18\n",
      "revenue                 18\n",
      "original_title          18\n",
      "cast                    18\n",
      "director                18\n",
      "tagline                 18\n",
      "overview                18\n",
      "runtime                 18\n",
      "genres                  18\n",
      "production_companies    18\n",
      "release_date            18\n",
      "vote_average            18\n",
      "release_year            18\n",
      "profit                  18\n",
      "month                   18\n",
      "dtype: int64\n"
     ]
    }
   ],
   "source": [
    "# проверка\n",
    "print(big_budget[big_budget.cast.str.contains(\"Matt Damon\", na=False)].count())"
   ]
  },
  {
   "cell_type": "markdown",
   "metadata": {
    "colab_type": "text",
    "id": "NIh6AaW5Vp_n"
   },
   "source": [
    "# 17. В фильмах какого жанра больше всего снимался Nicolas Cage? "
   ]
  },
  {
   "cell_type": "code",
   "execution_count": 46,
   "metadata": {},
   "outputs": [],
   "source": [
    "answers['17'] = '2. Action'"
   ]
  },
  {
   "cell_type": "code",
   "execution_count": 47,
   "metadata": {
    "colab": {},
    "colab_type": "code",
    "id": "H74SJDIBVp_n"
   },
   "outputs": [
    {
     "name": "stdout",
     "output_type": "stream",
     "text": [
      "Action             17\n",
      "Thriller           15\n",
      "Drama              12\n",
      "Crime              10\n",
      "Fantasy             8\n",
      "Adventure           7\n",
      "Comedy              6\n",
      "Science Fiction     4\n",
      "Animation           3\n",
      "Family              3\n",
      "Mystery             3\n",
      "History             2\n",
      "War                 1\n",
      "Horror              1\n",
      "Romance             1\n",
      "dtype: int64\n",
      "2. Action\n"
     ]
    }
   ],
   "source": [
    "data_nicolas = data[data.cast.str.contains(\"Nicolas Cage\", na=False)]\n",
    "genres = pd.Series(data_nicolas['genres'].str.cat(sep='|').split('|'))\n",
    "genres = genres.value_counts(ascending=False)\n",
    "print(genres)\n",
    "answers_17 = ('2. ' + genres.index[0])\n",
    "print(answers_17)"
   ]
  },
  {
   "cell_type": "code",
   "execution_count": 48,
   "metadata": {},
   "outputs": [
    {
     "name": "stdout",
     "output_type": "stream",
     "text": [
      "imdb_id                 17\n",
      "budget                  17\n",
      "revenue                 17\n",
      "original_title          17\n",
      "cast                    17\n",
      "director                17\n",
      "tagline                 17\n",
      "overview                17\n",
      "runtime                 17\n",
      "genres                  17\n",
      "production_companies    17\n",
      "release_date            17\n",
      "vote_average            17\n",
      "release_year            17\n",
      "profit                  17\n",
      "month                   17\n",
      "dtype: int64\n"
     ]
    }
   ],
   "source": [
    "# проверка\n",
    "print(data_nicolas[data_nicolas.genres.str.contains(\n",
    "    \"Action\", na=False)].count())"
   ]
  },
  {
   "cell_type": "markdown",
   "metadata": {
    "colab_type": "text",
    "id": "RqOmPRfWVp_q"
   },
   "source": [
    "# 18. Самый убыточный фильм от Paramount Pictures"
   ]
  },
  {
   "cell_type": "code",
   "execution_count": 49,
   "metadata": {},
   "outputs": [],
   "source": [
    "answers['18'] = '1. K-19: The Widowmaker (tt0267626)'"
   ]
  },
  {
   "cell_type": "code",
   "execution_count": 50,
   "metadata": {
    "colab": {},
    "colab_type": "code",
    "id": "9E_B0Y96Vp_r"
   },
   "outputs": [
    {
     "name": "stdout",
     "output_type": "stream",
     "text": [
      "1. K-19: The Widowmaker (tt0267626)\n"
     ]
    }
   ],
   "source": [
    "data_ParPic = data[data.production_companies.str.contains(\n",
    "    \"Paramount Pictures\", na=False)]\n",
    "min_profit = data_ParPic[data_ParPic.profit == data_ParPic.profit.min()]\n",
    "answer_18 = '1. ' + min_profit['original_title'].values[0] + \\\n",
    "    ' (' + min_profit.imdb_id.values[0] + ')'\n",
    "print(answer_18)"
   ]
  },
  {
   "cell_type": "code",
   "execution_count": null,
   "metadata": {},
   "outputs": [],
   "source": []
  },
  {
   "cell_type": "markdown",
   "metadata": {
    "colab_type": "text",
    "id": "vS8Ur6ddVp_u"
   },
   "source": [
    "# 19. Какой год стал самым успешным по суммарным кассовым сборам?"
   ]
  },
  {
   "cell_type": "code",
   "execution_count": 51,
   "metadata": {},
   "outputs": [],
   "source": [
    "answers['19'] = '5. 2015'"
   ]
  },
  {
   "cell_type": "code",
   "execution_count": 52,
   "metadata": {
    "colab": {},
    "colab_type": "code",
    "id": "Dnbt4GdIVp_v"
   },
   "outputs": [
    {
     "name": "stdout",
     "output_type": "stream",
     "text": [
      "release_year\n",
      "2015    25449202382\n",
      "2014    23405862953\n",
      "2013    23213799791\n",
      "2012    23079001687\n",
      "2011    22676791872\n",
      "Name: revenue, dtype: int64\n",
      "5. 2015\n"
     ]
    }
   ],
   "source": [
    "year_data = data.groupby(['release_year'])['revenue'].sum()\n",
    "year_data = year_data.sort_values(ascending=False)\n",
    "print(year_data.head(5))\n",
    "answers_19 = ('5. ' + str(year_data.index[0]))\n",
    "print(answers_19)"
   ]
  },
  {
   "cell_type": "markdown",
   "metadata": {
    "colab_type": "text",
    "id": "JAzJh4QAVp_z"
   },
   "source": [
    "# 20. Какой самый прибыльный год для студии Warner Bros?"
   ]
  },
  {
   "cell_type": "code",
   "execution_count": 54,
   "metadata": {
    "colab": {},
    "colab_type": "code",
    "id": "wgVu02DEVp_0"
   },
   "outputs": [],
   "source": [
    "answers['20'] = '1. 2014'"
   ]
  },
  {
   "cell_type": "code",
   "execution_count": 55,
   "metadata": {},
   "outputs": [
    {
     "name": "stdout",
     "output_type": "stream",
     "text": [
      "1. 2014\n"
     ]
    }
   ],
   "source": [
    "data_WBros = data[data.production_companies.str.contains(\n",
    "    \"Warner Bros\", na=False)]\n",
    "data_WBros = data_WBros.groupby(['release_year'])['profit'].sum()\n",
    "data_WBros = data_WBros.sort_values(ascending=False)\n",
    "answers_20 = ('1. ' + str(data_WBros.index[0]))\n",
    "print(answers_20)"
   ]
  },
  {
   "cell_type": "markdown",
   "metadata": {
    "colab_type": "text",
    "id": "8Im1S2HRVp_4"
   },
   "source": [
    "# 21. В каком месяце за все годы суммарно вышло больше всего фильмов?"
   ]
  },
  {
   "cell_type": "code",
   "execution_count": 56,
   "metadata": {
    "colab": {},
    "colab_type": "code",
    "id": "lev6TH7gVp_4"
   },
   "outputs": [],
   "source": [
    "answers['21'] = '4. Сентябрь'"
   ]
  },
  {
   "cell_type": "code",
   "execution_count": 57,
   "metadata": {},
   "outputs": [
    {
     "data": {
      "text/plain": [
       "month\n",
       "Сентябрь    227\n",
       "Декабрь     190\n",
       "Октябрь     186\n",
       "Август      161\n",
       "Март        156\n",
       "Апрель      149\n",
       "Июнь        147\n",
       "Ноябрь      146\n",
       "Июль        142\n",
       "Май         140\n",
       "Февраль     135\n",
       "Январь      110\n",
       "Name: original_title, dtype: int64"
      ]
     },
     "metadata": {},
     "output_type": "display_data"
    },
    {
     "name": "stdout",
     "output_type": "stream",
     "text": [
      "4. Сентябрь\n"
     ]
    }
   ],
   "source": [
    "data_month = data.groupby(data['month'])['original_title'].count()\n",
    "data_month = data_month.sort_values(ascending=False)\n",
    "display(data_month)\n",
    "answers_21 = ('4. ' + str(data_month.index[0]))\n",
    "print(answers_21)"
   ]
  },
  {
   "cell_type": "markdown",
   "metadata": {
    "colab_type": "text",
    "id": "uAJsZ_NeVp_7"
   },
   "source": [
    "# 22. Сколько суммарно вышло фильмов летом? (за июнь, июль, август)"
   ]
  },
  {
   "cell_type": "code",
   "execution_count": 58,
   "metadata": {
    "colab": {},
    "colab_type": "code",
    "id": "Aa-hEREoVp_8"
   },
   "outputs": [],
   "source": [
    "answers['22'] = '2. 450'"
   ]
  },
  {
   "cell_type": "code",
   "execution_count": 59,
   "metadata": {},
   "outputs": [
    {
     "data": {
      "text/plain": [
       "450"
      ]
     },
     "metadata": {},
     "output_type": "display_data"
    },
    {
     "name": "stdout",
     "output_type": "stream",
     "text": [
      "2. 450\n"
     ]
    }
   ],
   "source": [
    "data_summer = data[data['month'].isin(['Июнь', 'Июль', 'Август'])]\n",
    "data_summer = data_summer.original_title.count()\n",
    "display(data_summer)\n",
    "answers_22 = ('2. ' + str(data_summer))\n",
    "print(answers_22)"
   ]
  },
  {
   "cell_type": "markdown",
   "metadata": {
    "colab_type": "text",
    "id": "G94ppOY1VqAA"
   },
   "source": [
    "# 23. Для какого режиссера зима – самое продуктивное время года? "
   ]
  },
  {
   "cell_type": "code",
   "execution_count": 60,
   "metadata": {
    "colab": {},
    "colab_type": "code",
    "id": "RhNTsamuVqAB"
   },
   "outputs": [],
   "source": [
    "answers['23'] = '5. Peter Jackson'"
   ]
  },
  {
   "cell_type": "code",
   "execution_count": 61,
   "metadata": {},
   "outputs": [
    {
     "name": "stdout",
     "output_type": "stream",
     "text": [
      "5. Peter Jackson\n"
     ]
    }
   ],
   "source": [
    "data_winter = data[data['month'].isin(['Декабрь', 'Январь', 'Февраль'])]\n",
    "director_count = pd.Series(data_winter['director'].str.cat(sep='|').split('|'))\n",
    "some_director = director_count.value_counts(ascending=False)\n",
    "answers_23 = ('5. ' + some_director.index[0])\n",
    "print(answers_23)"
   ]
  },
  {
   "cell_type": "markdown",
   "metadata": {
    "colab_type": "text",
    "id": "RBo0JVjVVqAF"
   },
   "source": [
    "# 24. Какая студия дает самые длинные названия своим фильмам по количеству символов?"
   ]
  },
  {
   "cell_type": "code",
   "execution_count": 62,
   "metadata": {
    "colab": {},
    "colab_type": "code",
    "id": "QRGS8L0iVqAG"
   },
   "outputs": [],
   "source": [
    "answers['24'] = '5. Four By Two Productions'"
   ]
  },
  {
   "cell_type": "code",
   "execution_count": 63,
   "metadata": {},
   "outputs": [
    {
     "data": {
      "text/plain": [
       "Four By Two Productions       83\n",
       "Jim Henson Company, The       59\n",
       "Dos Corazones                 47\n",
       "Polsky Films                  46\n",
       "Museum Canada Productions     46\n",
       "                              ..\n",
       "Everest Entertainment          3\n",
       "Berlanti Productions           3\n",
       "XM2 Productions                2\n",
       "Global Entertainment Group     2\n",
       "Ixtlan Productions             2\n",
       "Length: 1771, dtype: int64"
      ]
     },
     "metadata": {},
     "output_type": "display_data"
    },
    {
     "name": "stdout",
     "output_type": "stream",
     "text": [
      "5. Four By Two Productions\n"
     ]
    }
   ],
   "source": [
    "data_mini = data.loc[:, ('original_title', 'production_companies')]\n",
    "data_mini['length'] = data['original_title'].str.len()\n",
    "# используем функции из предобработки\n",
    "companies = length_calculation(data_mini)\n",
    "display(companies)\n",
    "answers_24 = ('5. ' + companies.index[0])\n",
    "print(answers_24)"
   ]
  },
  {
   "cell_type": "markdown",
   "metadata": {
    "colab_type": "text",
    "id": "9G0hbvR7VqAK"
   },
   "source": [
    "# 25. Описание фильмов какой студии в среднем самые длинные по количеству слов?"
   ]
  },
  {
   "cell_type": "code",
   "execution_count": 64,
   "metadata": {},
   "outputs": [],
   "source": [
    "answers['25'] = '3. Midnight Picture Show'"
   ]
  },
  {
   "cell_type": "code",
   "execution_count": 65,
   "metadata": {
    "colab": {},
    "colab_type": "code",
    "id": "Ge2GsLNxVqAK"
   },
   "outputs": [
    {
     "data": {
      "text/plain": [
       "Midnight Picture Show                          175\n",
       "Heineken Branded Entertainment                 161\n",
       "Room 9 Entertainment                           161\n",
       "98 MPH Productions                             159\n",
       "Brookwell-McNamara Entertainment               156\n",
       "                                              ... \n",
       "Sony Pictures Worldwide Acquisitions (SPWA)     13\n",
       "Our Stories Films                               13\n",
       "Phantom Four                                    13\n",
       "Empire Pictures                                 11\n",
       "Motion Picture Corporation of America           11\n",
       "Length: 1771, dtype: int64"
      ]
     },
     "metadata": {},
     "output_type": "display_data"
    },
    {
     "name": "stdout",
     "output_type": "stream",
     "text": [
      "3. Midnight Picture Show\n"
     ]
    }
   ],
   "source": [
    "data_mini = data.loc[:, ('overview', 'production_companies')]\n",
    "data_mini['length'] = [len(x.split(' ')) for x in data_mini['overview']]\n",
    "# используем функции из предобработки\n",
    "companies = length_calculation(data_mini)\n",
    "display(companies)\n",
    "answers_25 = ('3. ' + companies.index[0])\n",
    "print(answers_25)"
   ]
  },
  {
   "cell_type": "markdown",
   "metadata": {
    "colab_type": "text",
    "id": "FJ1AFt90VqAP"
   },
   "source": [
    "# 26. Какие фильмы входят в 1 процент лучших по рейтингу? \n",
    "по vote_average"
   ]
  },
  {
   "cell_type": "code",
   "execution_count": 66,
   "metadata": {},
   "outputs": [],
   "source": [
    "answers['26'] = '1. Inside Out, The Dark Knight, 12 Years a Slave'"
   ]
  },
  {
   "cell_type": "code",
   "execution_count": 67,
   "metadata": {
    "colab": {},
    "colab_type": "code",
    "id": "8qmJVq4CVqAQ"
   },
   "outputs": [
    {
     "data": {
      "text/html": [
       "<div>\n",
       "<style scoped>\n",
       "    .dataframe tbody tr th:only-of-type {\n",
       "        vertical-align: middle;\n",
       "    }\n",
       "\n",
       "    .dataframe tbody tr th {\n",
       "        vertical-align: top;\n",
       "    }\n",
       "\n",
       "    .dataframe thead th {\n",
       "        text-align: right;\n",
       "    }\n",
       "</style>\n",
       "<table border=\"1\" class=\"dataframe\">\n",
       "  <thead>\n",
       "    <tr style=\"text-align: right;\">\n",
       "      <th></th>\n",
       "      <th>original_title</th>\n",
       "      <th>vote_average</th>\n",
       "    </tr>\n",
       "  </thead>\n",
       "  <tbody>\n",
       "    <tr>\n",
       "      <th>599</th>\n",
       "      <td>The Dark Knight</td>\n",
       "      <td>8.1</td>\n",
       "    </tr>\n",
       "    <tr>\n",
       "      <th>9</th>\n",
       "      <td>Inside Out</td>\n",
       "      <td>8.0</td>\n",
       "    </tr>\n",
       "    <tr>\n",
       "      <th>1081</th>\n",
       "      <td>The Lord of the Rings: The Return of the King</td>\n",
       "      <td>7.9</td>\n",
       "    </tr>\n",
       "    <tr>\n",
       "      <th>1191</th>\n",
       "      <td>12 Years a Slave</td>\n",
       "      <td>7.9</td>\n",
       "    </tr>\n",
       "  </tbody>\n",
       "</table>\n",
       "</div>"
      ],
      "text/plain": [
       "                                     original_title  vote_average\n",
       "599                                 The Dark Knight           8.1\n",
       "9                                        Inside Out           8.0\n",
       "1081  The Lord of the Rings: The Return of the King           7.9\n",
       "1191                               12 Years a Slave           7.9"
      ]
     },
     "execution_count": 67,
     "metadata": {},
     "output_type": "execute_result"
    }
   ],
   "source": [
    "top_films = ['Inside Out', 'The Dark Knight', '12 Years a Slave',\n",
    "             'BloodRayne', 'The Adventures of Rocky & Bullwinkle',\n",
    "             'Batman Begins', 'The Lord of the Rings: The Return of the King',\n",
    "             'Upside Down', '300', 'Lucky Number Slevin', 'Kill Bill: Vol. 1']\n",
    "data_average = data.sort_values(\n",
    "    ['vote_average', 'original_title'], ascending=False)  # сортируем по рейтингу\n",
    "last_procent = data_average.head(len(data) // 100)  # берем 1% лучших фильмов\n",
    "last_procent.query('original_title in @top_films')[\n",
    "    ['original_title', 'vote_average']]\n",
    "# смотрим результат нашей выборки и определем какие фильмы из 1%"
   ]
  },
  {
   "cell_type": "markdown",
   "metadata": {
    "colab_type": "text",
    "id": "MdXsUXbCVqAV"
   },
   "source": [
    "# 27. Какие актеры чаще всего снимаются в одном фильме вместе?\n"
   ]
  },
  {
   "cell_type": "code",
   "execution_count": 68,
   "metadata": {},
   "outputs": [],
   "source": [
    "answers['27'] = '5. Daniel Radcliffe & Rupert Grint'"
   ]
  },
  {
   "cell_type": "code",
   "execution_count": 69,
   "metadata": {},
   "outputs": [
    {
     "name": "stdout",
     "output_type": "stream",
     "text": [
      "Counter({'Daniel Radcliffe & Rupert Grint': 8, 'Ben Stiller & Owen Wilson': 6, 'Helena Bonham Carter & Johnny Depp': 6, 'Paul Walker & Vin Diesel': 5, 'Adam Sandler & Kevin James': 5})\n",
      "5. Daniel Radcliffe & Rupert Grint\n"
     ]
    }
   ],
   "source": [
    "top_couples = ['Ben Stiller & Owen Wilson', 'Paul Walker & Vin Diesel',\n",
    "               'Helena Bonham Carter & Johnny Depp', 'Adam Sandler & Kevin James',\n",
    "               'Daniel Radcliffe & Rupert Grint']\n",
    "# пары записаны, исходя из алфавитной сортировки актеров\n",
    "actors = [x.split('|') for x in data['cast']]  # разьединяем актеров\n",
    "# сортируем актеров по алфавиту, чтобы не было перевернутых пар\n",
    "actors = [tuple(sorted(x)) for x in actors]\n",
    "couples = [list(it.combinations(x, 2))\n",
    "           for x in actors]  # собираем все возможные пары\n",
    "# склеиваем пары символом &\n",
    "actor_list = [' & '.join(item) for sublist in couples for item in sublist]\n",
    "Count_list = Counter([actor for actor in actor_list if actor in top_couples])\n",
    "print(Count_list)\n",
    "answers_27 = ('5. ' + Count_list.most_common(1)[0][0])\n",
    "print(answers_27)"
   ]
  },
  {
   "cell_type": "markdown",
   "metadata": {
    "colab_type": "text",
    "id": "4ymnxEVoVqAW"
   },
   "source": [
    "ВАРИАНТ 2"
   ]
  },
  {
   "cell_type": "code",
   "execution_count": 70,
   "metadata": {},
   "outputs": [
    {
     "name": "stdout",
     "output_type": "stream",
     "text": [
      "0    6\n",
      "1    5\n",
      "2    6\n",
      "3    5\n",
      "4    8\n",
      "dtype: object\n"
     ]
    }
   ],
   "source": [
    "top_couples = pd.Series([['Ben Stiller', 'Owen Wilson'], ['Paul Walker', 'Vin Diesel'],\n",
    "                         ['Helena Bonham Carter', 'Johnny Depp'], [\n",
    "                             'Adam Sandler', 'Kevin James'],\n",
    "                         ['Daniel Radcliffe', 'Rupert Grint']])\n",
    "# будем идти от ответов и посмотрим сколько раз они встречаются в паре\n",
    "couples = (data['cast'].str.split('|'))\n",
    "for actor in top_couples.index:\n",
    "    filter_actor = [x for x in couples if (\n",
    "        top_couples[actor][0] in x) and (top_couples[actor][1] in x)]\n",
    "    # получаем коллекции актеров, в которых есть наша пар и считаем их количество\n",
    "    top_couples[actor] = len(filter_actor)\n",
    "print(top_couples)\n",
    "# таким образом мы видим, что последняя пара чаще всего снимаются в одном фильме"
   ]
  },
  {
   "cell_type": "markdown",
   "metadata": {
    "colab_type": "text",
    "id": "U0nONFnGVqAX"
   },
   "source": [
    "# Submission"
   ]
  },
  {
   "cell_type": "code",
   "execution_count": 75,
   "metadata": {
    "colab": {},
    "colab_type": "code",
    "id": "IfcaRO9-VqAX",
    "outputId": "0f132912-32bb-4196-c98c-abfbc4ad5a5f"
   },
   "outputs": [
    {
     "data": {
      "text/plain": [
       "{'1': '5. Pirates of the Caribbean: On Stranger Tides (tt1298650)',\n",
       " '2': '2. Gods and Generals (tt0279111)',\n",
       " '3': '3. Winnie the Pooh (tt1449283)',\n",
       " '4': '2. 110',\n",
       " '5': '1. 107',\n",
       " '6': '5. Avatar (tt0499549)',\n",
       " '7': '5. The Lone Ranger (tt1210819)',\n",
       " '8': '1. 1478',\n",
       " '9': '4. The Dark Knight (tt0468569)',\n",
       " '10': '5. The Lone Ranger (tt1210819)',\n",
       " '11': '3. Drama',\n",
       " '12': '1. Drama',\n",
       " '13': '5. Peter Jackson',\n",
       " '14': '3. Robert Rodriguez',\n",
       " '16': '3. Matt Damon',\n",
       " '17': '2. Action',\n",
       " '18': '1. K-19: The Widowmaker (tt0267626)',\n",
       " '19': '5. 2015',\n",
       " '20': '1. 2014',\n",
       " '21': '4. Сентябрь',\n",
       " '22': '2. 450',\n",
       " '23': '5. Peter Jackson',\n",
       " '24': '5. Four By Two Productions',\n",
       " '25': '3. Midnight Picture Show',\n",
       " '26': '1. Inside Out, The Dark Knight, 12 Years a Slave',\n",
       " '27': '5. Daniel Radcliffe & Rupert Grint',\n",
       " '15': '3. Chris Hemsworth'}"
      ]
     },
     "execution_count": 75,
     "metadata": {},
     "output_type": "execute_result"
    }
   ],
   "source": [
    "# в конце можно посмотреть свои ответы к каждому вопросу\n",
    "answers"
   ]
  },
  {
   "cell_type": "code",
   "execution_count": 76,
   "metadata": {
    "colab": {},
    "colab_type": "code",
    "id": "SiRmHPl8VqAd"
   },
   "outputs": [
    {
     "data": {
      "text/plain": [
       "27"
      ]
     },
     "execution_count": 76,
     "metadata": {},
     "output_type": "execute_result"
    }
   ],
   "source": [
    "# и убедиться что ни чего не пропустил)\n",
    "len(answers)"
   ]
  },
  {
   "cell_type": "code",
   "execution_count": null,
   "metadata": {
    "colab": {},
    "colab_type": "code",
    "id": "uCfuTkRbVqAg"
   },
   "outputs": [],
   "source": []
  },
  {
   "cell_type": "code",
   "execution_count": null,
   "metadata": {
    "colab": {},
    "colab_type": "code",
    "id": "Vwx3NrkSVqAl"
   },
   "outputs": [],
   "source": []
  }
 ],
 "metadata": {
  "colab": {
   "name": "Copy of [SF-DST] Movies IMBD v4.1 TEMPLATE.ipynb",
   "provenance": []
  },
  "hide_input": false,
  "kernelspec": {
   "display_name": "Python 3",
   "language": "python",
   "name": "python3"
  },
  "language_info": {
   "codemirror_mode": {
    "name": "ipython",
    "version": 3
   },
   "file_extension": ".py",
   "mimetype": "text/x-python",
   "name": "python",
   "nbconvert_exporter": "python",
   "pygments_lexer": "ipython3",
   "version": "3.7.6"
  },
  "latex_envs": {
   "LaTeX_envs_menu_present": true,
   "autoclose": false,
   "autocomplete": true,
   "bibliofile": "biblio.bib",
   "cite_by": "apalike",
   "current_citInitial": 1,
   "eqLabelWithNumbers": true,
   "eqNumInitial": 1,
   "hotkeys": {
    "equation": "Ctrl-E",
    "itemize": "Ctrl-I"
   },
   "labels_anchors": false,
   "latex_user_defs": false,
   "report_style_numbering": false,
   "user_envs_cfg": false
  },
  "toc": {
   "base_numbering": 1,
   "nav_menu": {},
   "number_sections": true,
   "sideBar": true,
   "skip_h1_title": false,
   "title_cell": "Table of Contents",
   "title_sidebar": "Contents",
   "toc_cell": false,
   "toc_position": {},
   "toc_section_display": true,
   "toc_window_display": false
  }
 },
 "nbformat": 4,
 "nbformat_minor": 1
}
